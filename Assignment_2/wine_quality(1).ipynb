{
 "cells": [
  {
   "cell_type": "markdown",
   "metadata": {},
   "source": [
    "### Load Libraries"
   ]
  },
  {
   "cell_type": "code",
   "execution_count": 1,
   "metadata": {},
   "outputs": [],
   "source": [
    "import pandas as pd\n",
    "import matplotlib.pyplot as plt\n",
    "%matplotlib inline\n",
    "import seaborn as sns\n",
    "import numpy as np\n",
    "\n",
    "from collections import Counter\n",
    "from imblearn.datasets import make_imbalance\n",
    "import sklearn.cluster as cluster"
   ]
  },
  {
   "cell_type": "code",
   "execution_count": 2,
   "metadata": {},
   "outputs": [],
   "source": [
    "#load the data\n",
    "df = pd.read_csv('wine.csv')\n",
    "# to visualize all the columns at once.\n",
    "#pd.set_option('display.max_columns', None)"
   ]
  },
  {
   "cell_type": "code",
   "execution_count": 3,
   "metadata": {},
   "outputs": [
    {
     "data": {
      "text/html": [
       "<div>\n",
       "<style scoped>\n",
       "    .dataframe tbody tr th:only-of-type {\n",
       "        vertical-align: middle;\n",
       "    }\n",
       "\n",
       "    .dataframe tbody tr th {\n",
       "        vertical-align: top;\n",
       "    }\n",
       "\n",
       "    .dataframe thead th {\n",
       "        text-align: right;\n",
       "    }\n",
       "</style>\n",
       "<table border=\"1\" class=\"dataframe\">\n",
       "  <thead>\n",
       "    <tr style=\"text-align: right;\">\n",
       "      <th></th>\n",
       "      <th>fixed acidity</th>\n",
       "      <th>volatile acidity</th>\n",
       "      <th>citric acid</th>\n",
       "      <th>residual sugar</th>\n",
       "      <th>chlorides</th>\n",
       "      <th>free sulfur dioxide</th>\n",
       "      <th>total sulfur dioxide</th>\n",
       "      <th>density</th>\n",
       "      <th>pH</th>\n",
       "      <th>sulphates</th>\n",
       "      <th>alcohol</th>\n",
       "      <th>quality</th>\n",
       "    </tr>\n",
       "  </thead>\n",
       "  <tbody>\n",
       "    <tr>\n",
       "      <th>0</th>\n",
       "      <td>7.4</td>\n",
       "      <td>0.70</td>\n",
       "      <td>0.00</td>\n",
       "      <td>1.9</td>\n",
       "      <td>0.076</td>\n",
       "      <td>11.0</td>\n",
       "      <td>34.0</td>\n",
       "      <td>0.9978</td>\n",
       "      <td>3.51</td>\n",
       "      <td>0.56</td>\n",
       "      <td>9.4</td>\n",
       "      <td>bad</td>\n",
       "    </tr>\n",
       "    <tr>\n",
       "      <th>1</th>\n",
       "      <td>7.8</td>\n",
       "      <td>0.88</td>\n",
       "      <td>0.00</td>\n",
       "      <td>2.6</td>\n",
       "      <td>0.098</td>\n",
       "      <td>25.0</td>\n",
       "      <td>67.0</td>\n",
       "      <td>0.9968</td>\n",
       "      <td>3.20</td>\n",
       "      <td>0.68</td>\n",
       "      <td>9.8</td>\n",
       "      <td>bad</td>\n",
       "    </tr>\n",
       "    <tr>\n",
       "      <th>2</th>\n",
       "      <td>7.8</td>\n",
       "      <td>0.76</td>\n",
       "      <td>0.04</td>\n",
       "      <td>2.3</td>\n",
       "      <td>0.092</td>\n",
       "      <td>15.0</td>\n",
       "      <td>54.0</td>\n",
       "      <td>0.9970</td>\n",
       "      <td>3.26</td>\n",
       "      <td>0.65</td>\n",
       "      <td>9.8</td>\n",
       "      <td>bad</td>\n",
       "    </tr>\n",
       "    <tr>\n",
       "      <th>3</th>\n",
       "      <td>11.2</td>\n",
       "      <td>0.28</td>\n",
       "      <td>0.56</td>\n",
       "      <td>1.9</td>\n",
       "      <td>0.075</td>\n",
       "      <td>17.0</td>\n",
       "      <td>60.0</td>\n",
       "      <td>0.9980</td>\n",
       "      <td>3.16</td>\n",
       "      <td>0.58</td>\n",
       "      <td>9.8</td>\n",
       "      <td>good</td>\n",
       "    </tr>\n",
       "    <tr>\n",
       "      <th>4</th>\n",
       "      <td>7.4</td>\n",
       "      <td>0.70</td>\n",
       "      <td>0.00</td>\n",
       "      <td>1.9</td>\n",
       "      <td>0.076</td>\n",
       "      <td>11.0</td>\n",
       "      <td>34.0</td>\n",
       "      <td>0.9978</td>\n",
       "      <td>3.51</td>\n",
       "      <td>0.56</td>\n",
       "      <td>9.4</td>\n",
       "      <td>bad</td>\n",
       "    </tr>\n",
       "  </tbody>\n",
       "</table>\n",
       "</div>"
      ],
      "text/plain": [
       "   fixed acidity  volatile acidity  citric acid  residual sugar  chlorides  \\\n",
       "0            7.4              0.70         0.00             1.9      0.076   \n",
       "1            7.8              0.88         0.00             2.6      0.098   \n",
       "2            7.8              0.76         0.04             2.3      0.092   \n",
       "3           11.2              0.28         0.56             1.9      0.075   \n",
       "4            7.4              0.70         0.00             1.9      0.076   \n",
       "\n",
       "   free sulfur dioxide  total sulfur dioxide  density    pH  sulphates  \\\n",
       "0                 11.0                  34.0   0.9978  3.51       0.56   \n",
       "1                 25.0                  67.0   0.9968  3.20       0.68   \n",
       "2                 15.0                  54.0   0.9970  3.26       0.65   \n",
       "3                 17.0                  60.0   0.9980  3.16       0.58   \n",
       "4                 11.0                  34.0   0.9978  3.51       0.56   \n",
       "\n",
       "   alcohol quality  \n",
       "0      9.4     bad  \n",
       "1      9.8     bad  \n",
       "2      9.8     bad  \n",
       "3      9.8    good  \n",
       "4      9.4     bad  "
      ]
     },
     "execution_count": 3,
     "metadata": {},
     "output_type": "execute_result"
    }
   ],
   "source": [
    "#fetch first five rows\n",
    "df.head()"
   ]
  },
  {
   "cell_type": "code",
   "execution_count": 4,
   "metadata": {},
   "outputs": [
    {
     "name": "stdout",
     "output_type": "stream",
     "text": [
      "<class 'pandas.core.frame.DataFrame'>\n",
      "RangeIndex: 1599 entries, 0 to 1598\n",
      "Data columns (total 12 columns):\n",
      " #   Column                Non-Null Count  Dtype  \n",
      "---  ------                --------------  -----  \n",
      " 0   fixed acidity         1599 non-null   float64\n",
      " 1   volatile acidity      1599 non-null   float64\n",
      " 2   citric acid           1599 non-null   float64\n",
      " 3   residual sugar        1599 non-null   float64\n",
      " 4   chlorides             1599 non-null   float64\n",
      " 5   free sulfur dioxide   1599 non-null   float64\n",
      " 6   total sulfur dioxide  1599 non-null   float64\n",
      " 7   density               1599 non-null   float64\n",
      " 8   pH                    1599 non-null   float64\n",
      " 9   sulphates             1599 non-null   float64\n",
      " 10  alcohol               1599 non-null   float64\n",
      " 11  quality               1599 non-null   object \n",
      "dtypes: float64(11), object(1)\n",
      "memory usage: 150.0+ KB\n"
     ]
    }
   ],
   "source": [
    "df.info()"
   ]
  },
  {
   "cell_type": "markdown",
   "metadata": {},
   "source": [
    "### Summary of dataset features\n",
    "- Total instances - 1599\n",
    "- Total columns - 12"
   ]
  },
  {
   "cell_type": "markdown",
   "metadata": {},
   "source": [
    "### Data Pre-Processing"
   ]
  },
  {
   "cell_type": "code",
   "execution_count": 5,
   "metadata": {},
   "outputs": [
    {
     "data": {
      "text/plain": [
       "quality                 0\n",
       "alcohol                 0\n",
       "sulphates               0\n",
       "pH                      0\n",
       "density                 0\n",
       "total sulfur dioxide    0\n",
       "free sulfur dioxide     0\n",
       "chlorides               0\n",
       "residual sugar          0\n",
       "citric acid             0\n",
       "volatile acidity        0\n",
       "fixed acidity           0\n",
       "dtype: int64"
      ]
     },
     "execution_count": 5,
     "metadata": {},
     "output_type": "execute_result"
    }
   ],
   "source": [
    "# now lets check for missing values\n",
    "missing_values = df.isnull().sum().sort_values(ascending = False)\n",
    "missing_values"
   ]
  },
  {
   "cell_type": "code",
   "execution_count": 6,
   "metadata": {},
   "outputs": [],
   "source": [
    "df['quality'].replace({'good' : 1, 'bad' :0}, inplace = True)"
   ]
  },
  {
   "cell_type": "code",
   "execution_count": 7,
   "metadata": {},
   "outputs": [
    {
     "data": {
      "text/plain": [
       "240"
      ]
     },
     "execution_count": 7,
     "metadata": {},
     "output_type": "execute_result"
    }
   ],
   "source": [
    "df.duplicated().sum()"
   ]
  },
  {
   "cell_type": "code",
   "execution_count": 8,
   "metadata": {},
   "outputs": [],
   "source": [
    "df.drop_duplicates(inplace = True)"
   ]
  },
  {
   "cell_type": "markdown",
   "metadata": {},
   "source": [
    "### Pre-Processing Summary\n",
    "- Surprisingly this is a clean data and consequently left with no null values and \n",
    "- 240 duplicated instances has been dropped as it doesn't contribite much to the target feature"
   ]
  },
  {
   "cell_type": "markdown",
   "metadata": {},
   "source": [
    "### Univariate analysis for target feature"
   ]
  },
  {
   "cell_type": "code",
   "execution_count": 9,
   "metadata": {},
   "outputs": [
    {
     "data": {
      "text/plain": [
       "1    719\n",
       "0    640\n",
       "Name: quality, dtype: int64"
      ]
     },
     "execution_count": 9,
     "metadata": {},
     "output_type": "execute_result"
    }
   ],
   "source": [
    "df['quality'].value_counts()"
   ]
  },
  {
   "cell_type": "code",
   "execution_count": 10,
   "metadata": {},
   "outputs": [
    {
     "name": "stdout",
     "output_type": "stream",
     "text": [
      "Class 0 before imbalance: 52.9 %\n",
      "Class 1 before imbalance: 47.1 %\n"
     ]
    }
   ],
   "source": [
    "class_0, class_1 = df['quality'].value_counts(normalize = True)\n",
    "print(f'Class 0 before imbalance:', round(class_0 *100,1) ,'%')\n",
    "print(f'Class 1 before imbalance:', round(class_1 *100,1) ,'%')"
   ]
  },
  {
   "cell_type": "code",
   "execution_count": 11,
   "metadata": {},
   "outputs": [
    {
     "data": {
      "image/png": "[encoded data removed]",
      "text/plain": [
       "<Figure size 432x288 with 1 Axes>"
      ]
     },
     "metadata": {
      "needs_background": "light"
     },
     "output_type": "display_data"
    }
   ],
   "source": [
    "sns.countplot(x = 'quality', data = df)\n",
    "plt.title('Target_Labels Distribution')\n",
    "plt.xlabel('Target_Labels')\n",
    "plt.ylabel('Total Number of instances')\n",
    "plt.savefig('Target_Labels Distributions.jpg')"
   ]
  },
  {
   "cell_type": "markdown",
   "metadata": {},
   "source": [
    "### Ensuring balance of dataset"
   ]
  },
  {
   "cell_type": "code",
   "execution_count": 12,
   "metadata": {},
   "outputs": [
    {
     "data": {
      "text/plain": [
       "1    719\n",
       "0    640\n",
       "Name: quality, dtype: int64"
      ]
     },
     "execution_count": 12,
     "metadata": {},
     "output_type": "execute_result"
    }
   ],
   "source": [
    "df['quality'].value_counts()"
   ]
  },
  {
   "cell_type": "code",
   "execution_count": 13,
   "metadata": {},
   "outputs": [],
   "source": [
    "good = df[df['quality'] == 1]\n",
    "bad = df[df['quality'] == 0]"
   ]
  },
  {
   "cell_type": "code",
   "execution_count": 14,
   "metadata": {},
   "outputs": [],
   "source": [
    "from sklearn.utils import resample\n",
    "good_downsample = resample(good,\n",
    "             replace=True,\n",
    "             n_samples=len(bad),\n",
    "             random_state=42)"
   ]
  },
  {
   "cell_type": "code",
   "execution_count": 15,
   "metadata": {},
   "outputs": [
    {
     "data": {
      "text/plain": [
       "1    640\n",
       "0    640\n",
       "Name: quality, dtype: int64"
      ]
     },
     "execution_count": 15,
     "metadata": {},
     "output_type": "execute_result"
    }
   ],
   "source": [
    "df = pd.concat([good_downsample, bad])\n",
    "df['quality'].value_counts()"
   ]
  },
  {
   "cell_type": "code",
   "execution_count": 16,
   "metadata": {},
   "outputs": [
    {
     "data": {
      "text/plain": [
       "Text(0, 0.5, 'Total Number of instances')"
      ]
     },
     "execution_count": 16,
     "metadata": {},
     "output_type": "execute_result"
    },
    {
     "data": {
      "image/png": "[encoded data removed]",
      "text/plain": [
       "<Figure size 432x288 with 1 Axes>"
      ]
     },
     "metadata": {
      "needs_background": "light"
     },
     "output_type": "display_data"
    }
   ],
   "source": [
    "sns.countplot(x = 'quality', data = df)\n",
    "plt.title('Target_Labels Distribution')\n",
    "plt.xlabel('Target_Labels')\n",
    "plt.ylabel('Total Number of instances')"
   ]
  },
  {
   "cell_type": "code",
   "execution_count": null,
   "metadata": {},
   "outputs": [],
   "source": []
  },
  {
   "cell_type": "code",
   "execution_count": null,
   "metadata": {},
   "outputs": [],
   "source": []
  },
  {
   "cell_type": "markdown",
   "metadata": {},
   "source": [
    "### Imbalancing the target feature\n",
    "- As mentioned in the project small imbalances of one class is fine, I'll proceed with further step 'making the target feature imbalance'"
   ]
  },
  {
   "cell_type": "code",
   "execution_count": 17,
   "metadata": {},
   "outputs": [],
   "source": [
    "X = df.loc[:, df.columns != 'quality']\n",
    "y = df.loc[:,'quality'].copy() # lets work with the copy without disturbing the original target feature"
   ]
  },
  {
   "cell_type": "code",
   "execution_count": 18,
   "metadata": {},
   "outputs": [
    {
     "data": {
      "text/plain": [
       "((1280, 11), (1280,))"
      ]
     },
     "execution_count": 18,
     "metadata": {},
     "output_type": "execute_result"
    }
   ],
   "source": [
    "X.shape, y.shape"
   ]
  },
  {
   "cell_type": "code",
   "execution_count": 19,
   "metadata": {},
   "outputs": [
    {
     "name": "stdout",
     "output_type": "stream",
     "text": [
      "Distribution after imbalancing: Counter({1: 416, 0: 224})\n"
     ]
    }
   ],
   "source": [
    "# 65% imbalance\n",
    "X_65, y_65 = make_imbalance(X, y, sampling_strategy={0:224 , 1: 416}, random_state=48)\n",
    "print(f'Distribution after imbalancing: {Counter(y_65)}')"
   ]
  },
  {
   "cell_type": "code",
   "execution_count": 20,
   "metadata": {},
   "outputs": [
    {
     "name": "stdout",
     "output_type": "stream",
     "text": [
      "Class 0 after imbalance: 65.0 %\n",
      "Class 1 after imbalance: 35.0 %\n"
     ]
    }
   ],
   "source": [
    "class0 , class1 = y_65.value_counts(normalize = True)\n",
    "print(f'Class 0 after imbalance:', round(class0 *100,1) ,'%')\n",
    "print(f'Class 1 after imbalance:', round(class1 *100,1) ,'%')"
   ]
  },
  {
   "cell_type": "code",
   "execution_count": 21,
   "metadata": {},
   "outputs": [
    {
     "data": {
      "image/png": "[encoded data removed]",
      "text/plain": [
       "<Figure size 432x288 with 1 Axes>"
      ]
     },
     "metadata": {
      "needs_background": "light"
     },
     "output_type": "display_data"
    }
   ],
   "source": [
    "# 65% imbalance target feature\n",
    "y_65.hist() \n",
    "plt.title('Imbalance_65% Class Distributions')\n",
    "plt.xlabel('Target_Labels')\n",
    "plt.ylabel('Total Number of instances')\n",
    "plt.savefig('Imbalance_65% Class Distributions.jpg')"
   ]
  },
  {
   "cell_type": "code",
   "execution_count": 22,
   "metadata": {},
   "outputs": [
    {
     "data": {
      "text/plain": [
       "((640, 11), (640,))"
      ]
     },
     "execution_count": 22,
     "metadata": {},
     "output_type": "execute_result"
    }
   ],
   "source": [
    "X_65.shape, y_65.shape"
   ]
  },
  {
   "cell_type": "markdown",
   "metadata": {},
   "source": [
    "## Stratified KFold"
   ]
  },
  {
   "cell_type": "code",
   "execution_count": 23,
   "metadata": {},
   "outputs": [],
   "source": [
    "from sklearn.model_selection import StratifiedKFold\n",
    "from sklearn.ensemble import RandomForestClassifier\n",
    "from sklearn.metrics import accuracy_score\n",
    "from sklearn.metrics import precision_score\n",
    "from sklearn.metrics import recall_score"
   ]
  },
  {
   "cell_type": "code",
   "execution_count": 24,
   "metadata": {},
   "outputs": [],
   "source": [
    "skf = StratifiedKFold(n_splits=10, random_state = None)\n",
    "rf_clf = RandomForestClassifier(n_estimators = 1000, n_jobs = -1, random_state = 42) #rf model"
   ]
  },
  {
   "cell_type": "code",
   "execution_count": 25,
   "metadata": {},
   "outputs": [],
   "source": [
    "#Training with 65% imbalance surrogate\n",
    "skf.get_n_splits(X_65, y_65)\n",
    "score = []\n",
    "precision = []\n",
    "recall = []\n",
    "for train_index, test_index in skf.split(X_65, y_65):\n",
    "    #print('Train:' , train_index, 'Validation: ', test_index)\n",
    "    x_train, x_test = X_65.iloc[train_index], X_65.iloc[test_index]\n",
    "    y_train, y_test = y_65.iloc[train_index], y_65.iloc[test_index]\n",
    "    rf_clf.fit(x_train, y_train)\n",
    "    acc = accuracy_score(y_test, rf_clf.predict(x_test))\n",
    "    precision_s = precision_score(y_test, rf_clf.predict(x_test),average='macro')\n",
    "    recall_s = recall_score(y_test, rf_clf.predict(x_test))\n",
    "    score.append(acc)\n",
    "    precision.append(precision_s)\n",
    "    recall.append(recall_s)"
   ]
  },
  {
   "cell_type": "code",
   "execution_count": 26,
   "metadata": {},
   "outputs": [
    {
     "name": "stdout",
     "output_type": "stream",
     "text": [
      "Mean Accuracy Score: 0.8171875\n",
      "Mean Precision Score: 0.8064020716341167\n",
      "Mean Recall Score: 0.8966318234610918\n"
     ]
    }
   ],
   "source": [
    "#Metrics @ 65%\n",
    "print('Mean Accuracy Score: {}'.format(np.array(score).mean()))\n",
    "print('Mean Precision Score: {}'.format(np.array(precision).mean()))\n",
    "print('Mean Recall Score: {}'.format(np.array(recall).mean()))"
   ]
  },
  {
   "cell_type": "code",
   "execution_count": 27,
   "metadata": {},
   "outputs": [],
   "source": [
    "#Training with balanced dataset\n",
    "skf.get_n_splits(X, y)\n",
    "score = []\n",
    "precision = []\n",
    "recall = []\n",
    "for train_index, test_index in skf.split(X, y):\n",
    "    #print('Train:' , train_index, 'Validation: ', test_index)\n",
    "    x_train, x_test = X.iloc[train_index], X.iloc[test_index]\n",
    "    y_train, y_test = y.iloc[train_index], y.iloc[test_index]\n",
    "    rf_clf.fit(x_train, y_train)\n",
    "    acc = accuracy_score(y_test, rf_clf.predict(x_test))\n",
    "    precision_s = precision_score(y_test, rf_clf.predict(x_test),average='macro')\n",
    "    recall_s = recall_score(y_test, rf_clf.predict(x_test))\n",
    "    score.append(acc)\n",
    "    precision.append(precision_s)\n",
    "    recall.append(recall_s)"
   ]
  },
  {
   "cell_type": "code",
   "execution_count": 28,
   "metadata": {},
   "outputs": [
    {
     "name": "stdout",
     "output_type": "stream",
     "text": [
      "Mean Accuracy Score: 0.81953125\n",
      "Mean Precision Score: 0.8265392489536547\n",
      "Mean Recall Score: 0.85625\n"
     ]
    }
   ],
   "source": [
    "#Metrics @ 50%\n",
    "print('Mean Accuracy Score: {}'.format(np.array(score).mean()))\n",
    "print('Mean Precision Score: {}'.format(np.array(precision).mean()))\n",
    "print('Mean Recall Score: {}'.format(np.array(recall).mean()))"
   ]
  },
  {
   "cell_type": "code",
   "execution_count": null,
   "metadata": {},
   "outputs": [],
   "source": []
  },
  {
   "cell_type": "code",
   "execution_count": null,
   "metadata": {},
   "outputs": [],
   "source": []
  },
  {
   "cell_type": "code",
   "execution_count": 29,
   "metadata": {},
   "outputs": [
    {
     "name": "stdout",
     "output_type": "stream",
     "text": [
      "Distribution after imbalancing: Counter({1: 480, 0: 160})\n"
     ]
    }
   ],
   "source": [
    "# 75% imbalance\n",
    "X_75, y_75 = make_imbalance(X, y, sampling_strategy={0:160 , 1: 480}, random_state=48)\n",
    "print(f'Distribution after imbalancing: {Counter(y_75)}')"
   ]
  },
  {
   "cell_type": "code",
   "execution_count": 30,
   "metadata": {},
   "outputs": [
    {
     "name": "stdout",
     "output_type": "stream",
     "text": [
      "Class 0 after imbalance_75%: 75.0 %\n",
      "Class 1 after imbalance_75%: 25.0 %\n"
     ]
    }
   ],
   "source": [
    "class0 , class1 = y_75.value_counts(normalize = True)\n",
    "print(f'Class 0 after imbalance_75%:', round(class0 *100,1) ,'%')\n",
    "print(f'Class 1 after imbalance_75%:', round(class1 *100,1) ,'%')"
   ]
  },
  {
   "cell_type": "code",
   "execution_count": 31,
   "metadata": {},
   "outputs": [
    {
     "data": {
      "image/png": "[encoded data removed]",
      "text/plain": [
       "<Figure size 432x288 with 1 Axes>"
      ]
     },
     "metadata": {
      "needs_background": "light"
     },
     "output_type": "display_data"
    }
   ],
   "source": [
    "# 75% imbalance target feature\n",
    "y_75.hist() \n",
    "plt.title('Imbalance_75% Class Distributions')\n",
    "plt.xlabel('Target_Labels')\n",
    "plt.ylabel('Total Number of instances')\n",
    "plt.savefig('Imbalance_75% Class Distributions.jpg')"
   ]
  },
  {
   "cell_type": "code",
   "execution_count": 32,
   "metadata": {},
   "outputs": [],
   "source": [
    "#Training with 75% imbalance surrogate\n",
    "skf.get_n_splits(X_75, y_75)\n",
    "score = []\n",
    "precision = []\n",
    "recall = []\n",
    "for train_index, test_index in skf.split(X_75, y_75):\n",
    "    #print('Train:' , train_index, 'Validation: ', test_index)\n",
    "    x_train, x_test = X_75.iloc[train_index], X_75.iloc[test_index]\n",
    "    y_train, y_test = y_75.iloc[train_index], y_75.iloc[test_index]\n",
    "    rf_clf.fit(x_train, y_train)\n",
    "    acc = accuracy_score(y_test, rf_clf.predict(x_test))\n",
    "    precision_s = precision_score(y_test, rf_clf.predict(x_test),average='macro')\n",
    "    recall_s = recall_score(y_test, rf_clf.predict(x_test))\n",
    "    score.append(acc)\n",
    "    precision.append(precision_s)\n",
    "    recall.append(recall_s)"
   ]
  },
  {
   "cell_type": "code",
   "execution_count": 33,
   "metadata": {},
   "outputs": [
    {
     "name": "stdout",
     "output_type": "stream",
     "text": [
      "Mean Accuracy Score: 0.853125\n",
      "Mean Precision Score: 0.8342363868771037\n",
      "Mean Recall Score: 0.9458333333333332\n"
     ]
    }
   ],
   "source": [
    "#Metrics @ 75%\n",
    "print('Mean Accuracy Score: {}'.format(np.array(score).mean()))\n",
    "print('Mean Precision Score: {}'.format(np.array(precision).mean()))\n",
    "print('Mean Recall Score: {}'.format(np.array(recall).mean()))"
   ]
  },
  {
   "cell_type": "code",
   "execution_count": null,
   "metadata": {},
   "outputs": [],
   "source": []
  },
  {
   "cell_type": "code",
   "execution_count": null,
   "metadata": {},
   "outputs": [],
   "source": []
  },
  {
   "cell_type": "code",
   "execution_count": 34,
   "metadata": {},
   "outputs": [
    {
     "name": "stdout",
     "output_type": "stream",
     "text": [
      "Distribution after imbalancing: Counter({1: 576, 0: 64})\n"
     ]
    }
   ],
   "source": [
    "X_90, y_90 = make_imbalance(X, y, sampling_strategy={0:64 , 1: 576}, random_state=48)\n",
    "print(f'Distribution after imbalancing: {Counter(y_90)}')"
   ]
  },
  {
   "cell_type": "code",
   "execution_count": 35,
   "metadata": {},
   "outputs": [
    {
     "name": "stdout",
     "output_type": "stream",
     "text": [
      "Class 0 after imbalance_90%: 90.0 %\n",
      "Class 1 after imbalance_90%: 10.0 %\n"
     ]
    }
   ],
   "source": [
    "class0 , class1 = y_90.value_counts(normalize = True)\n",
    "print(f'Class 0 after imbalance_90%:', round(class0 *100,1) ,'%')\n",
    "print(f'Class 1 after imbalance_90%:', round(class1 *100,1) ,'%')"
   ]
  },
  {
   "cell_type": "code",
   "execution_count": 36,
   "metadata": {},
   "outputs": [
    {
     "data": {
      "image/png": "[encoded data removed]",
      "text/plain": [
       "<Figure size 432x288 with 1 Axes>"
      ]
     },
     "metadata": {
      "needs_background": "light"
     },
     "output_type": "display_data"
    }
   ],
   "source": [
    "# 90% imbalance target feature plot\n",
    "y_90.hist() \n",
    "plt.title('Imbalance_90% Class Distributions')\n",
    "plt.xlabel('Target_Labels')\n",
    "plt.ylabel('Total Number of instances')\n",
    "plt.savefig('Imbalance_90% Class Distributions.jpg')"
   ]
  },
  {
   "cell_type": "code",
   "execution_count": 37,
   "metadata": {},
   "outputs": [
    {
     "name": "stderr",
     "output_type": "stream",
     "text": [
      "C:\\Users\\Praveen\\anaconda3\\lib\\site-packages\\sklearn\\metrics\\_classification.py:1318: UndefinedMetricWarning: Precision is ill-defined and being set to 0.0 in labels with no predicted samples. Use `zero_division` parameter to control this behavior.\n",
      "  _warn_prf(average, modifier, msg_start, len(result))\n",
      "C:\\Users\\Praveen\\anaconda3\\lib\\site-packages\\sklearn\\metrics\\_classification.py:1318: UndefinedMetricWarning: Precision is ill-defined and being set to 0.0 in labels with no predicted samples. Use `zero_division` parameter to control this behavior.\n",
      "  _warn_prf(average, modifier, msg_start, len(result))\n"
     ]
    }
   ],
   "source": [
    "#Training with 90% imbalance surrogate\n",
    "skf.get_n_splits(X_90, y_90)\n",
    "score = []\n",
    "precision = []\n",
    "recall = []\n",
    "for train_index, test_index in skf.split(X_90, y_90):\n",
    "    #print('Train:' , train_index, 'Validation: ', test_index)\n",
    "    x_train, x_test = X_90.iloc[train_index], X_90.iloc[test_index]\n",
    "    y_train, y_test = y_90.iloc[train_index], y_90.iloc[test_index]\n",
    "    rf_clf.fit(x_train, y_train)\n",
    "    acc = accuracy_score(y_test, rf_clf.predict(x_test))\n",
    "    precision_s = precision_score(y_test, rf_clf.predict(x_test),average='macro')\n",
    "    recall_s = recall_score(y_test, rf_clf.predict(x_test))\n",
    "    score.append(acc)\n",
    "    precision.append(precision_s)\n",
    "    recall.append(recall_s)"
   ]
  },
  {
   "cell_type": "code",
   "execution_count": 38,
   "metadata": {},
   "outputs": [
    {
     "name": "stdout",
     "output_type": "stream",
     "text": [
      "Mean Accuracy Score: 0.8984375\n",
      "Mean Precision Score: 0.6591408127641702\n",
      "Mean Recall Score: 0.9826678765880217\n"
     ]
    }
   ],
   "source": [
    "#Metrics @ 90%\n",
    "print('Mean Accuracy Score: {}'.format(np.array(score).mean()))\n",
    "print('Mean Precision Score: {}'.format(np.array(precision).mean()))\n",
    "print('Mean Recall Score: {}'.format(np.array(recall).mean()))"
   ]
  },
  {
   "cell_type": "code",
   "execution_count": null,
   "metadata": {},
   "outputs": [],
   "source": []
  },
  {
   "cell_type": "code",
   "execution_count": null,
   "metadata": {},
   "outputs": [],
   "source": []
  },
  {
   "cell_type": "markdown",
   "metadata": {},
   "source": [
    "# Part 3"
   ]
  },
  {
   "cell_type": "code",
   "execution_count": 39,
   "metadata": {},
   "outputs": [],
   "source": [
    "x_train = []\n",
    "x_test = []\n",
    "y_train = []\n",
    "y_test = []\n",
    "skf.get_n_splits(X_65, y_65)\n",
    "for train_index, test_index in skf.split(X_90, y_90):\n",
    "    #print('Train:' , train_index, 'Validation: ', test_index)\n",
    "    xtrain, xtest = X_90.iloc[train_index], X_90.iloc[test_index]\n",
    "    ytrain, ytest = y_90.iloc[train_index], y_90.iloc[test_index]\n",
    "    x_train.append(xtrain)\n",
    "    x_test.append(xtest)\n",
    "    y_train.append(ytrain)\n",
    "    y_test.append(ytest)"
   ]
  },
  {
   "cell_type": "code",
   "execution_count": 40,
   "metadata": {},
   "outputs": [
    {
     "data": {
      "text/html": [
       "<div>\n",
       "<style scoped>\n",
       "    .dataframe tbody tr th:only-of-type {\n",
       "        vertical-align: middle;\n",
       "    }\n",
       "\n",
       "    .dataframe tbody tr th {\n",
       "        vertical-align: top;\n",
       "    }\n",
       "\n",
       "    .dataframe thead th {\n",
       "        text-align: right;\n",
       "    }\n",
       "</style>\n",
       "<table border=\"1\" class=\"dataframe\">\n",
       "  <thead>\n",
       "    <tr style=\"text-align: right;\">\n",
       "      <th></th>\n",
       "      <th>fixed acidity</th>\n",
       "      <th>volatile acidity</th>\n",
       "      <th>citric acid</th>\n",
       "      <th>residual sugar</th>\n",
       "      <th>chlorides</th>\n",
       "      <th>free sulfur dioxide</th>\n",
       "      <th>total sulfur dioxide</th>\n",
       "      <th>density</th>\n",
       "      <th>pH</th>\n",
       "      <th>sulphates</th>\n",
       "      <th>alcohol</th>\n",
       "    </tr>\n",
       "  </thead>\n",
       "  <tbody>\n",
       "    <tr>\n",
       "      <th>7</th>\n",
       "      <td>11.7</td>\n",
       "      <td>0.490</td>\n",
       "      <td>0.49</td>\n",
       "      <td>2.2</td>\n",
       "      <td>0.083</td>\n",
       "      <td>5.0</td>\n",
       "      <td>15.0</td>\n",
       "      <td>1.00000</td>\n",
       "      <td>3.19</td>\n",
       "      <td>0.43</td>\n",
       "      <td>9.2</td>\n",
       "    </tr>\n",
       "    <tr>\n",
       "      <th>8</th>\n",
       "      <td>6.8</td>\n",
       "      <td>0.610</td>\n",
       "      <td>0.20</td>\n",
       "      <td>1.8</td>\n",
       "      <td>0.077</td>\n",
       "      <td>11.0</td>\n",
       "      <td>65.0</td>\n",
       "      <td>0.99710</td>\n",
       "      <td>3.54</td>\n",
       "      <td>0.58</td>\n",
       "      <td>9.3</td>\n",
       "    </tr>\n",
       "    <tr>\n",
       "      <th>9</th>\n",
       "      <td>7.5</td>\n",
       "      <td>0.755</td>\n",
       "      <td>0.00</td>\n",
       "      <td>1.9</td>\n",
       "      <td>0.084</td>\n",
       "      <td>6.0</td>\n",
       "      <td>12.0</td>\n",
       "      <td>0.99672</td>\n",
       "      <td>3.34</td>\n",
       "      <td>0.49</td>\n",
       "      <td>9.7</td>\n",
       "    </tr>\n",
       "    <tr>\n",
       "      <th>10</th>\n",
       "      <td>5.9</td>\n",
       "      <td>0.190</td>\n",
       "      <td>0.21</td>\n",
       "      <td>1.7</td>\n",
       "      <td>0.045</td>\n",
       "      <td>57.0</td>\n",
       "      <td>135.0</td>\n",
       "      <td>0.99341</td>\n",
       "      <td>3.32</td>\n",
       "      <td>0.44</td>\n",
       "      <td>9.5</td>\n",
       "    </tr>\n",
       "    <tr>\n",
       "      <th>11</th>\n",
       "      <td>7.5</td>\n",
       "      <td>0.520</td>\n",
       "      <td>0.11</td>\n",
       "      <td>1.5</td>\n",
       "      <td>0.079</td>\n",
       "      <td>11.0</td>\n",
       "      <td>39.0</td>\n",
       "      <td>0.99680</td>\n",
       "      <td>3.42</td>\n",
       "      <td>0.58</td>\n",
       "      <td>9.6</td>\n",
       "    </tr>\n",
       "  </tbody>\n",
       "</table>\n",
       "</div>"
      ],
      "text/plain": [
       "    fixed acidity  volatile acidity  citric acid  residual sugar  chlorides  \\\n",
       "7            11.7             0.490         0.49             2.2      0.083   \n",
       "8             6.8             0.610         0.20             1.8      0.077   \n",
       "9             7.5             0.755         0.00             1.9      0.084   \n",
       "10            5.9             0.190         0.21             1.7      0.045   \n",
       "11            7.5             0.520         0.11             1.5      0.079   \n",
       "\n",
       "    free sulfur dioxide  total sulfur dioxide  density    pH  sulphates  \\\n",
       "7                   5.0                  15.0  1.00000  3.19       0.43   \n",
       "8                  11.0                  65.0  0.99710  3.54       0.58   \n",
       "9                   6.0                  12.0  0.99672  3.34       0.49   \n",
       "10                 57.0                 135.0  0.99341  3.32       0.44   \n",
       "11                 11.0                  39.0  0.99680  3.42       0.58   \n",
       "\n",
       "    alcohol  \n",
       "7       9.2  \n",
       "8       9.3  \n",
       "9       9.7  \n",
       "10      9.5  \n",
       "11      9.6  "
      ]
     },
     "execution_count": 40,
     "metadata": {},
     "output_type": "execute_result"
    }
   ],
   "source": [
    "x_train[0].head()"
   ]
  },
  {
   "cell_type": "code",
   "execution_count": null,
   "metadata": {},
   "outputs": [],
   "source": []
  },
  {
   "cell_type": "markdown",
   "metadata": {},
   "source": [
    "# Part 4"
   ]
  },
  {
   "cell_type": "markdown",
   "metadata": {},
   "source": [
    "### Elbow Method"
   ]
  },
  {
   "cell_type": "code",
   "execution_count": 41,
   "metadata": {},
   "outputs": [],
   "source": [
    "wss_score = [[] for col in range(9) for row in range(9)]\n",
    "for i in range(0,9):\n",
    "    for j in range(2, 12):\n",
    "        kmeans=cluster.KMeans(n_clusters=j,init=\"k-means++\")\n",
    "        kmeans=kmeans.fit(x_train[i])\n",
    "        wss_iter = kmeans.inertia_\n",
    "        wss_score[i].append(wss_iter)"
   ]
  },
  {
   "cell_type": "code",
   "execution_count": 42,
   "metadata": {},
   "outputs": [
    {
     "data": {
      "image/png": "[encoded data removed]",
      "text/plain": [
       "<Figure size 432x288 with 1 Axes>"
      ]
     },
     "metadata": {
      "needs_background": "light"
     },
     "output_type": "display_data"
    }
   ],
   "source": [
    "for i in range(0,9):\n",
    "    plt.plot(wss_score[i], label= 'Fold {}'.format(i))\n",
    "    plt.xlabel('Number of Clusters')\n",
    "    plt.ylabel('WSS Score')\n",
    "    plt.title('WSS Score against Number of Clusters')\n",
    "    plt.legend()\n",
    "    plt.savefig('Elbow_plot_wine_quality.jpg')"
   ]
  },
  {
   "cell_type": "markdown",
   "metadata": {},
   "source": [
    "- 2 clusters identified using Elbow method"
   ]
  },
  {
   "cell_type": "markdown",
   "metadata": {},
   "source": [
    "### Silhouette method"
   ]
  },
  {
   "cell_type": "code",
   "execution_count": 44,
   "metadata": {},
   "outputs": [],
   "source": [
    "from sklearn.metrics import silhouette_score"
   ]
  },
  {
   "cell_type": "code",
   "execution_count": 45,
   "metadata": {},
   "outputs": [],
   "source": [
    "scores_arr = [[] for col in range(9) for row in range(9)]\n",
    "for i in range(0,9):\n",
    "    for j in range(2, 12):\n",
    "        labels=cluster.KMeans(n_clusters=j,init=\"k-means++\",random_state=200).fit(x_train[i]).labels_\n",
    "        scores = silhouette_score(x_train[i],labels,metric=\"euclidean\",sample_size=1000,random_state=200)\n",
    "        scores_arr[i].append(scores)"
   ]
  },
  {
   "cell_type": "code",
   "execution_count": 46,
   "metadata": {},
   "outputs": [
    {
     "name": "stdout",
     "output_type": "stream",
     "text": [
      "For Cluster 0, the maximum score is at index: 0\n",
      "For Cluster 1, the maximum score is at index: 0\n",
      "For Cluster 2, the maximum score is at index: 0\n",
      "For Cluster 3, the maximum score is at index: 0\n",
      "For Cluster 4, the maximum score is at index: 0\n",
      "For Cluster 5, the maximum score is at index: 0\n",
      "For Cluster 6, the maximum score is at index: 0\n",
      "For Cluster 7, the maximum score is at index: 0\n",
      "For Cluster 8, the maximum score is at index: 0\n"
     ]
    }
   ],
   "source": [
    "for i in range(0,9):\n",
    "    max_value = max(scores_arr[i])\n",
    "    max_index = scores_arr[i].index(max_value)\n",
    "    print('For Cluster {}, the maximum score is at index: {}'.format(i, max_index))"
   ]
  },
  {
   "cell_type": "markdown",
   "metadata": {},
   "source": [
    "- The maximum Silhouette score is found at index 0 for all the folds which corresponds to 2 clusters"
   ]
  },
  {
   "cell_type": "code",
   "execution_count": 47,
   "metadata": {},
   "outputs": [
    {
     "data": {
      "image/png": "[encoded data removed]",
      "text/plain": [
       "<Figure size 432x288 with 1 Axes>"
      ]
     },
     "metadata": {
      "needs_background": "light"
     },
     "output_type": "display_data"
    }
   ],
   "source": [
    "# Visualizing Silhouette scores for the different folds\n",
    "for i in range(0,9):\n",
    "    plt.plot(scores_arr[i], label= 'Fold {}'.format(i))\n",
    "    plt.xlabel('Number of Clusters')\n",
    "    plt.ylabel('Silhouette Score')\n",
    "    plt.title('Silhouette Score against Number of Clusters')\n",
    "    plt.xlim([2, 10])\n",
    "    plt.legend()\n",
    "    plt.savefig('Silhouette_plot_wine_quality.jpg')"
   ]
  },
  {
   "cell_type": "code",
   "execution_count": 48,
   "metadata": {},
   "outputs": [
    {
     "ename": "NameError",
     "evalue": "name 'sns_plot' is not defined",
     "output_type": "error",
     "traceback": [
      "\u001b[1;31m---------------------------------------------------------------------------\u001b[0m",
      "\u001b[1;31mNameError\u001b[0m                                 Traceback (most recent call last)",
      "\u001b[1;32m<ipython-input-48-4c8b08a79db1>\u001b[0m in \u001b[0;36m<module>\u001b[1;34m\u001b[0m\n\u001b[1;32m----> 1\u001b[1;33m \u001b[0msns_plot\u001b[0m\u001b[1;33m.\u001b[0m\u001b[0mfigure\u001b[0m\u001b[1;33m.\u001b[0m\u001b[0msavefig\u001b[0m\u001b[1;33m(\u001b[0m\u001b[1;34m\"output_water_sil.png\"\u001b[0m\u001b[1;33m)\u001b[0m\u001b[1;33m\u001b[0m\u001b[1;33m\u001b[0m\u001b[0m\n\u001b[0m",
      "\u001b[1;31mNameError\u001b[0m: name 'sns_plot' is not defined"
     ]
    }
   ],
   "source": [
    "sns_plot.figure.savefig(\"output_water_sil.png\")"
   ]
  },
  {
   "cell_type": "markdown",
   "metadata": {},
   "source": [
    "### K-Means"
   ]
  },
  {
   "cell_type": "code",
   "execution_count": null,
   "metadata": {},
   "outputs": [],
   "source": [
    "clusters_arr = [[] for col in range(9) for row in range(len(x_train[1]))]\n",
    "kmeans = cluster.KMeans(n_clusters=2 ,init=\"k-means++\")\n",
    "for i in range(0,9):\n",
    "    kmeans = kmeans.fit(x_train[i])\n",
    "    clusters = kmeans.labels_\n",
    "    clusters_arr[i].append(clusters)"
   ]
  },
  {
   "cell_type": "code",
   "execution_count": null,
   "metadata": {},
   "outputs": [],
   "source": [
    "dftest = x_train[8]\n",
    "dftest['pred_labels'] = np.transpose(clusters_arr[8])\n",
    "dftest['true_labels'] = y_train[8]\n",
    "dftest.head()"
   ]
  },
  {
   "cell_type": "code",
   "execution_count": null,
   "metadata": {
    "scrolled": true
   },
   "outputs": [],
   "source": [
    "dftest1 = dftest[dftest['pred_labels'].isin([1])]\n",
    "dftest1.head()"
   ]
  },
  {
   "cell_type": "code",
   "execution_count": null,
   "metadata": {},
   "outputs": [],
   "source": [
    "accuracy_score(dftest1['true_labels'], dftest1['pred_labels'])"
   ]
  },
  {
   "cell_type": "code",
   "execution_count": null,
   "metadata": {},
   "outputs": [],
   "source": [
    "dftest1['true_labels'].value_counts() #There are 33 minority labels(belong to cluster 0)"
   ]
  },
  {
   "cell_type": "code",
   "execution_count": null,
   "metadata": {},
   "outputs": [],
   "source": [
    "dftest_1 = dftest1[dftest1['true_labels'].isin([0])]\n",
    "dftest_1['true_labels'].value_counts()"
   ]
  },
  {
   "cell_type": "code",
   "execution_count": null,
   "metadata": {},
   "outputs": [],
   "source": []
  },
  {
   "cell_type": "code",
   "execution_count": null,
   "metadata": {},
   "outputs": [],
   "source": [
    "dftest0 = dftest[dftest['pred_labels'].isin([0])]\n",
    "dftest0.head()"
   ]
  },
  {
   "cell_type": "code",
   "execution_count": null,
   "metadata": {},
   "outputs": [],
   "source": [
    "dftest_0 = dftest0[dftest0['true_labels'].isin([1])]\n",
    "dftest_0['true_labels'].value_counts()"
   ]
  },
  {
   "cell_type": "code",
   "execution_count": null,
   "metadata": {},
   "outputs": [],
   "source": []
  },
  {
   "cell_type": "code",
   "execution_count": null,
   "metadata": {},
   "outputs": [],
   "source": [
    "#Combining the datasets\n",
    "df_new = pd.concat([dftest_0, dftest_1], axis=0)\n",
    "df_new.head()"
   ]
  },
  {
   "cell_type": "code",
   "execution_count": null,
   "metadata": {},
   "outputs": [],
   "source": [
    "df_new['true_labels'].value_counts()"
   ]
  },
  {
   "cell_type": "code",
   "execution_count": null,
   "metadata": {},
   "outputs": [],
   "source": []
  },
  {
   "cell_type": "code",
   "execution_count": null,
   "metadata": {},
   "outputs": [],
   "source": [
    "#Training Random forest classifier\n",
    "del df_new['pred_labels']"
   ]
  },
  {
   "cell_type": "code",
   "execution_count": null,
   "metadata": {},
   "outputs": [],
   "source": [
    "df_new.head()"
   ]
  },
  {
   "cell_type": "code",
   "execution_count": null,
   "metadata": {},
   "outputs": [],
   "source": [
    "x = df_new.loc[:, df_new.columns != 'true_labels']\n",
    "y = df_new['true_labels']"
   ]
  },
  {
   "cell_type": "code",
   "execution_count": null,
   "metadata": {},
   "outputs": [],
   "source": [
    "rf_clf = RandomForestClassifier(n_estimators = 1000, n_jobs = -1, random_state = 42)\n",
    "rf_clf.fit(x, y)"
   ]
  },
  {
   "cell_type": "code",
   "execution_count": null,
   "metadata": {},
   "outputs": [],
   "source": [
    "print('RF Train accuracy: {}'.format(accuracy_score(y, rf_clf.predict(x))))"
   ]
  },
  {
   "cell_type": "code",
   "execution_count": null,
   "metadata": {},
   "outputs": [],
   "source": []
  },
  {
   "cell_type": "code",
   "execution_count": null,
   "metadata": {},
   "outputs": [],
   "source": [
    "## Assigning clusters to unseen fold\n",
    "kmeans = cluster.KMeans(n_clusters=2 ,init=\"k-means++\")\n",
    "kmeans = kmeans.fit(x_train[8])\n",
    "clusters = kmeans.labels_\n",
    "clusters"
   ]
  },
  {
   "cell_type": "code",
   "execution_count": null,
   "metadata": {},
   "outputs": [],
   "source": [
    "accuracy_score(y_train[8],clusters)"
   ]
  },
  {
   "cell_type": "code",
   "execution_count": null,
   "metadata": {},
   "outputs": [],
   "source": [
    "df_x = x_train[8]\n",
    "df_x['labels'] = clusters\n",
    "print(df_x.shape)\n",
    "df_x.head()"
   ]
  },
  {
   "cell_type": "code",
   "execution_count": null,
   "metadata": {},
   "outputs": [],
   "source": [
    "arr = []\n",
    "for i in range(len(df_x)):\n",
    "    res = df_x['labels'].iloc[i] == df_x['true_labels'].iloc[i]\n",
    "    arr.append(res)\n",
    "arr"
   ]
  },
  {
   "cell_type": "code",
   "execution_count": null,
   "metadata": {},
   "outputs": [],
   "source": [
    "df_x['bool'] = arr\n",
    "df_x = df_x[df_x['bool'].isin([False])]\n",
    "df_x.shape"
   ]
  },
  {
   "cell_type": "code",
   "execution_count": null,
   "metadata": {},
   "outputs": [],
   "source": [
    "df_x.head()"
   ]
  },
  {
   "cell_type": "code",
   "execution_count": null,
   "metadata": {},
   "outputs": [],
   "source": [
    "del df_x['pred_labels']\n",
    "del df_x['labels']\n",
    "del df_x['bool']"
   ]
  },
  {
   "cell_type": "code",
   "execution_count": null,
   "metadata": {},
   "outputs": [],
   "source": [
    "## Random Forest\n",
    "x = df_x.loc[:, df_x.columns != 'true_labels']\n",
    "y = df_x['true_labels']\n",
    "accuracy_score(y, rf_clf.predict(x))"
   ]
  },
  {
   "cell_type": "code",
   "execution_count": null,
   "metadata": {},
   "outputs": [],
   "source": []
  },
  {
   "cell_type": "code",
   "execution_count": null,
   "metadata": {},
   "outputs": [],
   "source": []
  },
  {
   "cell_type": "code",
   "execution_count": null,
   "metadata": {},
   "outputs": [],
   "source": []
  },
  {
   "cell_type": "code",
   "execution_count": null,
   "metadata": {},
   "outputs": [],
   "source": []
  }
 ],
 "metadata": {
  "kernelspec": {
   "display_name": "Python 3",
   "language": "python",
   "name": "python3"
  },
  "language_info": {
   "codemirror_mode": {
    "name": "ipython",
    "version": 3
   },
   "file_extension": ".py",
   "mimetype": "text/x-python",
   "name": "python",
   "nbconvert_exporter": "python",
   "pygments_lexer": "ipython3",
   "version": "3.8.5"
  }
 },
 "nbformat": 4,
 "nbformat_minor": 4
}
