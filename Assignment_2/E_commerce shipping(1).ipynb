{
 "cells": [
  {
   "cell_type": "markdown",
   "metadata": {},
   "source": [
    "### Load Libraries"
   ]
  },
  {
   "cell_type": "code",
   "execution_count": 42,
   "metadata": {},
   "outputs": [],
   "source": [
    "import pandas as pd\n",
    "import numpy as np\n",
    "import matplotlib.pyplot as plt\n",
    "%matplotlib inline\n",
    "import seaborn as sns\n",
    "\n",
    "from collections import Counter\n",
    "from imblearn.datasets import make_imbalance\n",
    "import sklearn.cluster as cluster"
   ]
  },
  {
   "cell_type": "code",
   "execution_count": 2,
   "metadata": {},
   "outputs": [],
   "source": [
    "#load the data\n",
    "df = pd.read_csv('E_commerce.csv')\n",
    "# to visualize all the columns at once.\n",
    "pd.set_option('display.max_columns', None)"
   ]
  },
  {
   "cell_type": "code",
   "execution_count": 3,
   "metadata": {},
   "outputs": [
    {
     "data": {
      "text/html": [
       "<div>\n",
       "<style scoped>\n",
       "    .dataframe tbody tr th:only-of-type {\n",
       "        vertical-align: middle;\n",
       "    }\n",
       "\n",
       "    .dataframe tbody tr th {\n",
       "        vertical-align: top;\n",
       "    }\n",
       "\n",
       "    .dataframe thead th {\n",
       "        text-align: right;\n",
       "    }\n",
       "</style>\n",
       "<table border=\"1\" class=\"dataframe\">\n",
       "  <thead>\n",
       "    <tr style=\"text-align: right;\">\n",
       "      <th></th>\n",
       "      <th>ID</th>\n",
       "      <th>Warehouse_block</th>\n",
       "      <th>Mode_of_Shipment</th>\n",
       "      <th>Customer_care_calls</th>\n",
       "      <th>Customer_rating</th>\n",
       "      <th>Cost_of_the_Product</th>\n",
       "      <th>Prior_purchases</th>\n",
       "      <th>Product_importance</th>\n",
       "      <th>Gender</th>\n",
       "      <th>Discount_offered</th>\n",
       "      <th>Weight_in_gms</th>\n",
       "      <th>Reached.on.Time_Y.N</th>\n",
       "    </tr>\n",
       "  </thead>\n",
       "  <tbody>\n",
       "    <tr>\n",
       "      <th>0</th>\n",
       "      <td>891</td>\n",
       "      <td>A</td>\n",
       "      <td>Ship</td>\n",
       "      <td>3</td>\n",
       "      <td>4</td>\n",
       "      <td>266</td>\n",
       "      <td>2</td>\n",
       "      <td>high</td>\n",
       "      <td>F</td>\n",
       "      <td>33</td>\n",
       "      <td>3798</td>\n",
       "      <td>1</td>\n",
       "    </tr>\n",
       "    <tr>\n",
       "      <th>1</th>\n",
       "      <td>892</td>\n",
       "      <td>B</td>\n",
       "      <td>Ship</td>\n",
       "      <td>3</td>\n",
       "      <td>4</td>\n",
       "      <td>255</td>\n",
       "      <td>4</td>\n",
       "      <td>low</td>\n",
       "      <td>F</td>\n",
       "      <td>12</td>\n",
       "      <td>2266</td>\n",
       "      <td>1</td>\n",
       "    </tr>\n",
       "    <tr>\n",
       "      <th>2</th>\n",
       "      <td>893</td>\n",
       "      <td>C</td>\n",
       "      <td>Ship</td>\n",
       "      <td>4</td>\n",
       "      <td>1</td>\n",
       "      <td>166</td>\n",
       "      <td>3</td>\n",
       "      <td>high</td>\n",
       "      <td>F</td>\n",
       "      <td>3</td>\n",
       "      <td>1453</td>\n",
       "      <td>1</td>\n",
       "    </tr>\n",
       "    <tr>\n",
       "      <th>3</th>\n",
       "      <td>894</td>\n",
       "      <td>F</td>\n",
       "      <td>Ship</td>\n",
       "      <td>3</td>\n",
       "      <td>2</td>\n",
       "      <td>232</td>\n",
       "      <td>2</td>\n",
       "      <td>low</td>\n",
       "      <td>F</td>\n",
       "      <td>39</td>\n",
       "      <td>2139</td>\n",
       "      <td>1</td>\n",
       "    </tr>\n",
       "    <tr>\n",
       "      <th>4</th>\n",
       "      <td>895</td>\n",
       "      <td>D</td>\n",
       "      <td>Ship</td>\n",
       "      <td>3</td>\n",
       "      <td>5</td>\n",
       "      <td>198</td>\n",
       "      <td>2</td>\n",
       "      <td>medium</td>\n",
       "      <td>F</td>\n",
       "      <td>62</td>\n",
       "      <td>3015</td>\n",
       "      <td>1</td>\n",
       "    </tr>\n",
       "  </tbody>\n",
       "</table>\n",
       "</div>"
      ],
      "text/plain": [
       "    ID Warehouse_block Mode_of_Shipment  Customer_care_calls  Customer_rating  \\\n",
       "0  891               A             Ship                    3                4   \n",
       "1  892               B             Ship                    3                4   \n",
       "2  893               C             Ship                    4                1   \n",
       "3  894               F             Ship                    3                2   \n",
       "4  895               D             Ship                    3                5   \n",
       "\n",
       "   Cost_of_the_Product  Prior_purchases Product_importance Gender  \\\n",
       "0                  266                2               high      F   \n",
       "1                  255                4                low      F   \n",
       "2                  166                3               high      F   \n",
       "3                  232                2                low      F   \n",
       "4                  198                2             medium      F   \n",
       "\n",
       "   Discount_offered  Weight_in_gms  Reached.on.Time_Y.N  \n",
       "0                33           3798                    1  \n",
       "1                12           2266                    1  \n",
       "2                 3           1453                    1  \n",
       "3                39           2139                    1  \n",
       "4                62           3015                    1  "
      ]
     },
     "execution_count": 3,
     "metadata": {},
     "output_type": "execute_result"
    }
   ],
   "source": [
    "#fetch first five rows\n",
    "df.head()"
   ]
  },
  {
   "cell_type": "code",
   "execution_count": 4,
   "metadata": {},
   "outputs": [
    {
     "name": "stdout",
     "output_type": "stream",
     "text": [
      "<class 'pandas.core.frame.DataFrame'>\n",
      "RangeIndex: 10109 entries, 0 to 10108\n",
      "Data columns (total 12 columns):\n",
      " #   Column               Non-Null Count  Dtype \n",
      "---  ------               --------------  ----- \n",
      " 0   ID                   10109 non-null  int64 \n",
      " 1   Warehouse_block      10109 non-null  object\n",
      " 2   Mode_of_Shipment     10109 non-null  object\n",
      " 3   Customer_care_calls  10109 non-null  int64 \n",
      " 4   Customer_rating      10109 non-null  int64 \n",
      " 5   Cost_of_the_Product  10109 non-null  int64 \n",
      " 6   Prior_purchases      10109 non-null  int64 \n",
      " 7   Product_importance   10109 non-null  object\n",
      " 8   Gender               10109 non-null  object\n",
      " 9   Discount_offered     10109 non-null  int64 \n",
      " 10  Weight_in_gms        10109 non-null  int64 \n",
      " 11  Reached.on.Time_Y.N  10109 non-null  int64 \n",
      "dtypes: int64(8), object(4)\n",
      "memory usage: 947.8+ KB\n"
     ]
    }
   ],
   "source": [
    "df.info()"
   ]
  },
  {
   "cell_type": "code",
   "execution_count": 5,
   "metadata": {},
   "outputs": [
    {
     "data": {
      "text/html": [
       "<div>\n",
       "<style scoped>\n",
       "    .dataframe tbody tr th:only-of-type {\n",
       "        vertical-align: middle;\n",
       "    }\n",
       "\n",
       "    .dataframe tbody tr th {\n",
       "        vertical-align: top;\n",
       "    }\n",
       "\n",
       "    .dataframe thead th {\n",
       "        text-align: right;\n",
       "    }\n",
       "</style>\n",
       "<table border=\"1\" class=\"dataframe\">\n",
       "  <thead>\n",
       "    <tr style=\"text-align: right;\">\n",
       "      <th></th>\n",
       "      <th>ID</th>\n",
       "      <th>Customer_care_calls</th>\n",
       "      <th>Customer_rating</th>\n",
       "      <th>Cost_of_the_Product</th>\n",
       "      <th>Prior_purchases</th>\n",
       "      <th>Discount_offered</th>\n",
       "      <th>Weight_in_gms</th>\n",
       "      <th>Reached.on.Time_Y.N</th>\n",
       "    </tr>\n",
       "  </thead>\n",
       "  <tbody>\n",
       "    <tr>\n",
       "      <th>count</th>\n",
       "      <td>10109.00000</td>\n",
       "      <td>10109.000000</td>\n",
       "      <td>10109.000000</td>\n",
       "      <td>10109.000000</td>\n",
       "      <td>10109.000000</td>\n",
       "      <td>10109.000000</td>\n",
       "      <td>10109.000000</td>\n",
       "      <td>10109.000000</td>\n",
       "    </tr>\n",
       "    <tr>\n",
       "      <th>mean</th>\n",
       "      <td>5945.00000</td>\n",
       "      <td>4.091008</td>\n",
       "      <td>2.989316</td>\n",
       "      <td>211.794342</td>\n",
       "      <td>3.602236</td>\n",
       "      <td>11.671778</td>\n",
       "      <td>3747.578099</td>\n",
       "      <td>0.561183</td>\n",
       "    </tr>\n",
       "    <tr>\n",
       "      <th>std</th>\n",
       "      <td>2918.36127</td>\n",
       "      <td>1.143981</td>\n",
       "      <td>1.415152</td>\n",
       "      <td>47.967415</td>\n",
       "      <td>1.541395</td>\n",
       "      <td>14.791831</td>\n",
       "      <td>1632.358252</td>\n",
       "      <td>0.496267</td>\n",
       "    </tr>\n",
       "    <tr>\n",
       "      <th>min</th>\n",
       "      <td>891.00000</td>\n",
       "      <td>2.000000</td>\n",
       "      <td>1.000000</td>\n",
       "      <td>96.000000</td>\n",
       "      <td>2.000000</td>\n",
       "      <td>1.000000</td>\n",
       "      <td>1001.000000</td>\n",
       "      <td>0.000000</td>\n",
       "    </tr>\n",
       "    <tr>\n",
       "      <th>25%</th>\n",
       "      <td>3418.00000</td>\n",
       "      <td>3.000000</td>\n",
       "      <td>2.000000</td>\n",
       "      <td>171.000000</td>\n",
       "      <td>3.000000</td>\n",
       "      <td>4.000000</td>\n",
       "      <td>1879.000000</td>\n",
       "      <td>0.000000</td>\n",
       "    </tr>\n",
       "    <tr>\n",
       "      <th>50%</th>\n",
       "      <td>5945.00000</td>\n",
       "      <td>4.000000</td>\n",
       "      <td>3.000000</td>\n",
       "      <td>217.000000</td>\n",
       "      <td>3.000000</td>\n",
       "      <td>7.000000</td>\n",
       "      <td>4295.000000</td>\n",
       "      <td>1.000000</td>\n",
       "    </tr>\n",
       "    <tr>\n",
       "      <th>75%</th>\n",
       "      <td>8472.00000</td>\n",
       "      <td>5.000000</td>\n",
       "      <td>4.000000</td>\n",
       "      <td>252.000000</td>\n",
       "      <td>4.000000</td>\n",
       "      <td>10.000000</td>\n",
       "      <td>5130.000000</td>\n",
       "      <td>1.000000</td>\n",
       "    </tr>\n",
       "    <tr>\n",
       "      <th>max</th>\n",
       "      <td>10999.00000</td>\n",
       "      <td>7.000000</td>\n",
       "      <td>5.000000</td>\n",
       "      <td>310.000000</td>\n",
       "      <td>10.000000</td>\n",
       "      <td>65.000000</td>\n",
       "      <td>6000.000000</td>\n",
       "      <td>1.000000</td>\n",
       "    </tr>\n",
       "  </tbody>\n",
       "</table>\n",
       "</div>"
      ],
      "text/plain": [
       "                ID  Customer_care_calls  Customer_rating  Cost_of_the_Product  \\\n",
       "count  10109.00000         10109.000000     10109.000000         10109.000000   \n",
       "mean    5945.00000             4.091008         2.989316           211.794342   \n",
       "std     2918.36127             1.143981         1.415152            47.967415   \n",
       "min      891.00000             2.000000         1.000000            96.000000   \n",
       "25%     3418.00000             3.000000         2.000000           171.000000   \n",
       "50%     5945.00000             4.000000         3.000000           217.000000   \n",
       "75%     8472.00000             5.000000         4.000000           252.000000   \n",
       "max    10999.00000             7.000000         5.000000           310.000000   \n",
       "\n",
       "       Prior_purchases  Discount_offered  Weight_in_gms  Reached.on.Time_Y.N  \n",
       "count     10109.000000      10109.000000   10109.000000         10109.000000  \n",
       "mean          3.602236         11.671778    3747.578099             0.561183  \n",
       "std           1.541395         14.791831    1632.358252             0.496267  \n",
       "min           2.000000          1.000000    1001.000000             0.000000  \n",
       "25%           3.000000          4.000000    1879.000000             0.000000  \n",
       "50%           3.000000          7.000000    4295.000000             1.000000  \n",
       "75%           4.000000         10.000000    5130.000000             1.000000  \n",
       "max          10.000000         65.000000    6000.000000             1.000000  "
      ]
     },
     "execution_count": 5,
     "metadata": {},
     "output_type": "execute_result"
    }
   ],
   "source": [
    "df.describe()"
   ]
  },
  {
   "cell_type": "code",
   "execution_count": 6,
   "metadata": {},
   "outputs": [
    {
     "data": {
      "text/plain": [
       "ID                    -0.347104\n",
       "Weight_in_gms         -0.228124\n",
       "Cost_of_the_Product   -0.049856\n",
       "Customer_care_calls   -0.043790\n",
       "Prior_purchases       -0.039121\n",
       "Customer_rating        0.013327\n",
       "Discount_offered       0.366228\n",
       "Reached.on.Time_Y.N    1.000000\n",
       "Name: Reached.on.Time_Y.N, dtype: float64"
      ]
     },
     "execution_count": 6,
     "metadata": {},
     "output_type": "execute_result"
    }
   ],
   "source": [
    "# correlation matrix\n",
    "corr = df.corr()\n",
    "corr['Reached.on.Time_Y.N'].sort_values(ascending=True)"
   ]
  },
  {
   "cell_type": "code",
   "execution_count": 7,
   "metadata": {},
   "outputs": [
    {
     "data": {
      "image/png": "[encoded data removed]",
      "text/plain": [
       "<Figure size 1440x720 with 2 Axes>"
      ]
     },
     "metadata": {
      "needs_background": "light"
     },
     "output_type": "display_data"
    }
   ],
   "source": [
    "# plotting heatmap for obeserving correlation\n",
    "sns.heatmap(data = corr, annot = True)\n",
    "plt.gcf().set_size_inches(20,10)"
   ]
  },
  {
   "cell_type": "code",
   "execution_count": 8,
   "metadata": {},
   "outputs": [
    {
     "data": {
      "text/plain": [
       "(10109, 12)"
      ]
     },
     "execution_count": 8,
     "metadata": {},
     "output_type": "execute_result"
    }
   ],
   "source": [
    "df.shape"
   ]
  },
  {
   "cell_type": "markdown",
   "metadata": {},
   "source": [
    "### Summary of Dataset features\n",
    "- Total Data instances - 10109\n",
    "- Total column - 12"
   ]
  },
  {
   "cell_type": "markdown",
   "metadata": {},
   "source": [
    "### Data Pre-Processing"
   ]
  },
  {
   "cell_type": "code",
   "execution_count": 9,
   "metadata": {},
   "outputs": [
    {
     "data": {
      "text/plain": [
       "ID                     0\n",
       "Warehouse_block        0\n",
       "Mode_of_Shipment       0\n",
       "Customer_care_calls    0\n",
       "Customer_rating        0\n",
       "Cost_of_the_Product    0\n",
       "Prior_purchases        0\n",
       "Product_importance     0\n",
       "Gender                 0\n",
       "Discount_offered       0\n",
       "Weight_in_gms          0\n",
       "Reached.on.Time_Y.N    0\n",
       "dtype: int64"
      ]
     },
     "execution_count": 9,
     "metadata": {},
     "output_type": "execute_result"
    }
   ],
   "source": [
    "df.isnull().sum()"
   ]
  },
  {
   "cell_type": "code",
   "execution_count": 10,
   "metadata": {},
   "outputs": [
    {
     "data": {
      "text/plain": [
       "0"
      ]
     },
     "execution_count": 10,
     "metadata": {},
     "output_type": "execute_result"
    }
   ],
   "source": [
    "df.duplicated().sum()"
   ]
  },
  {
   "cell_type": "code",
   "execution_count": 11,
   "metadata": {},
   "outputs": [],
   "source": [
    "df = pd.get_dummies(df, columns = [\"Warehouse_block\",\"Product_importance\",\"Gender\",\"Mode_of_Shipment\"], drop_first = True)"
   ]
  },
  {
   "cell_type": "code",
   "execution_count": 12,
   "metadata": {},
   "outputs": [
    {
     "data": {
      "text/html": [
       "<div>\n",
       "<style scoped>\n",
       "    .dataframe tbody tr th:only-of-type {\n",
       "        vertical-align: middle;\n",
       "    }\n",
       "\n",
       "    .dataframe tbody tr th {\n",
       "        vertical-align: top;\n",
       "    }\n",
       "\n",
       "    .dataframe thead th {\n",
       "        text-align: right;\n",
       "    }\n",
       "</style>\n",
       "<table border=\"1\" class=\"dataframe\">\n",
       "  <thead>\n",
       "    <tr style=\"text-align: right;\">\n",
       "      <th></th>\n",
       "      <th>ID</th>\n",
       "      <th>Customer_care_calls</th>\n",
       "      <th>Customer_rating</th>\n",
       "      <th>Cost_of_the_Product</th>\n",
       "      <th>Prior_purchases</th>\n",
       "      <th>Discount_offered</th>\n",
       "      <th>Weight_in_gms</th>\n",
       "      <th>Reached.on.Time_Y.N</th>\n",
       "      <th>Warehouse_block_B</th>\n",
       "      <th>Warehouse_block_C</th>\n",
       "      <th>Warehouse_block_D</th>\n",
       "      <th>Warehouse_block_F</th>\n",
       "      <th>Product_importance_low</th>\n",
       "      <th>Product_importance_medium</th>\n",
       "      <th>Gender_M</th>\n",
       "      <th>Mode_of_Shipment_Road</th>\n",
       "      <th>Mode_of_Shipment_Ship</th>\n",
       "    </tr>\n",
       "  </thead>\n",
       "  <tbody>\n",
       "    <tr>\n",
       "      <th>0</th>\n",
       "      <td>891</td>\n",
       "      <td>3</td>\n",
       "      <td>4</td>\n",
       "      <td>266</td>\n",
       "      <td>2</td>\n",
       "      <td>33</td>\n",
       "      <td>3798</td>\n",
       "      <td>1</td>\n",
       "      <td>0</td>\n",
       "      <td>0</td>\n",
       "      <td>0</td>\n",
       "      <td>0</td>\n",
       "      <td>0</td>\n",
       "      <td>0</td>\n",
       "      <td>0</td>\n",
       "      <td>0</td>\n",
       "      <td>1</td>\n",
       "    </tr>\n",
       "    <tr>\n",
       "      <th>1</th>\n",
       "      <td>892</td>\n",
       "      <td>3</td>\n",
       "      <td>4</td>\n",
       "      <td>255</td>\n",
       "      <td>4</td>\n",
       "      <td>12</td>\n",
       "      <td>2266</td>\n",
       "      <td>1</td>\n",
       "      <td>1</td>\n",
       "      <td>0</td>\n",
       "      <td>0</td>\n",
       "      <td>0</td>\n",
       "      <td>1</td>\n",
       "      <td>0</td>\n",
       "      <td>0</td>\n",
       "      <td>0</td>\n",
       "      <td>1</td>\n",
       "    </tr>\n",
       "    <tr>\n",
       "      <th>2</th>\n",
       "      <td>893</td>\n",
       "      <td>4</td>\n",
       "      <td>1</td>\n",
       "      <td>166</td>\n",
       "      <td>3</td>\n",
       "      <td>3</td>\n",
       "      <td>1453</td>\n",
       "      <td>1</td>\n",
       "      <td>0</td>\n",
       "      <td>1</td>\n",
       "      <td>0</td>\n",
       "      <td>0</td>\n",
       "      <td>0</td>\n",
       "      <td>0</td>\n",
       "      <td>0</td>\n",
       "      <td>0</td>\n",
       "      <td>1</td>\n",
       "    </tr>\n",
       "    <tr>\n",
       "      <th>3</th>\n",
       "      <td>894</td>\n",
       "      <td>3</td>\n",
       "      <td>2</td>\n",
       "      <td>232</td>\n",
       "      <td>2</td>\n",
       "      <td>39</td>\n",
       "      <td>2139</td>\n",
       "      <td>1</td>\n",
       "      <td>0</td>\n",
       "      <td>0</td>\n",
       "      <td>0</td>\n",
       "      <td>1</td>\n",
       "      <td>1</td>\n",
       "      <td>0</td>\n",
       "      <td>0</td>\n",
       "      <td>0</td>\n",
       "      <td>1</td>\n",
       "    </tr>\n",
       "    <tr>\n",
       "      <th>4</th>\n",
       "      <td>895</td>\n",
       "      <td>3</td>\n",
       "      <td>5</td>\n",
       "      <td>198</td>\n",
       "      <td>2</td>\n",
       "      <td>62</td>\n",
       "      <td>3015</td>\n",
       "      <td>1</td>\n",
       "      <td>0</td>\n",
       "      <td>0</td>\n",
       "      <td>1</td>\n",
       "      <td>0</td>\n",
       "      <td>0</td>\n",
       "      <td>1</td>\n",
       "      <td>0</td>\n",
       "      <td>0</td>\n",
       "      <td>1</td>\n",
       "    </tr>\n",
       "  </tbody>\n",
       "</table>\n",
       "</div>"
      ],
      "text/plain": [
       "    ID  Customer_care_calls  Customer_rating  Cost_of_the_Product  \\\n",
       "0  891                    3                4                  266   \n",
       "1  892                    3                4                  255   \n",
       "2  893                    4                1                  166   \n",
       "3  894                    3                2                  232   \n",
       "4  895                    3                5                  198   \n",
       "\n",
       "   Prior_purchases  Discount_offered  Weight_in_gms  Reached.on.Time_Y.N  \\\n",
       "0                2                33           3798                    1   \n",
       "1                4                12           2266                    1   \n",
       "2                3                 3           1453                    1   \n",
       "3                2                39           2139                    1   \n",
       "4                2                62           3015                    1   \n",
       "\n",
       "   Warehouse_block_B  Warehouse_block_C  Warehouse_block_D  Warehouse_block_F  \\\n",
       "0                  0                  0                  0                  0   \n",
       "1                  1                  0                  0                  0   \n",
       "2                  0                  1                  0                  0   \n",
       "3                  0                  0                  0                  1   \n",
       "4                  0                  0                  1                  0   \n",
       "\n",
       "   Product_importance_low  Product_importance_medium  Gender_M  \\\n",
       "0                       0                          0         0   \n",
       "1                       1                          0         0   \n",
       "2                       0                          0         0   \n",
       "3                       1                          0         0   \n",
       "4                       0                          1         0   \n",
       "\n",
       "   Mode_of_Shipment_Road  Mode_of_Shipment_Ship  \n",
       "0                      0                      1  \n",
       "1                      0                      1  \n",
       "2                      0                      1  \n",
       "3                      0                      1  \n",
       "4                      0                      1  "
      ]
     },
     "execution_count": 12,
     "metadata": {},
     "output_type": "execute_result"
    }
   ],
   "source": [
    "df.head()"
   ]
  },
  {
   "cell_type": "markdown",
   "metadata": {},
   "source": [
    "### Summary of Pre-Processing\n",
    "- The dataset has got no null values, we therefore create dummy variables for the floast type elements"
   ]
  },
  {
   "cell_type": "markdown",
   "metadata": {},
   "source": [
    "### Univariate analysis for target feature"
   ]
  },
  {
   "cell_type": "code",
   "execution_count": 13,
   "metadata": {},
   "outputs": [
    {
     "data": {
      "text/plain": [
       "1    5673\n",
       "0    4436\n",
       "Name: Reached.on.Time_Y.N, dtype: int64"
      ]
     },
     "execution_count": 13,
     "metadata": {},
     "output_type": "execute_result"
    }
   ],
   "source": [
    "df['Reached.on.Time_Y.N'].value_counts()"
   ]
  },
  {
   "cell_type": "code",
   "execution_count": 14,
   "metadata": {},
   "outputs": [
    {
     "name": "stdout",
     "output_type": "stream",
     "text": [
      "Class 0 before imbalance: 56.1 %\n",
      "Class 1 before imbalance: 43.9 %\n"
     ]
    }
   ],
   "source": [
    "class_0, class_1 = df['Reached.on.Time_Y.N'].value_counts(normalize = True)\n",
    "print(f'Class 0 before imbalance:', round(class_0 *100,1) ,'%')\n",
    "print(f'Class 1 before imbalance:', round(class_1 *100,1) ,'%')"
   ]
  },
  {
   "cell_type": "code",
   "execution_count": 15,
   "metadata": {},
   "outputs": [
    {
     "data": {
      "image/png": "[encoded data removed]",
      "text/plain": [
       "<Figure size 432x288 with 1 Axes>"
      ]
     },
     "metadata": {
      "needs_background": "light"
     },
     "output_type": "display_data"
    }
   ],
   "source": [
    "sns.countplot(x = 'Reached.on.Time_Y.N', data = df)\n",
    "plt.title('Target_Labels Distribution')\n",
    "plt.xlabel('Target_Labels')\n",
    "plt.ylabel('Total Number of instances')\n",
    "plt.savefig('Target_Labels Distributions.jpg')"
   ]
  },
  {
   "cell_type": "markdown",
   "metadata": {},
   "source": [
    "### Imbalancing the target feature\n",
    "- As mentioned in the project small imbalances of one class is fine, I'll proceed ahead with the further step 'making the target feature imbalance'"
   ]
  },
  {
   "cell_type": "code",
   "execution_count": 16,
   "metadata": {},
   "outputs": [],
   "source": [
    "X = df.loc[:, df.columns != 'Reached.on.Time_Y.N']\n",
    "y = df.loc[:,'Reached.on.Time_Y.N'].copy() # lets work with the copy without disturbing the original target feature"
   ]
  },
  {
   "cell_type": "code",
   "execution_count": 17,
   "metadata": {},
   "outputs": [
    {
     "data": {
      "text/plain": [
       "((10109, 16), (10109,))"
      ]
     },
     "execution_count": 17,
     "metadata": {},
     "output_type": "execute_result"
    }
   ],
   "source": [
    "X.shape, y.shape"
   ]
  },
  {
   "cell_type": "code",
   "execution_count": 18,
   "metadata": {},
   "outputs": [
    {
     "name": "stdout",
     "output_type": "stream",
     "text": [
      "Distribution after imbalancing: Counter({0: 4436, 1: 2385})\n"
     ]
    }
   ],
   "source": [
    "# 65% imbalance\n",
    "X_65, y_65 = make_imbalance(X, y, sampling_strategy={0:4436 , 1: 2385}, random_state=48)\n",
    "print(f'Distribution after imbalancing: {Counter(y_65)}')"
   ]
  },
  {
   "cell_type": "code",
   "execution_count": 19,
   "metadata": {},
   "outputs": [
    {
     "name": "stdout",
     "output_type": "stream",
     "text": [
      "Class 0 after imbalance: 65.0 %\n",
      "Class 1 after imbalance: 35.0 %\n"
     ]
    }
   ],
   "source": [
    "class0 , class1 = y_65.value_counts(normalize = True)\n",
    "print(f'Class 0 after imbalance:', round(class0 *100,1) ,'%')\n",
    "print(f'Class 1 after imbalance:', round(class1 *100,1) ,'%')"
   ]
  },
  {
   "cell_type": "code",
   "execution_count": 20,
   "metadata": {},
   "outputs": [
    {
     "data": {
      "image/png": "[encoded data removed]",
      "text/plain": [
       "<Figure size 432x288 with 1 Axes>"
      ]
     },
     "metadata": {
      "needs_background": "light"
     },
     "output_type": "display_data"
    }
   ],
   "source": [
    "# 65% imbalance target feature\n",
    "y_65.hist() \n",
    "plt.title('Imbalance_65% Class Distributions')\n",
    "plt.xlabel('Target_Labels')\n",
    "plt.ylabel('Total Number of instances')\n",
    "plt.savefig('Imbalance_65% Class Distributions.jpg')"
   ]
  },
  {
   "cell_type": "code",
   "execution_count": null,
   "metadata": {},
   "outputs": [],
   "source": []
  },
  {
   "cell_type": "code",
   "execution_count": 21,
   "metadata": {},
   "outputs": [],
   "source": [
    "# Stratified Kfold\n",
    "from sklearn.model_selection import StratifiedKFold\n",
    "from sklearn.ensemble import RandomForestClassifier\n",
    "from sklearn.metrics import accuracy_score\n",
    "from sklearn.metrics import precision_score\n",
    "from sklearn.metrics import recall_score"
   ]
  },
  {
   "cell_type": "code",
   "execution_count": 22,
   "metadata": {},
   "outputs": [],
   "source": [
    "skf = StratifiedKFold(n_splits=10, random_state = None)\n",
    "rf_clf = RandomForestClassifier(n_estimators = 1000, n_jobs = -1, random_state = 42) #rf model"
   ]
  },
  {
   "cell_type": "code",
   "execution_count": 23,
   "metadata": {},
   "outputs": [],
   "source": [
    "#Training with 65% imbalance surrogate\n",
    "skf.get_n_splits(X_65, y_65)\n",
    "score = []\n",
    "precision = []\n",
    "recall = []\n",
    "for train_index, test_index in skf.split(X_65, y_65):\n",
    "    #print('Train:' , train_index, 'Validation: ', test_index)\n",
    "    x_train, x_test = X_65.iloc[train_index], X_65.iloc[test_index]\n",
    "    y_train, y_test = y_65.iloc[train_index], y_65.iloc[test_index]\n",
    "    rf_clf.fit(x_train, y_train)\n",
    "    acc = accuracy_score(y_test, rf_clf.predict(x_test))\n",
    "    precision_s = precision_score(y_test, rf_clf.predict(x_test),average='macro')\n",
    "    recall_s = recall_score(y_test, rf_clf.predict(x_test))\n",
    "    score.append(acc)\n",
    "    precision.append(precision_s)\n",
    "    recall.append(recall_s)"
   ]
  },
  {
   "cell_type": "code",
   "execution_count": 26,
   "metadata": {},
   "outputs": [
    {
     "name": "stdout",
     "output_type": "stream",
     "text": [
      "Mean Accuracy Score: 0.7905001223685397   Accuracy std: 0.007983816033656018\n",
      "Mean Precision Score: 0.8713708433705198   Precision std: 0.005898633826635833\n",
      "Mean Recall Score: 0.40711824478745473   Recall std: 0.023863742563296732\n"
     ]
    }
   ],
   "source": [
    "#Metrics @ 65%\n",
    "print('Mean Accuracy Score: {}   Accuracy std: {}'.format(np.array(score).mean(), np.array(score).std()))\n",
    "print('Mean Precision Score: {}   Precision std: {}'.format(np.array(precision).mean(),  np.array(precision).std()))\n",
    "print('Mean Recall Score: {}   Recall std: {}'.format(np.array(recall).mean(),  np.array(recall).std()))"
   ]
  },
  {
   "cell_type": "code",
   "execution_count": 27,
   "metadata": {},
   "outputs": [
    {
     "name": "stdout",
     "output_type": "stream",
     "text": [
      "Distribution after imbalancing: Counter({0: 4436, 1: 1475})\n"
     ]
    }
   ],
   "source": [
    "# 75% imbalance\n",
    "X_75, y_75 = make_imbalance(X, y, sampling_strategy={0:4436 , 1: 1475}, random_state=48)\n",
    "print(f'Distribution after imbalancing: {Counter(y_75)}')"
   ]
  },
  {
   "cell_type": "code",
   "execution_count": 28,
   "metadata": {},
   "outputs": [
    {
     "name": "stdout",
     "output_type": "stream",
     "text": [
      "Class 0 after imbalance_75%: 75.0 %\n",
      "Class 1 after imbalance_75%: 25.0 %\n"
     ]
    }
   ],
   "source": [
    "class0 , class1 = y_75.value_counts(normalize = True)\n",
    "print(f'Class 0 after imbalance_75%:', round(class0 *100,1) ,'%')\n",
    "print(f'Class 1 after imbalance_75%:', round(class1 *100,1) ,'%')"
   ]
  },
  {
   "cell_type": "code",
   "execution_count": 29,
   "metadata": {},
   "outputs": [
    {
     "data": {
      "image/png": "[encoded data removed]",
      "text/plain": [
       "<Figure size 432x288 with 1 Axes>"
      ]
     },
     "metadata": {
      "needs_background": "light"
     },
     "output_type": "display_data"
    }
   ],
   "source": [
    "# 75% imbalance target feature\n",
    "y_75.hist() \n",
    "plt.title('Imbalance_75% Class Distributions')\n",
    "plt.xlabel('Target_Labels')\n",
    "plt.ylabel('Total Number of instances')\n",
    "plt.savefig('Imbalance_75% Class Distributions.jpg')"
   ]
  },
  {
   "cell_type": "code",
   "execution_count": null,
   "metadata": {},
   "outputs": [],
   "source": []
  },
  {
   "cell_type": "code",
   "execution_count": 32,
   "metadata": {},
   "outputs": [],
   "source": [
    "#Training with 75% imbalance surrogate\n",
    "skf.get_n_splits(X_75, y_75)\n",
    "score = []\n",
    "precision = []\n",
    "recall = []\n",
    "for train_index, test_index in skf.split(X_75, y_75):\n",
    "    #print('Train:' , train_index, 'Validation: ', test_index)\n",
    "    x_train, x_test = X_75.iloc[train_index], X_75.iloc[test_index]\n",
    "    y_train, y_test = y_75.iloc[train_index], y_75.iloc[test_index]\n",
    "    rf_clf.fit(x_train, y_train)\n",
    "    acc = accuracy_score(y_test, rf_clf.predict(x_test))\n",
    "    precision_s = precision_score(y_test, rf_clf.predict(x_test),average='macro')\n",
    "    recall_s = recall_score(y_test, rf_clf.predict(x_test))\n",
    "    score.append(acc)\n",
    "    precision.append(precision_s)\n",
    "    recall.append(recall_s)"
   ]
  },
  {
   "cell_type": "code",
   "execution_count": 33,
   "metadata": {},
   "outputs": [
    {
     "name": "stdout",
     "output_type": "stream",
     "text": [
      "Mean Accuracy Score: 0.8506182260941145   Accuracy std: 0.010611325403560688\n",
      "Mean Precision Score: 0.9147457963154364   Precision std: 0.006591659091114128\n",
      "Mean Recall Score: 0.40346111417539987   Recall std: 0.04117780295163745\n"
     ]
    }
   ],
   "source": [
    "#Metrics @ 75%\n",
    "print('Mean Accuracy Score: {}   Accuracy std: {}'.format(np.array(score).mean(), np.array(score).std()))\n",
    "print('Mean Precision Score: {}   Precision std: {}'.format(np.array(precision).mean(),  np.array(precision).std()))\n",
    "print('Mean Recall Score: {}   Recall std: {}'.format(np.array(recall).mean(),  np.array(recall).std()))"
   ]
  },
  {
   "cell_type": "code",
   "execution_count": 34,
   "metadata": {},
   "outputs": [
    {
     "name": "stdout",
     "output_type": "stream",
     "text": [
      "Distribution after imbalancing: Counter({0: 4436, 1: 495})\n"
     ]
    }
   ],
   "source": [
    "# 90% imbalance\n",
    "X_90, y_90 = make_imbalance(X, y, sampling_strategy={0:4436 , 1: 495}, random_state=48)\n",
    "print(f'Distribution after imbalancing: {Counter(y_90)}')"
   ]
  },
  {
   "cell_type": "code",
   "execution_count": 35,
   "metadata": {},
   "outputs": [
    {
     "name": "stdout",
     "output_type": "stream",
     "text": [
      "Class 0 after imbalance_90%: 90.0 %\n",
      "Class 1 after imbalance_90%: 10.0 %\n"
     ]
    }
   ],
   "source": [
    "class0 , class1 = y_90.value_counts(normalize = True)\n",
    "print(f'Class 0 after imbalance_90%:', round(class0 *100,1) ,'%')\n",
    "print(f'Class 1 after imbalance_90%:', round(class1 *100,1) ,'%')"
   ]
  },
  {
   "cell_type": "code",
   "execution_count": 36,
   "metadata": {},
   "outputs": [
    {
     "data": {
      "image/png": "[encoded data removed]",
      "text/plain": [
       "<Figure size 432x288 with 1 Axes>"
      ]
     },
     "metadata": {
      "needs_background": "light"
     },
     "output_type": "display_data"
    }
   ],
   "source": [
    "# 90% imbalance target feature plot\n",
    "y_90.hist() \n",
    "plt.title('Imbalance_90% Class Distributions')\n",
    "plt.xlabel('Target_Labels')\n",
    "plt.ylabel('Total Number of instances')\n",
    "plt.savefig('Imbalance_90% Class Distributions.jpg')"
   ]
  },
  {
   "cell_type": "code",
   "execution_count": null,
   "metadata": {},
   "outputs": [],
   "source": []
  },
  {
   "cell_type": "code",
   "execution_count": 37,
   "metadata": {},
   "outputs": [],
   "source": [
    "#Training with 90% imbalance surrogate\n",
    "skf.get_n_splits(X_90, y_90)\n",
    "score = []\n",
    "precision = []\n",
    "recall = []\n",
    "for train_index, test_index in skf.split(X_90, y_90):\n",
    "    #print('Train:' , train_index, 'Validation: ', test_index)\n",
    "    x_train, x_test = X_90.iloc[train_index], X_90.iloc[test_index]\n",
    "    y_train, y_test = y_90.iloc[train_index], y_90.iloc[test_index]\n",
    "    rf_clf.fit(x_train, y_train)\n",
    "    acc = accuracy_score(y_test, rf_clf.predict(x_test))\n",
    "    precision_s = precision_score(y_test, rf_clf.predict(x_test),average='macro')\n",
    "    recall_s = recall_score(y_test, rf_clf.predict(x_test))\n",
    "    score.append(acc)\n",
    "    precision.append(precision_s)\n",
    "    recall.append(recall_s)"
   ]
  },
  {
   "cell_type": "code",
   "execution_count": 38,
   "metadata": {},
   "outputs": [
    {
     "name": "stdout",
     "output_type": "stream",
     "text": [
      "Mean Accuracy Score: 0.9387551223197642\n",
      "Mean Precision Score: 0.968148936908151\n",
      "Mean Recall Score: 0.38999999999999996\n"
     ]
    }
   ],
   "source": [
    "#Metrics @ 90%\n",
    "print('Mean Accuracy Score: {}'.format(np.array(score).mean()))\n",
    "print('Mean Precision Score: {}'.format(np.array(precision).mean()))\n",
    "print('Mean Recall Score: {}'.format(np.array(recall).mean()))"
   ]
  },
  {
   "cell_type": "markdown",
   "metadata": {},
   "source": [
    "## Part 3"
   ]
  },
  {
   "cell_type": "code",
   "execution_count": 39,
   "metadata": {},
   "outputs": [],
   "source": [
    "x_train = []\n",
    "x_test = []\n",
    "y_train = []\n",
    "y_test = []\n",
    "skf.get_n_splits(X_65, y_65)\n",
    "for train_index, test_index in skf.split(X_90, y_90):\n",
    "    #print('Train:' , train_index, 'Validation: ', test_index)\n",
    "    xtrain, xtest = X_90.iloc[train_index], X_90.iloc[test_index]\n",
    "    ytrain, ytest = y_90.iloc[train_index], y_90.iloc[test_index]\n",
    "    x_train.append(xtrain)\n",
    "    x_test.append(xtest)\n",
    "    y_train.append(ytrain)\n",
    "    y_test.append(ytest)"
   ]
  },
  {
   "cell_type": "code",
   "execution_count": 40,
   "metadata": {},
   "outputs": [
    {
     "data": {
      "text/html": [
       "<div>\n",
       "<style scoped>\n",
       "    .dataframe tbody tr th:only-of-type {\n",
       "        vertical-align: middle;\n",
       "    }\n",
       "\n",
       "    .dataframe tbody tr th {\n",
       "        vertical-align: top;\n",
       "    }\n",
       "\n",
       "    .dataframe thead th {\n",
       "        text-align: right;\n",
       "    }\n",
       "</style>\n",
       "<table border=\"1\" class=\"dataframe\">\n",
       "  <thead>\n",
       "    <tr style=\"text-align: right;\">\n",
       "      <th></th>\n",
       "      <th>ID</th>\n",
       "      <th>Customer_care_calls</th>\n",
       "      <th>Customer_rating</th>\n",
       "      <th>Cost_of_the_Product</th>\n",
       "      <th>Prior_purchases</th>\n",
       "      <th>Discount_offered</th>\n",
       "      <th>Weight_in_gms</th>\n",
       "      <th>Warehouse_block_B</th>\n",
       "      <th>Warehouse_block_C</th>\n",
       "      <th>Warehouse_block_D</th>\n",
       "      <th>Warehouse_block_F</th>\n",
       "      <th>Product_importance_low</th>\n",
       "      <th>Product_importance_medium</th>\n",
       "      <th>Gender_M</th>\n",
       "      <th>Mode_of_Shipment_Road</th>\n",
       "      <th>Mode_of_Shipment_Ship</th>\n",
       "    </tr>\n",
       "  </thead>\n",
       "  <tbody>\n",
       "    <tr>\n",
       "      <th>444</th>\n",
       "      <td>10609</td>\n",
       "      <td>3</td>\n",
       "      <td>1</td>\n",
       "      <td>133</td>\n",
       "      <td>3</td>\n",
       "      <td>10</td>\n",
       "      <td>5640</td>\n",
       "      <td>0</td>\n",
       "      <td>0</td>\n",
       "      <td>1</td>\n",
       "      <td>0</td>\n",
       "      <td>1</td>\n",
       "      <td>0</td>\n",
       "      <td>0</td>\n",
       "      <td>0</td>\n",
       "      <td>1</td>\n",
       "    </tr>\n",
       "    <tr>\n",
       "      <th>445</th>\n",
       "      <td>9233</td>\n",
       "      <td>3</td>\n",
       "      <td>3</td>\n",
       "      <td>264</td>\n",
       "      <td>2</td>\n",
       "      <td>6</td>\n",
       "      <td>4102</td>\n",
       "      <td>0</td>\n",
       "      <td>1</td>\n",
       "      <td>0</td>\n",
       "      <td>0</td>\n",
       "      <td>1</td>\n",
       "      <td>0</td>\n",
       "      <td>1</td>\n",
       "      <td>0</td>\n",
       "      <td>1</td>\n",
       "    </tr>\n",
       "    <tr>\n",
       "      <th>446</th>\n",
       "      <td>8927</td>\n",
       "      <td>6</td>\n",
       "      <td>2</td>\n",
       "      <td>255</td>\n",
       "      <td>4</td>\n",
       "      <td>3</td>\n",
       "      <td>1355</td>\n",
       "      <td>0</td>\n",
       "      <td>1</td>\n",
       "      <td>0</td>\n",
       "      <td>0</td>\n",
       "      <td>0</td>\n",
       "      <td>1</td>\n",
       "      <td>0</td>\n",
       "      <td>0</td>\n",
       "      <td>1</td>\n",
       "    </tr>\n",
       "    <tr>\n",
       "      <th>447</th>\n",
       "      <td>4540</td>\n",
       "      <td>2</td>\n",
       "      <td>4</td>\n",
       "      <td>255</td>\n",
       "      <td>7</td>\n",
       "      <td>10</td>\n",
       "      <td>5875</td>\n",
       "      <td>1</td>\n",
       "      <td>0</td>\n",
       "      <td>0</td>\n",
       "      <td>0</td>\n",
       "      <td>1</td>\n",
       "      <td>0</td>\n",
       "      <td>1</td>\n",
       "      <td>0</td>\n",
       "      <td>1</td>\n",
       "    </tr>\n",
       "    <tr>\n",
       "      <th>448</th>\n",
       "      <td>6253</td>\n",
       "      <td>5</td>\n",
       "      <td>2</td>\n",
       "      <td>241</td>\n",
       "      <td>2</td>\n",
       "      <td>6</td>\n",
       "      <td>4741</td>\n",
       "      <td>0</td>\n",
       "      <td>0</td>\n",
       "      <td>1</td>\n",
       "      <td>0</td>\n",
       "      <td>0</td>\n",
       "      <td>1</td>\n",
       "      <td>1</td>\n",
       "      <td>0</td>\n",
       "      <td>1</td>\n",
       "    </tr>\n",
       "  </tbody>\n",
       "</table>\n",
       "</div>"
      ],
      "text/plain": [
       "        ID  Customer_care_calls  Customer_rating  Cost_of_the_Product  \\\n",
       "444  10609                    3                1                  133   \n",
       "445   9233                    3                3                  264   \n",
       "446   8927                    6                2                  255   \n",
       "447   4540                    2                4                  255   \n",
       "448   6253                    5                2                  241   \n",
       "\n",
       "     Prior_purchases  Discount_offered  Weight_in_gms  Warehouse_block_B  \\\n",
       "444                3                10           5640                  0   \n",
       "445                2                 6           4102                  0   \n",
       "446                4                 3           1355                  0   \n",
       "447                7                10           5875                  1   \n",
       "448                2                 6           4741                  0   \n",
       "\n",
       "     Warehouse_block_C  Warehouse_block_D  Warehouse_block_F  \\\n",
       "444                  0                  1                  0   \n",
       "445                  1                  0                  0   \n",
       "446                  1                  0                  0   \n",
       "447                  0                  0                  0   \n",
       "448                  0                  1                  0   \n",
       "\n",
       "     Product_importance_low  Product_importance_medium  Gender_M  \\\n",
       "444                       1                          0         0   \n",
       "445                       1                          0         1   \n",
       "446                       0                          1         0   \n",
       "447                       1                          0         1   \n",
       "448                       0                          1         1   \n",
       "\n",
       "     Mode_of_Shipment_Road  Mode_of_Shipment_Ship  \n",
       "444                      0                      1  \n",
       "445                      0                      1  \n",
       "446                      0                      1  \n",
       "447                      0                      1  \n",
       "448                      0                      1  "
      ]
     },
     "execution_count": 40,
     "metadata": {},
     "output_type": "execute_result"
    }
   ],
   "source": [
    "x_train[0].head()"
   ]
  },
  {
   "cell_type": "markdown",
   "metadata": {},
   "source": [
    "## Part 4"
   ]
  },
  {
   "cell_type": "markdown",
   "metadata": {},
   "source": [
    "### Elbow Method"
   ]
  },
  {
   "cell_type": "code",
   "execution_count": 43,
   "metadata": {},
   "outputs": [],
   "source": [
    "wss_score = [[] for col in range(9) for row in range(9)]\n",
    "for i in range(0,9):\n",
    "    for j in range(2, 12):\n",
    "        kmeans=cluster.KMeans(n_clusters=j,init=\"k-means++\")\n",
    "        kmeans=kmeans.fit(x_train[i])\n",
    "        wss_iter = kmeans.inertia_\n",
    "        wss_score[i].append(wss_iter)"
   ]
  },
  {
   "cell_type": "code",
   "execution_count": 44,
   "metadata": {},
   "outputs": [
    {
     "data": {
      "image/png": "[encoded data removed]",
      "text/plain": [
       "<Figure size 432x288 with 1 Axes>"
      ]
     },
     "metadata": {
      "needs_background": "light"
     },
     "output_type": "display_data"
    }
   ],
   "source": [
    "for i in range(0,9):\n",
    "    plt.plot(wss_score[i], label= 'Fold {}'.format(i))\n",
    "    plt.xlabel('Number of Clusters')\n",
    "    plt.ylabel('WSS Score')\n",
    "    plt.title('WSS Score against Number of Clusters')\n",
    "    plt.legend()\n",
    "    plt.savefig('Elbow_plot_E_commerce.jpg')"
   ]
  },
  {
   "cell_type": "markdown",
   "metadata": {},
   "source": [
    "### Silhouette Method"
   ]
  },
  {
   "cell_type": "code",
   "execution_count": 3,
   "metadata": {},
   "outputs": [],
   "source": [
    "from sklearn.metrics import silhouette_score"
   ]
  },
  {
   "cell_type": "code",
   "execution_count": 5,
   "metadata": {},
   "outputs": [
    {
     "ename": "NameError",
     "evalue": "name 'cluster' is not defined",
     "output_type": "error",
     "traceback": [
      "\u001b[1;31m---------------------------------------------------------------------------\u001b[0m",
      "\u001b[1;31mNameError\u001b[0m                                 Traceback (most recent call last)",
      "\u001b[1;32m<ipython-input-5-6ff35be01b1c>\u001b[0m in \u001b[0;36m<module>\u001b[1;34m\u001b[0m\n\u001b[0;32m      2\u001b[0m \u001b[1;32mfor\u001b[0m \u001b[0mi\u001b[0m \u001b[1;32min\u001b[0m \u001b[0mrange\u001b[0m\u001b[1;33m(\u001b[0m\u001b[1;36m0\u001b[0m\u001b[1;33m,\u001b[0m\u001b[1;36m9\u001b[0m\u001b[1;33m)\u001b[0m\u001b[1;33m:\u001b[0m\u001b[1;33m\u001b[0m\u001b[1;33m\u001b[0m\u001b[0m\n\u001b[0;32m      3\u001b[0m     \u001b[1;32mfor\u001b[0m \u001b[0mj\u001b[0m \u001b[1;32min\u001b[0m \u001b[0mrange\u001b[0m\u001b[1;33m(\u001b[0m\u001b[1;36m2\u001b[0m\u001b[1;33m,\u001b[0m \u001b[1;36m12\u001b[0m\u001b[1;33m)\u001b[0m\u001b[1;33m:\u001b[0m\u001b[1;33m\u001b[0m\u001b[1;33m\u001b[0m\u001b[0m\n\u001b[1;32m----> 4\u001b[1;33m         \u001b[0mlabels\u001b[0m\u001b[1;33m=\u001b[0m\u001b[0mcluster\u001b[0m\u001b[1;33m.\u001b[0m\u001b[0mKMeans\u001b[0m\u001b[1;33m(\u001b[0m\u001b[0mn_clusters\u001b[0m\u001b[1;33m=\u001b[0m\u001b[0mj\u001b[0m\u001b[1;33m,\u001b[0m\u001b[0minit\u001b[0m\u001b[1;33m=\u001b[0m\u001b[1;34m\"k-means++\"\u001b[0m\u001b[1;33m,\u001b[0m\u001b[0mrandom_state\u001b[0m\u001b[1;33m=\u001b[0m\u001b[1;36m200\u001b[0m\u001b[1;33m)\u001b[0m\u001b[1;33m.\u001b[0m\u001b[0mfit\u001b[0m\u001b[1;33m(\u001b[0m\u001b[0mx_train\u001b[0m\u001b[1;33m[\u001b[0m\u001b[0mi\u001b[0m\u001b[1;33m]\u001b[0m\u001b[1;33m)\u001b[0m\u001b[1;33m.\u001b[0m\u001b[0mlabels_\u001b[0m\u001b[1;33m\u001b[0m\u001b[1;33m\u001b[0m\u001b[0m\n\u001b[0m\u001b[0;32m      5\u001b[0m         \u001b[0mscores\u001b[0m \u001b[1;33m=\u001b[0m \u001b[0msilhouette_score\u001b[0m\u001b[1;33m(\u001b[0m\u001b[0mx_train\u001b[0m\u001b[1;33m[\u001b[0m\u001b[0mi\u001b[0m\u001b[1;33m]\u001b[0m\u001b[1;33m,\u001b[0m\u001b[0mlabels\u001b[0m\u001b[1;33m,\u001b[0m\u001b[0mmetric\u001b[0m\u001b[1;33m=\u001b[0m\u001b[1;34m\"euclidean\"\u001b[0m\u001b[1;33m,\u001b[0m\u001b[0msample_size\u001b[0m\u001b[1;33m=\u001b[0m\u001b[1;36m1000\u001b[0m\u001b[1;33m,\u001b[0m\u001b[0mrandom_state\u001b[0m\u001b[1;33m=\u001b[0m\u001b[1;36m200\u001b[0m\u001b[1;33m)\u001b[0m\u001b[1;33m\u001b[0m\u001b[1;33m\u001b[0m\u001b[0m\n\u001b[0;32m      6\u001b[0m         \u001b[0mscores_arr\u001b[0m\u001b[1;33m[\u001b[0m\u001b[0mi\u001b[0m\u001b[1;33m]\u001b[0m\u001b[1;33m.\u001b[0m\u001b[0mappend\u001b[0m\u001b[1;33m(\u001b[0m\u001b[0mscores\u001b[0m\u001b[1;33m)\u001b[0m\u001b[1;33m\u001b[0m\u001b[1;33m\u001b[0m\u001b[0m\n",
      "\u001b[1;31mNameError\u001b[0m: name 'cluster' is not defined"
     ]
    }
   ],
   "source": [
    "scores_arr = [[] for col in range(9) for row in range(9)]\n",
    "for i in range(0,9):\n",
    "    for j in range(2, 12):\n",
    "        labels=cluster.KMeans(n_clusters=j,init=\"k-means++\",random_state=200).fit(x_train[i]).labels_\n",
    "        scores = silhouette_score(x_train[i],labels,metric=\"euclidean\",sample_size=1000,random_state=200)\n",
    "        scores_arr[i].append(scores)"
   ]
  },
  {
   "cell_type": "code",
   "execution_count": null,
   "metadata": {},
   "outputs": [],
   "source": [
    "for i in range(0,9):\n",
    "    max_value = max(scores_arr[i])\n",
    "    max_index = scores_arr[i].index(max_value)\n",
    "    print('For Cluster {}, the maximum score is at index: {}'.format(i, max_index))"
   ]
  },
  {
   "cell_type": "code",
   "execution_count": null,
   "metadata": {},
   "outputs": [],
   "source": [
    "# Visualizing Silhouette scores for the different folds\n",
    "for i in range(0,9):\n",
    "    plt.plot(scores_arr[i], label= 'Fold {}'.format(i))\n",
    "    plt.xlabel('Number of Clusters')\n",
    "    plt.ylabel('Silhouette Score')\n",
    "    plt.title('Silhouette Score against Number of Clusters')\n",
    "    plt.xlim([2, 10])\n",
    "    plt.legend()\n",
    "    plt.savefig('Silhouette_plot_E_Commerce.jpg')"
   ]
  },
  {
   "cell_type": "code",
   "execution_count": null,
   "metadata": {},
   "outputs": [],
   "source": [
    "plt.figure.savefig(\"output_e_com_sil.png\")"
   ]
  },
  {
   "cell_type": "markdown",
   "metadata": {},
   "source": [
    "### K-Means"
   ]
  },
  {
   "cell_type": "code",
   "execution_count": null,
   "metadata": {},
   "outputs": [],
   "source": [
    "clusters_arr = [[] for col in range(9) for row in range(len(x_train[1]))]\n",
    "kmeans = cluster.KMeans(n_clusters=2 ,init=\"k-means++\")\n",
    "for i in range(0,9):\n",
    "    kmeans = kmeans.fit(x_train[i])\n",
    "    clusters = kmeans.labels_\n",
    "    clusters_arr[i].append(clusters)"
   ]
  },
  {
   "cell_type": "code",
   "execution_count": null,
   "metadata": {},
   "outputs": [],
   "source": [
    "dftest = x_train[8]\n",
    "dftest['pred_labels'] = np.transpose(clusters_arr[8])\n",
    "dftest['true_labels'] = y_train[8]\n",
    "dftest.head()"
   ]
  },
  {
   "cell_type": "code",
   "execution_count": null,
   "metadata": {},
   "outputs": [],
   "source": [
    "dftest1 = dftest[dftest['pred_labels'].isin([1])]\n",
    "dftest1.head()"
   ]
  },
  {
   "cell_type": "code",
   "execution_count": null,
   "metadata": {},
   "outputs": [],
   "source": [
    "accuracy_score(dftest1['true_labels'], dftest1['pred_labels'])"
   ]
  },
  {
   "cell_type": "code",
   "execution_count": null,
   "metadata": {},
   "outputs": [],
   "source": [
    "dftest1['true_labels'].value_counts() #There are 33 minority labels(belong to cluster 0)"
   ]
  },
  {
   "cell_type": "code",
   "execution_count": null,
   "metadata": {},
   "outputs": [],
   "source": [
    "dftest_1 = dftest1[dftest1['true_labels'].isin([0])]\n",
    "dftest_1['true_labels'].value_counts()"
   ]
  },
  {
   "cell_type": "code",
   "execution_count": null,
   "metadata": {},
   "outputs": [],
   "source": [
    "dftest0 = dftest[dftest['pred_labels'].isin([0])]\n",
    "dftest0.head()"
   ]
  },
  {
   "cell_type": "code",
   "execution_count": null,
   "metadata": {},
   "outputs": [],
   "source": [
    "dftest_0 = dftest0[dftest0['true_labels'].isin([1])]\n",
    "dftest_0['true_labels'].value_counts()"
   ]
  },
  {
   "cell_type": "code",
   "execution_count": null,
   "metadata": {},
   "outputs": [],
   "source": [
    "#Combining the datasets\n",
    "df_new = pd.concat([dftest_0, dftest_1], axis=0)\n",
    "df_new.head()"
   ]
  },
  {
   "cell_type": "code",
   "execution_count": null,
   "metadata": {},
   "outputs": [],
   "source": [
    "df_new['true_labels'].value_counts()"
   ]
  },
  {
   "cell_type": "code",
   "execution_count": null,
   "metadata": {},
   "outputs": [],
   "source": [
    "#Training Random forest classifier\n",
    "del df_new['pred_labels']"
   ]
  },
  {
   "cell_type": "code",
   "execution_count": null,
   "metadata": {},
   "outputs": [],
   "source": [
    "df_new.head()"
   ]
  },
  {
   "cell_type": "code",
   "execution_count": null,
   "metadata": {},
   "outputs": [],
   "source": [
    "x = df_new.loc[:, df_new.columns != 'true_labels']\n",
    "y = df_new['true_labels']"
   ]
  },
  {
   "cell_type": "code",
   "execution_count": null,
   "metadata": {},
   "outputs": [],
   "source": [
    "rf_clf = RandomForestClassifier(n_estimators = 1000, n_jobs = -1, random_state = 42)\n",
    "rf_clf.fit(x, y)"
   ]
  },
  {
   "cell_type": "code",
   "execution_count": null,
   "metadata": {},
   "outputs": [],
   "source": [
    "print('RF Train accuracy: {}'.format(accuracy_score(y, rf_clf.predict(x))))"
   ]
  },
  {
   "cell_type": "code",
   "execution_count": null,
   "metadata": {},
   "outputs": [],
   "source": [
    "## Assigning clusters to unseen fold\n",
    "kmeans = cluster.KMeans(n_clusters=2 ,init=\"k-means++\")\n",
    "kmeans = kmeans.fit(x_train[8])\n",
    "clusters = kmeans.labels_\n",
    "clusters"
   ]
  },
  {
   "cell_type": "code",
   "execution_count": null,
   "metadata": {},
   "outputs": [],
   "source": [
    "accuracy_score(y_train[8],clusters)"
   ]
  },
  {
   "cell_type": "code",
   "execution_count": null,
   "metadata": {},
   "outputs": [],
   "source": [
    "df_x = x_train[8]\n",
    "df_x['labels'] = clusters\n",
    "print(df_x.shape)\n",
    "df_x.head()"
   ]
  },
  {
   "cell_type": "code",
   "execution_count": null,
   "metadata": {},
   "outputs": [],
   "source": [
    "arr = []\n",
    "for i in range(len(df_x)):\n",
    "    res = df_x['labels'].iloc[i] == df_x['true_labels'].iloc[i]\n",
    "    arr.append(res)"
   ]
  },
  {
   "cell_type": "code",
   "execution_count": null,
   "metadata": {},
   "outputs": [],
   "source": [
    "df_x['bool'] = arr\n",
    "df_x = df_x[df_x['bool'].isin([False])]\n",
    "df_x.shape"
   ]
  },
  {
   "cell_type": "code",
   "execution_count": null,
   "metadata": {},
   "outputs": [],
   "source": [
    "df_x.head()"
   ]
  },
  {
   "cell_type": "code",
   "execution_count": null,
   "metadata": {},
   "outputs": [],
   "source": [
    "del df_x['pred_labels']\n",
    "del df_x['labels']\n",
    "del df_x['bool']"
   ]
  },
  {
   "cell_type": "code",
   "execution_count": null,
   "metadata": {},
   "outputs": [],
   "source": [
    "## Random Forest\n",
    "x = df_x.loc[:, df_x.columns != 'true_labels']\n",
    "y = df_x['true_labels']\n",
    "accuracy_score(y, rf_clf.predict(x))"
   ]
  },
  {
   "cell_type": "code",
   "execution_count": null,
   "metadata": {},
   "outputs": [],
   "source": []
  }
 ],
 "metadata": {
  "kernelspec": {
   "display_name": "Python 3",
   "language": "python",
   "name": "python3"
  },
  "language_info": {
   "codemirror_mode": {
    "name": "ipython",
    "version": 3
   },
   "file_extension": ".py",
   "mimetype": "text/x-python",
   "name": "python",
   "nbconvert_exporter": "python",
   "pygments_lexer": "ipython3",
   "version": "3.8.5"
  }
 },
 "nbformat": 4,
 "nbformat_minor": 4
}
