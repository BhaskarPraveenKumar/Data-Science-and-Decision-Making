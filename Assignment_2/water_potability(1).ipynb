{
 "cells": [
  {
   "cell_type": "markdown",
   "metadata": {},
   "source": [
    "### Load Libraries"
   ]
  },
  {
   "cell_type": "code",
   "execution_count": 121,
   "metadata": {},
   "outputs": [],
   "source": [
    "import pandas as pd\n",
    "import numpy as np\n",
    "import matplotlib.pyplot as plt\n",
    "%matplotlib inline\n",
    "import seaborn as sns\n",
    "\n",
    "from collections import Counter\n",
    "from imblearn.datasets import make_imbalance\n",
    "import sklearn.cluster as cluster"
   ]
  },
  {
   "cell_type": "code",
   "execution_count": 122,
   "metadata": {},
   "outputs": [],
   "source": [
    "#load the data\n",
    "df = pd.read_csv('water_potability.csv')\n",
    "# to visualize all the columns at once.\n",
    "pd.set_option('display.max_columns', None)"
   ]
  },
  {
   "cell_type": "code",
   "execution_count": 123,
   "metadata": {},
   "outputs": [
    {
     "data": {
      "text/html": [
       "<div>\n",
       "<style scoped>\n",
       "    .dataframe tbody tr th:only-of-type {\n",
       "        vertical-align: middle;\n",
       "    }\n",
       "\n",
       "    .dataframe tbody tr th {\n",
       "        vertical-align: top;\n",
       "    }\n",
       "\n",
       "    .dataframe thead th {\n",
       "        text-align: right;\n",
       "    }\n",
       "</style>\n",
       "<table border=\"1\" class=\"dataframe\">\n",
       "  <thead>\n",
       "    <tr style=\"text-align: right;\">\n",
       "      <th></th>\n",
       "      <th>ph</th>\n",
       "      <th>Hardness</th>\n",
       "      <th>Solids</th>\n",
       "      <th>Chloramines</th>\n",
       "      <th>Sulfate</th>\n",
       "      <th>Conductivity</th>\n",
       "      <th>Organic_carbon</th>\n",
       "      <th>Trihalomethanes</th>\n",
       "      <th>Turbidity</th>\n",
       "      <th>Potability</th>\n",
       "    </tr>\n",
       "  </thead>\n",
       "  <tbody>\n",
       "    <tr>\n",
       "      <th>0</th>\n",
       "      <td>8.896419</td>\n",
       "      <td>222.256293</td>\n",
       "      <td>8870.902966</td>\n",
       "      <td>6.011342</td>\n",
       "      <td>332.002630</td>\n",
       "      <td>425.226862</td>\n",
       "      <td>10.847737</td>\n",
       "      <td>NaN</td>\n",
       "      <td>3.700946</td>\n",
       "      <td>0</td>\n",
       "    </tr>\n",
       "    <tr>\n",
       "      <th>1</th>\n",
       "      <td>6.581878</td>\n",
       "      <td>272.982745</td>\n",
       "      <td>37169.444400</td>\n",
       "      <td>8.114731</td>\n",
       "      <td>416.083481</td>\n",
       "      <td>351.476839</td>\n",
       "      <td>15.129334</td>\n",
       "      <td>79.261026</td>\n",
       "      <td>4.201663</td>\n",
       "      <td>0</td>\n",
       "    </tr>\n",
       "    <tr>\n",
       "      <th>2</th>\n",
       "      <td>6.755146</td>\n",
       "      <td>231.260131</td>\n",
       "      <td>18536.698650</td>\n",
       "      <td>8.757133</td>\n",
       "      <td>342.548014</td>\n",
       "      <td>385.114648</td>\n",
       "      <td>13.888834</td>\n",
       "      <td>79.302436</td>\n",
       "      <td>5.162730</td>\n",
       "      <td>0</td>\n",
       "    </tr>\n",
       "    <tr>\n",
       "      <th>3</th>\n",
       "      <td>9.445130</td>\n",
       "      <td>145.805402</td>\n",
       "      <td>13168.529160</td>\n",
       "      <td>9.444471</td>\n",
       "      <td>310.583374</td>\n",
       "      <td>592.659021</td>\n",
       "      <td>8.606397</td>\n",
       "      <td>77.577460</td>\n",
       "      <td>3.875165</td>\n",
       "      <td>1</td>\n",
       "    </tr>\n",
       "    <tr>\n",
       "      <th>4</th>\n",
       "      <td>9.024845</td>\n",
       "      <td>128.096691</td>\n",
       "      <td>19859.676480</td>\n",
       "      <td>8.016423</td>\n",
       "      <td>300.150377</td>\n",
       "      <td>451.143481</td>\n",
       "      <td>14.770863</td>\n",
       "      <td>73.778026</td>\n",
       "      <td>3.985251</td>\n",
       "      <td>1</td>\n",
       "    </tr>\n",
       "  </tbody>\n",
       "</table>\n",
       "</div>"
      ],
      "text/plain": [
       "         ph    Hardness        Solids  Chloramines     Sulfate  Conductivity  \\\n",
       "0  8.896419  222.256293   8870.902966     6.011342  332.002630    425.226862   \n",
       "1  6.581878  272.982745  37169.444400     8.114731  416.083481    351.476839   \n",
       "2  6.755146  231.260131  18536.698650     8.757133  342.548014    385.114648   \n",
       "3  9.445130  145.805402  13168.529160     9.444471  310.583374    592.659021   \n",
       "4  9.024845  128.096691  19859.676480     8.016423  300.150377    451.143481   \n",
       "\n",
       "   Organic_carbon  Trihalomethanes  Turbidity  Potability  \n",
       "0       10.847737              NaN   3.700946           0  \n",
       "1       15.129334        79.261026   4.201663           0  \n",
       "2       13.888834        79.302436   5.162730           0  \n",
       "3        8.606397        77.577460   3.875165           1  \n",
       "4       14.770863        73.778026   3.985251           1  "
      ]
     },
     "execution_count": 123,
     "metadata": {},
     "output_type": "execute_result"
    }
   ],
   "source": [
    "#fetching first 5 rows\n",
    "df.head()"
   ]
  },
  {
   "cell_type": "code",
   "execution_count": 124,
   "metadata": {},
   "outputs": [
    {
     "name": "stdout",
     "output_type": "stream",
     "text": [
      "<class 'pandas.core.frame.DataFrame'>\n",
      "RangeIndex: 2756 entries, 0 to 2755\n",
      "Data columns (total 10 columns):\n",
      " #   Column           Non-Null Count  Dtype  \n",
      "---  ------           --------------  -----  \n",
      " 0   ph               2352 non-null   float64\n",
      " 1   Hardness         2756 non-null   float64\n",
      " 2   Solids           2756 non-null   float64\n",
      " 3   Chloramines      2756 non-null   float64\n",
      " 4   Sulfate          2097 non-null   float64\n",
      " 5   Conductivity     2756 non-null   float64\n",
      " 6   Organic_carbon   2756 non-null   float64\n",
      " 7   Trihalomethanes  2616 non-null   float64\n",
      " 8   Turbidity        2756 non-null   float64\n",
      " 9   Potability       2756 non-null   int64  \n",
      "dtypes: float64(9), int64(1)\n",
      "memory usage: 215.4 KB\n"
     ]
    }
   ],
   "source": [
    "df.info()"
   ]
  },
  {
   "cell_type": "code",
   "execution_count": 125,
   "metadata": {},
   "outputs": [
    {
     "data": {
      "text/html": [
       "<div>\n",
       "<style scoped>\n",
       "    .dataframe tbody tr th:only-of-type {\n",
       "        vertical-align: middle;\n",
       "    }\n",
       "\n",
       "    .dataframe tbody tr th {\n",
       "        vertical-align: top;\n",
       "    }\n",
       "\n",
       "    .dataframe thead th {\n",
       "        text-align: right;\n",
       "    }\n",
       "</style>\n",
       "<table border=\"1\" class=\"dataframe\">\n",
       "  <thead>\n",
       "    <tr style=\"text-align: right;\">\n",
       "      <th></th>\n",
       "      <th>ph</th>\n",
       "      <th>Hardness</th>\n",
       "      <th>Solids</th>\n",
       "      <th>Chloramines</th>\n",
       "      <th>Sulfate</th>\n",
       "      <th>Conductivity</th>\n",
       "      <th>Organic_carbon</th>\n",
       "      <th>Trihalomethanes</th>\n",
       "      <th>Turbidity</th>\n",
       "      <th>Potability</th>\n",
       "    </tr>\n",
       "  </thead>\n",
       "  <tbody>\n",
       "    <tr>\n",
       "      <th>count</th>\n",
       "      <td>2352.000000</td>\n",
       "      <td>2756.000000</td>\n",
       "      <td>2756.000000</td>\n",
       "      <td>2756.000000</td>\n",
       "      <td>2097.000000</td>\n",
       "      <td>2756.000000</td>\n",
       "      <td>2756.000000</td>\n",
       "      <td>2616.000000</td>\n",
       "      <td>2756.000000</td>\n",
       "      <td>2756.000000</td>\n",
       "    </tr>\n",
       "    <tr>\n",
       "      <th>mean</th>\n",
       "      <td>7.080067</td>\n",
       "      <td>196.151699</td>\n",
       "      <td>22069.760138</td>\n",
       "      <td>7.137598</td>\n",
       "      <td>334.135731</td>\n",
       "      <td>425.989538</td>\n",
       "      <td>14.258509</td>\n",
       "      <td>66.359321</td>\n",
       "      <td>3.978196</td>\n",
       "      <td>0.463716</td>\n",
       "    </tr>\n",
       "    <tr>\n",
       "      <th>std</th>\n",
       "      <td>1.581204</td>\n",
       "      <td>32.798936</td>\n",
       "      <td>8765.333234</td>\n",
       "      <td>1.613689</td>\n",
       "      <td>42.470222</td>\n",
       "      <td>80.696891</td>\n",
       "      <td>3.317371</td>\n",
       "      <td>16.192175</td>\n",
       "      <td>0.781521</td>\n",
       "      <td>0.498772</td>\n",
       "    </tr>\n",
       "    <tr>\n",
       "      <th>min</th>\n",
       "      <td>0.000000</td>\n",
       "      <td>47.432000</td>\n",
       "      <td>320.942611</td>\n",
       "      <td>0.352000</td>\n",
       "      <td>129.000000</td>\n",
       "      <td>181.483754</td>\n",
       "      <td>2.200000</td>\n",
       "      <td>0.738000</td>\n",
       "      <td>1.450000</td>\n",
       "      <td>0.000000</td>\n",
       "    </tr>\n",
       "    <tr>\n",
       "      <th>25%</th>\n",
       "      <td>6.097554</td>\n",
       "      <td>176.563031</td>\n",
       "      <td>15736.815717</td>\n",
       "      <td>6.145785</td>\n",
       "      <td>307.667123</td>\n",
       "      <td>365.488164</td>\n",
       "      <td>12.060510</td>\n",
       "      <td>55.713440</td>\n",
       "      <td>3.444882</td>\n",
       "      <td>0.000000</td>\n",
       "    </tr>\n",
       "    <tr>\n",
       "      <th>50%</th>\n",
       "      <td>7.038721</td>\n",
       "      <td>196.464101</td>\n",
       "      <td>21036.774735</td>\n",
       "      <td>7.147329</td>\n",
       "      <td>333.564587</td>\n",
       "      <td>421.258539</td>\n",
       "      <td>14.210358</td>\n",
       "      <td>66.676436</td>\n",
       "      <td>3.958576</td>\n",
       "      <td>0.000000</td>\n",
       "    </tr>\n",
       "    <tr>\n",
       "      <th>75%</th>\n",
       "      <td>8.037513</td>\n",
       "      <td>216.657847</td>\n",
       "      <td>27370.435700</td>\n",
       "      <td>8.148563</td>\n",
       "      <td>360.843312</td>\n",
       "      <td>482.415933</td>\n",
       "      <td>16.496714</td>\n",
       "      <td>77.294780</td>\n",
       "      <td>4.519866</td>\n",
       "      <td>1.000000</td>\n",
       "    </tr>\n",
       "    <tr>\n",
       "      <th>max</th>\n",
       "      <td>14.000000</td>\n",
       "      <td>323.124000</td>\n",
       "      <td>61227.196010</td>\n",
       "      <td>13.127000</td>\n",
       "      <td>481.030642</td>\n",
       "      <td>753.342620</td>\n",
       "      <td>28.300000</td>\n",
       "      <td>124.000000</td>\n",
       "      <td>6.739000</td>\n",
       "      <td>1.000000</td>\n",
       "    </tr>\n",
       "  </tbody>\n",
       "</table>\n",
       "</div>"
      ],
      "text/plain": [
       "                ph     Hardness        Solids  Chloramines      Sulfate  \\\n",
       "count  2352.000000  2756.000000   2756.000000  2756.000000  2097.000000   \n",
       "mean      7.080067   196.151699  22069.760138     7.137598   334.135731   \n",
       "std       1.581204    32.798936   8765.333234     1.613689    42.470222   \n",
       "min       0.000000    47.432000    320.942611     0.352000   129.000000   \n",
       "25%       6.097554   176.563031  15736.815717     6.145785   307.667123   \n",
       "50%       7.038721   196.464101  21036.774735     7.147329   333.564587   \n",
       "75%       8.037513   216.657847  27370.435700     8.148563   360.843312   \n",
       "max      14.000000   323.124000  61227.196010    13.127000   481.030642   \n",
       "\n",
       "       Conductivity  Organic_carbon  Trihalomethanes    Turbidity   Potability  \n",
       "count   2756.000000     2756.000000      2616.000000  2756.000000  2756.000000  \n",
       "mean     425.989538       14.258509        66.359321     3.978196     0.463716  \n",
       "std       80.696891        3.317371        16.192175     0.781521     0.498772  \n",
       "min      181.483754        2.200000         0.738000     1.450000     0.000000  \n",
       "25%      365.488164       12.060510        55.713440     3.444882     0.000000  \n",
       "50%      421.258539       14.210358        66.676436     3.958576     0.000000  \n",
       "75%      482.415933       16.496714        77.294780     4.519866     1.000000  \n",
       "max      753.342620       28.300000       124.000000     6.739000     1.000000  "
      ]
     },
     "execution_count": 125,
     "metadata": {},
     "output_type": "execute_result"
    }
   ],
   "source": [
    "df.describe()"
   ]
  },
  {
   "cell_type": "code",
   "execution_count": 126,
   "metadata": {},
   "outputs": [
    {
     "data": {
      "text/plain": [
       "Sulfate           -0.034772\n",
       "Organic_carbon    -0.027368\n",
       "Turbidity         -0.011743\n",
       "Hardness          -0.009952\n",
       "Conductivity      -0.006981\n",
       "ph                -0.003729\n",
       "Trihalomethanes    0.010439\n",
       "Chloramines        0.018294\n",
       "Solids             0.033342\n",
       "Potability         1.000000\n",
       "Name: Potability, dtype: float64"
      ]
     },
     "execution_count": 126,
     "metadata": {},
     "output_type": "execute_result"
    }
   ],
   "source": [
    "# correlation matrix\n",
    "corr = df.corr()\n",
    "corr['Potability'].sort_values(ascending=True)"
   ]
  },
  {
   "cell_type": "code",
   "execution_count": 127,
   "metadata": {},
   "outputs": [
    {
     "data": {
      "image/png": "[encoded data removed]",
      "text/plain": [
       "<Figure size 1440x720 with 2 Axes>"
      ]
     },
     "metadata": {
      "needs_background": "light"
     },
     "output_type": "display_data"
    }
   ],
   "source": [
    "# plotting heatmap for obeserving correlation\n",
    "sns.heatmap(data = corr, annot = True)\n",
    "plt.gcf().set_size_inches(20,10)"
   ]
  },
  {
   "cell_type": "markdown",
   "metadata": {},
   "source": [
    "### Summary of dataset features\n",
    "- Total instances - 2756\n",
    "- Total columns - 10"
   ]
  },
  {
   "cell_type": "markdown",
   "metadata": {},
   "source": [
    "### Data Pre-Processing"
   ]
  },
  {
   "cell_type": "code",
   "execution_count": 128,
   "metadata": {},
   "outputs": [
    {
     "data": {
      "text/plain": [
       "Sulfate            659\n",
       "ph                 404\n",
       "Trihalomethanes    140\n",
       "Potability           0\n",
       "Turbidity            0\n",
       "Organic_carbon       0\n",
       "Conductivity         0\n",
       "Chloramines          0\n",
       "Solids               0\n",
       "Hardness             0\n",
       "dtype: int64"
      ]
     },
     "execution_count": 128,
     "metadata": {},
     "output_type": "execute_result"
    }
   ],
   "source": [
    "# now lets check for missing values\n",
    "missing_values = df.isnull().sum().sort_values(ascending = False)\n",
    "missing_values"
   ]
  },
  {
   "cell_type": "code",
   "execution_count": 129,
   "metadata": {},
   "outputs": [
    {
     "data": {
      "image/png": "[encoded data removed]",
      "text/plain": [
       "<Figure size 720x360 with 1 Axes>"
      ]
     },
     "metadata": {
      "needs_background": "light"
     },
     "output_type": "display_data"
    },
    {
     "data": {
      "text/plain": [
       "<Figure size 432x288 with 0 Axes>"
      ]
     },
     "metadata": {},
     "output_type": "display_data"
    }
   ],
   "source": [
    "#lets plot graph to see the missing values\n",
    "plt.figure(figsize= (10,5))\n",
    "(missing_values).plot(kind = 'bar')\n",
    "plt.title(label = 'missing_percentage(features)')\n",
    "plt.show()\n",
    "plt.savefig('missing_values.jpg')"
   ]
  },
  {
   "cell_type": "code",
   "execution_count": 130,
   "metadata": {},
   "outputs": [
    {
     "data": {
      "text/plain": [
       "Text(0.5, 1.0, 'Trihalomethanes')"
      ]
     },
     "execution_count": 130,
     "metadata": {},
     "output_type": "execute_result"
    },
    {
     "data": {
      "image/png": "[encoded data removed]",
      "text/plain": [
       "<Figure size 360x360 with 4 Axes>"
      ]
     },
     "metadata": {
      "needs_background": "light"
     },
     "output_type": "display_data"
    }
   ],
   "source": [
    "ax = df[['ph', 'Sulfate','Trihalomethanes']].hist(figsize=(5,5), bins = 12)\n",
    "ax[0,0].set_title('ph')\n",
    "ax[0,1].set_title('Sulfate')\n",
    "ax[1,0].set_title('Trihalomethanes')"
   ]
  },
  {
   "cell_type": "code",
   "execution_count": 131,
   "metadata": {},
   "outputs": [
    {
     "data": {
      "text/plain": [
       "0"
      ]
     },
     "execution_count": 131,
     "metadata": {},
     "output_type": "execute_result"
    }
   ],
   "source": [
    "# lets check for dupliacte values\n",
    "df.duplicated().sum()"
   ]
  },
  {
   "cell_type": "markdown",
   "metadata": {},
   "source": [
    "### Summary of Preprocessing\n",
    "- From the hist plot we can observe, that feature ph is normally distributed where as Sulfate and Trihalomethanes are slightly skewd to the left\n",
    "- If the feature is slightly skewed then median is best for imputation and if the feature is normally distributed then both mean/median both are good for imputation\n",
    "- Consequenlty I'll be filling ph with median and Sulfate and Trihalomethanes with mean"
   ]
  },
  {
   "cell_type": "code",
   "execution_count": 132,
   "metadata": {},
   "outputs": [
    {
     "name": "stdout",
     "output_type": "stream",
     "text": [
      "median: 7.080066937933669\n",
      "mean: 7.038720919\n"
     ]
    }
   ],
   "source": [
    "print('median:', df['ph'].mean())\n",
    "print('mean:', df['ph'].median())"
   ]
  },
  {
   "cell_type": "code",
   "execution_count": 133,
   "metadata": {},
   "outputs": [],
   "source": [
    "df['ph'].fillna(value = df['ph'].median(), inplace = True)\n",
    "df['Sulfate'].fillna(value = df['Sulfate'].mean(), inplace = True)\n",
    "df['Trihalomethanes'].fillna(value = df['Trihalomethanes'].mean(), inplace = True)"
   ]
  },
  {
   "cell_type": "markdown",
   "metadata": {},
   "source": [
    "### Univariate analysis for target feature"
   ]
  },
  {
   "cell_type": "code",
   "execution_count": 134,
   "metadata": {},
   "outputs": [
    {
     "data": {
      "text/plain": [
       "0    1478\n",
       "1    1278\n",
       "Name: Potability, dtype: int64"
      ]
     },
     "execution_count": 134,
     "metadata": {},
     "output_type": "execute_result"
    }
   ],
   "source": [
    "df['Potability'].value_counts()"
   ]
  },
  {
   "cell_type": "code",
   "execution_count": 135,
   "metadata": {},
   "outputs": [
    {
     "name": "stdout",
     "output_type": "stream",
     "text": [
      "Class 0 before imbalance: 53.6 %\n",
      "Class 1 before imbalance: 46.4 %\n"
     ]
    }
   ],
   "source": [
    "class_0, class_1 = df['Potability'].value_counts(normalize = True)\n",
    "print(f'Class 0 before imbalance:', round(class_0 *100,1) ,'%')\n",
    "print(f'Class 1 before imbalance:', round(class_1 *100,1) ,'%')"
   ]
  },
  {
   "cell_type": "code",
   "execution_count": 136,
   "metadata": {},
   "outputs": [
    {
     "data": {
      "image/png": "[encoded data removed]",
      "text/plain": [
       "<Figure size 432x288 with 1 Axes>"
      ]
     },
     "metadata": {
      "needs_background": "light"
     },
     "output_type": "display_data"
    }
   ],
   "source": [
    "sns.countplot(x = 'Potability', data = df)\n",
    "plt.title('Target_Labels Distribution')\n",
    "plt.xlabel('Target_Labels')\n",
    "plt.ylabel('Total Number of instances')\n",
    "plt.savefig('Target_Labels Distributions.jpg')"
   ]
  },
  {
   "cell_type": "markdown",
   "metadata": {},
   "source": [
    "### Imbalancing the target feature\n",
    "- As mentioned in the project small imbalances of one class is fine, I'll proceed with further step 'making the target feature imbalance'"
   ]
  },
  {
   "cell_type": "code",
   "execution_count": 137,
   "metadata": {},
   "outputs": [],
   "source": [
    "X = df.loc[:, df.columns != 'Potability']\n",
    "y = df.loc[:,'Potability'].copy() # lets work with the copy without disturbing the original target feature"
   ]
  },
  {
   "cell_type": "code",
   "execution_count": 138,
   "metadata": {},
   "outputs": [
    {
     "data": {
      "text/plain": [
       "((2756, 9), (2756,))"
      ]
     },
     "execution_count": 138,
     "metadata": {},
     "output_type": "execute_result"
    }
   ],
   "source": [
    "X.shape, y.shape"
   ]
  },
  {
   "cell_type": "code",
   "execution_count": 139,
   "metadata": {},
   "outputs": [
    {
     "name": "stdout",
     "output_type": "stream",
     "text": [
      "Distribution after imbalancing: Counter({1: 1278, 0: 689})\n"
     ]
    }
   ],
   "source": [
    "# 65% imbalance\n",
    "X_65, y_65 = make_imbalance(X, y, sampling_strategy={0:689 , 1: 1278}, random_state=48)\n",
    "print(f'Distribution after imbalancing: {Counter(y_65)}')"
   ]
  },
  {
   "cell_type": "code",
   "execution_count": 140,
   "metadata": {},
   "outputs": [
    {
     "name": "stdout",
     "output_type": "stream",
     "text": [
      "Class 0 after imbalance: 65.0 %\n",
      "Class 1 after imbalance: 35.0 %\n"
     ]
    }
   ],
   "source": [
    "class0 , class1 = y_65.value_counts(normalize = True)\n",
    "print(f'Class 0 after imbalance:', round(class0 *100,1) ,'%')\n",
    "print(f'Class 1 after imbalance:', round(class1 *100,1) ,'%')"
   ]
  },
  {
   "cell_type": "code",
   "execution_count": 141,
   "metadata": {},
   "outputs": [
    {
     "data": {
      "image/png": "[encoded data removed]",
      "text/plain": [
       "<Figure size 432x288 with 1 Axes>"
      ]
     },
     "metadata": {
      "needs_background": "light"
     },
     "output_type": "display_data"
    }
   ],
   "source": [
    "# 65% imbalance target feature\n",
    "y_65.hist() \n",
    "plt.title('Imbalance_65% Class Distributions')\n",
    "plt.xlabel('Target_Labels')\n",
    "plt.ylabel('Total Number of instances')\n",
    "plt.savefig('Imbalance_65% Class Distributions.jpg')"
   ]
  },
  {
   "cell_type": "code",
   "execution_count": 142,
   "metadata": {},
   "outputs": [],
   "source": [
    "# Stratified Kfold\n",
    "from sklearn.model_selection import StratifiedKFold\n",
    "from sklearn.ensemble import RandomForestClassifier\n",
    "from sklearn.metrics import accuracy_score\n",
    "from sklearn.metrics import precision_score\n",
    "from sklearn.metrics import recall_score"
   ]
  },
  {
   "cell_type": "code",
   "execution_count": 143,
   "metadata": {},
   "outputs": [],
   "source": [
    "skf = StratifiedKFold(n_splits=10, random_state = None)\n",
    "rf_clf = RandomForestClassifier(n_estimators = 1000, n_jobs = -1, random_state = 42) #rf model"
   ]
  },
  {
   "cell_type": "code",
   "execution_count": 144,
   "metadata": {},
   "outputs": [],
   "source": [
    "#Training with 65% imbalance surrogate\n",
    "skf.get_n_splits(X_65, y_65)\n",
    "score = []\n",
    "precision = []\n",
    "recall = []\n",
    "for train_index, test_index in skf.split(X_65, y_65):\n",
    "    #print('Train:' , train_index, 'Validation: ', test_index)\n",
    "    x_train, x_test = X_65.iloc[train_index], X_65.iloc[test_index]\n",
    "    y_train, y_test = y_65.iloc[train_index], y_65.iloc[test_index]\n",
    "    rf_clf.fit(x_train, y_train)\n",
    "    acc = accuracy_score(y_test, rf_clf.predict(x_test))\n",
    "    precision_s = precision_score(y_test, rf_clf.predict(x_test),average='macro')\n",
    "    recall_s = recall_score(y_test, rf_clf.predict(x_test))\n",
    "    score.append(acc)\n",
    "    precision.append(precision_s)\n",
    "    recall.append(recall_s)"
   ]
  },
  {
   "cell_type": "code",
   "execution_count": 145,
   "metadata": {},
   "outputs": [
    {
     "name": "stdout",
     "output_type": "stream",
     "text": [
      "Mean Accuracy Score: 0.6796850719983424   Accuracy std: 0.026323576164087772\n",
      "Mean Precision Score: 0.6561437844207235   Precision std: 0.0652701645934615\n",
      "Mean Recall Score: 0.9287832185039371   Recall std: 0.02391432992523047\n"
     ]
    }
   ],
   "source": [
    "#Metrics @ 65%\n",
    "print('Mean Accuracy Score: {}   Accuracy std: {}'.format(np.array(score).mean(), np.array(score).std()))\n",
    "print('Mean Precision Score: {}   Precision std: {}'.format(np.array(precision).mean(),  np.array(precision).std()))\n",
    "print('Mean Recall Score: {}   Recall std: {}'.format(np.array(recall).mean(),  np.array(recall).std()))"
   ]
  },
  {
   "cell_type": "code",
   "execution_count": 146,
   "metadata": {},
   "outputs": [],
   "source": [
    "#Training with balanced dataset\n",
    "skf.get_n_splits(X, y)\n",
    "score = []\n",
    "precision = []\n",
    "recall = []\n",
    "for train_index, test_index in skf.split(X, y):\n",
    "    #print('Train:' , train_index, 'Validation: ', test_index)\n",
    "    x_train, x_test = X.iloc[train_index], X.iloc[test_index]\n",
    "    y_train, y_test = y.iloc[train_index], y.iloc[test_index]\n",
    "    rf_clf.fit(x_train, y_train)\n",
    "    acc = accuracy_score(y_test, rf_clf.predict(x_test))\n",
    "    precision_s = precision_score(y_test, rf_clf.predict(x_test),average='macro')\n",
    "    recall_s = recall_score(y_test, rf_clf.predict(x_test))\n",
    "    score.append(acc)\n",
    "    precision.append(precision_s)\n",
    "    recall.append(recall_s)"
   ]
  },
  {
   "cell_type": "code",
   "execution_count": 147,
   "metadata": {},
   "outputs": [
    {
     "name": "stdout",
     "output_type": "stream",
     "text": [
      "Mean Accuracy Score: 0.6114097496706192   Accuracy std: 0.04640573119158402\n",
      "Mean Precision Score: 0.6100956128450366   Precision std: 0.05104695627782986\n",
      "Mean Recall Score: 0.4725947342519685   Recall std: 0.0728412398693633\n"
     ]
    }
   ],
   "source": [
    "#Metrics @ 50%\n",
    "print('Mean Accuracy Score: {}   Accuracy std: {}'.format(np.array(score).mean(), np.array(score).std()))\n",
    "print('Mean Precision Score: {}   Precision std: {}'.format(np.array(precision).mean(),  np.array(precision).std()))\n",
    "print('Mean Recall Score: {}   Recall std: {}'.format(np.array(recall).mean(),  np.array(recall).std()))"
   ]
  },
  {
   "cell_type": "code",
   "execution_count": 148,
   "metadata": {},
   "outputs": [
    {
     "name": "stdout",
     "output_type": "stream",
     "text": [
      "Distribution after imbalancing: Counter({1: 1278, 0: 425})\n"
     ]
    }
   ],
   "source": [
    "# 75% imbalance\n",
    "X_75, y_75 = make_imbalance(X, y, sampling_strategy={0:425 , 1: 1278}, random_state=48)\n",
    "print(f'Distribution after imbalancing: {Counter(y_75)}')"
   ]
  },
  {
   "cell_type": "code",
   "execution_count": 149,
   "metadata": {},
   "outputs": [
    {
     "name": "stdout",
     "output_type": "stream",
     "text": [
      "Class 0 after imbalance_75%: 75.0 %\n",
      "Class 1 after imbalance_75%: 25.0 %\n"
     ]
    }
   ],
   "source": [
    "class0 , class1 = y_75.value_counts(normalize = True)\n",
    "print(f'Class 0 after imbalance_75%:', round(class0 *100,1) ,'%')\n",
    "print(f'Class 1 after imbalance_75%:', round(class1 *100,1) ,'%')"
   ]
  },
  {
   "cell_type": "code",
   "execution_count": 150,
   "metadata": {},
   "outputs": [
    {
     "data": {
      "image/png": "[encoded data removed]",
      "text/plain": [
       "<Figure size 432x288 with 1 Axes>"
      ]
     },
     "metadata": {
      "needs_background": "light"
     },
     "output_type": "display_data"
    }
   ],
   "source": [
    "# 75% imbalance target feature\n",
    "y_75.hist() \n",
    "plt.title('Imbalance_75% Class Distributions')\n",
    "plt.xlabel('Target_Labels')\n",
    "plt.ylabel('Total Number of instances')\n",
    "plt.savefig('Imbalance_75% Class Distributions.jpg')"
   ]
  },
  {
   "cell_type": "code",
   "execution_count": 151,
   "metadata": {},
   "outputs": [],
   "source": [
    "#Training with 75% imbalance surrogate\n",
    "skf.get_n_splits(X_75, y_75)\n",
    "score = []\n",
    "precision = []\n",
    "recall = []\n",
    "for train_index, test_index in skf.split(X_75, y_75):\n",
    "    #print('Train:' , train_index, 'Validation: ', test_index)\n",
    "    x_train, x_test = X_75.iloc[train_index], X_75.iloc[test_index]\n",
    "    y_train, y_test = y_75.iloc[train_index], y_75.iloc[test_index]\n",
    "    rf_clf.fit(x_train, y_train)\n",
    "    acc = accuracy_score(y_test, rf_clf.predict(x_test))\n",
    "    precision_s = precision_score(y_test, rf_clf.predict(x_test),average='macro')\n",
    "    recall_s = recall_score(y_test, rf_clf.predict(x_test))\n",
    "    score.append(acc)\n",
    "    precision.append(precision_s)\n",
    "    recall.append(recall_s)"
   ]
  },
  {
   "cell_type": "code",
   "execution_count": 152,
   "metadata": {},
   "outputs": [
    {
     "name": "stdout",
     "output_type": "stream",
     "text": [
      "Mean Accuracy Score: 0.7621843825249398   Accuracy std: 0.010243832010403913\n",
      "Mean Precision Score: 0.7606218573504216   Precision std: 0.1049993934374923\n",
      "Mean Recall Score: 0.9906003937007875   Recall std: 0.007674877889582425\n"
     ]
    }
   ],
   "source": [
    "#Metrics @ 75%\n",
    "print('Mean Accuracy Score: {}   Accuracy std: {}'.format(np.array(score).mean(), np.array(score).std()))\n",
    "print('Mean Precision Score: {}   Precision std: {}'.format(np.array(precision).mean(),  np.array(precision).std()))\n",
    "print('Mean Recall Score: {}   Recall std: {}'.format(np.array(recall).mean(),  np.array(recall).std()))"
   ]
  },
  {
   "cell_type": "code",
   "execution_count": 153,
   "metadata": {},
   "outputs": [
    {
     "name": "stdout",
     "output_type": "stream",
     "text": [
      "Distribution after imbalancing: Counter({1: 1278, 0: 142})\n"
     ]
    }
   ],
   "source": [
    "X_90, y_90 = make_imbalance(X, y, sampling_strategy={0:142 , 1: 1278}, random_state=48)\n",
    "print(f'Distribution after imbalancing: {Counter(y_90)}')"
   ]
  },
  {
   "cell_type": "code",
   "execution_count": 154,
   "metadata": {},
   "outputs": [
    {
     "name": "stdout",
     "output_type": "stream",
     "text": [
      "Class 0 after imbalance_90%: 90.0 %\n",
      "Class 1 after imbalance_90%: 10.0 %\n"
     ]
    }
   ],
   "source": [
    "class0 , class1 = y_90.value_counts(normalize = True)\n",
    "print(f'Class 0 after imbalance_90%:', round(class0 *100,1) ,'%')\n",
    "print(f'Class 1 after imbalance_90%:', round(class1 *100,1) ,'%')"
   ]
  },
  {
   "cell_type": "code",
   "execution_count": 155,
   "metadata": {},
   "outputs": [
    {
     "data": {
      "image/png": "[encoded data removed]",
      "text/plain": [
       "<Figure size 432x288 with 1 Axes>"
      ]
     },
     "metadata": {
      "needs_background": "light"
     },
     "output_type": "display_data"
    }
   ],
   "source": [
    "# 90% imbalance target feature plot\n",
    "y_90.hist() \n",
    "plt.title('Imbalance_90% Class Distributions')\n",
    "plt.xlabel('Target_Labels')\n",
    "plt.ylabel('Total Number of instances')\n",
    "plt.savefig('Imbalance_90% Class Distributions.jpg')"
   ]
  },
  {
   "cell_type": "code",
   "execution_count": 156,
   "metadata": {},
   "outputs": [
    {
     "name": "stderr",
     "output_type": "stream",
     "text": [
      "C:\\Users\\Praveen\\anaconda3\\lib\\site-packages\\sklearn\\metrics\\_classification.py:1318: UndefinedMetricWarning: Precision is ill-defined and being set to 0.0 in labels with no predicted samples. Use `zero_division` parameter to control this behavior.\n",
      "  _warn_prf(average, modifier, msg_start, len(result))\n",
      "C:\\Users\\Praveen\\anaconda3\\lib\\site-packages\\sklearn\\metrics\\_classification.py:1318: UndefinedMetricWarning: Precision is ill-defined and being set to 0.0 in labels with no predicted samples. Use `zero_division` parameter to control this behavior.\n",
      "  _warn_prf(average, modifier, msg_start, len(result))\n",
      "C:\\Users\\Praveen\\anaconda3\\lib\\site-packages\\sklearn\\metrics\\_classification.py:1318: UndefinedMetricWarning: Precision is ill-defined and being set to 0.0 in labels with no predicted samples. Use `zero_division` parameter to control this behavior.\n",
      "  _warn_prf(average, modifier, msg_start, len(result))\n",
      "C:\\Users\\Praveen\\anaconda3\\lib\\site-packages\\sklearn\\metrics\\_classification.py:1318: UndefinedMetricWarning: Precision is ill-defined and being set to 0.0 in labels with no predicted samples. Use `zero_division` parameter to control this behavior.\n",
      "  _warn_prf(average, modifier, msg_start, len(result))\n",
      "C:\\Users\\Praveen\\anaconda3\\lib\\site-packages\\sklearn\\metrics\\_classification.py:1318: UndefinedMetricWarning: Precision is ill-defined and being set to 0.0 in labels with no predicted samples. Use `zero_division` parameter to control this behavior.\n",
      "  _warn_prf(average, modifier, msg_start, len(result))\n",
      "C:\\Users\\Praveen\\anaconda3\\lib\\site-packages\\sklearn\\metrics\\_classification.py:1318: UndefinedMetricWarning: Precision is ill-defined and being set to 0.0 in labels with no predicted samples. Use `zero_division` parameter to control this behavior.\n",
      "  _warn_prf(average, modifier, msg_start, len(result))\n",
      "C:\\Users\\Praveen\\anaconda3\\lib\\site-packages\\sklearn\\metrics\\_classification.py:1318: UndefinedMetricWarning: Precision is ill-defined and being set to 0.0 in labels with no predicted samples. Use `zero_division` parameter to control this behavior.\n",
      "  _warn_prf(average, modifier, msg_start, len(result))\n",
      "C:\\Users\\Praveen\\anaconda3\\lib\\site-packages\\sklearn\\metrics\\_classification.py:1318: UndefinedMetricWarning: Precision is ill-defined and being set to 0.0 in labels with no predicted samples. Use `zero_division` parameter to control this behavior.\n",
      "  _warn_prf(average, modifier, msg_start, len(result))\n",
      "C:\\Users\\Praveen\\anaconda3\\lib\\site-packages\\sklearn\\metrics\\_classification.py:1318: UndefinedMetricWarning: Precision is ill-defined and being set to 0.0 in labels with no predicted samples. Use `zero_division` parameter to control this behavior.\n",
      "  _warn_prf(average, modifier, msg_start, len(result))\n"
     ]
    }
   ],
   "source": [
    "#Training with 90% imbalance surrogate\n",
    "skf.get_n_splits(X_90, y_90)\n",
    "score = []\n",
    "precision = []\n",
    "recall = []\n",
    "for train_index, test_index in skf.split(X_90, y_90):\n",
    "    #print('Train:' , train_index, 'Validation: ', test_index)\n",
    "    x_train, x_test = X_90.iloc[train_index], X_90.iloc[test_index]\n",
    "    y_train, y_test = y_90.iloc[train_index], y_90.iloc[test_index]\n",
    "    rf_clf.fit(x_train, y_train)\n",
    "    acc = accuracy_score(y_test, rf_clf.predict(x_test))\n",
    "    precision_s = precision_score(y_test, rf_clf.predict(x_test),average='macro')\n",
    "    recall_s = recall_score(y_test, rf_clf.predict(x_test))\n",
    "    score.append(acc)\n",
    "    precision.append(precision_s)\n",
    "    recall.append(recall_s)"
   ]
  },
  {
   "cell_type": "code",
   "execution_count": 157,
   "metadata": {},
   "outputs": [
    {
     "name": "stdout",
     "output_type": "stream",
     "text": [
      "Mean Accuracy Score: 0.8992957746478873\n",
      "Mean Precision Score: 0.44996254120467494\n",
      "Mean Recall Score: 0.9992125984251968\n"
     ]
    }
   ],
   "source": [
    "#Metrics @ 90%\n",
    "print('Mean Accuracy Score: {}'.format(np.array(score).mean()))\n",
    "print('Mean Precision Score: {}'.format(np.array(precision).mean()))\n",
    "print('Mean Recall Score: {}'.format(np.array(recall).mean()))"
   ]
  },
  {
   "cell_type": "markdown",
   "metadata": {},
   "source": [
    "### Part 3"
   ]
  },
  {
   "cell_type": "code",
   "execution_count": 158,
   "metadata": {},
   "outputs": [],
   "source": [
    "x_train = []\n",
    "x_test = []\n",
    "y_train = []\n",
    "y_test = []\n",
    "skf.get_n_splits(X_65, y_65)\n",
    "for train_index, test_index in skf.split(X_65, y_65):\n",
    "    #print('Train:' , train_index, 'Validation: ', test_index)\n",
    "    xtrain, xtest = X_65.iloc[train_index], X_65.iloc[test_index]\n",
    "    ytrain, ytest = y_65.iloc[train_index], y_65.iloc[test_index]\n",
    "    x_train.append(xtrain)\n",
    "    x_test.append(xtest)\n",
    "    y_train.append(ytrain)\n",
    "    y_test.append(ytest)"
   ]
  },
  {
   "cell_type": "code",
   "execution_count": 159,
   "metadata": {},
   "outputs": [
    {
     "data": {
      "text/html": [
       "<div>\n",
       "<style scoped>\n",
       "    .dataframe tbody tr th:only-of-type {\n",
       "        vertical-align: middle;\n",
       "    }\n",
       "\n",
       "    .dataframe tbody tr th {\n",
       "        vertical-align: top;\n",
       "    }\n",
       "\n",
       "    .dataframe thead th {\n",
       "        text-align: right;\n",
       "    }\n",
       "</style>\n",
       "<table border=\"1\" class=\"dataframe\">\n",
       "  <thead>\n",
       "    <tr style=\"text-align: right;\">\n",
       "      <th></th>\n",
       "      <th>ph</th>\n",
       "      <th>Hardness</th>\n",
       "      <th>Solids</th>\n",
       "      <th>Chloramines</th>\n",
       "      <th>Sulfate</th>\n",
       "      <th>Conductivity</th>\n",
       "      <th>Organic_carbon</th>\n",
       "      <th>Trihalomethanes</th>\n",
       "      <th>Turbidity</th>\n",
       "    </tr>\n",
       "  </thead>\n",
       "  <tbody>\n",
       "    <tr>\n",
       "      <th>69</th>\n",
       "      <td>6.157443</td>\n",
       "      <td>155.835706</td>\n",
       "      <td>25937.71144</td>\n",
       "      <td>8.163144</td>\n",
       "      <td>298.192406</td>\n",
       "      <td>533.288351</td>\n",
       "      <td>14.356496</td>\n",
       "      <td>68.120761</td>\n",
       "      <td>4.770154</td>\n",
       "    </tr>\n",
       "    <tr>\n",
       "      <th>70</th>\n",
       "      <td>4.405327</td>\n",
       "      <td>169.742537</td>\n",
       "      <td>15039.71041</td>\n",
       "      <td>6.308198</td>\n",
       "      <td>352.917733</td>\n",
       "      <td>424.251162</td>\n",
       "      <td>14.441754</td>\n",
       "      <td>79.169597</td>\n",
       "      <td>4.086867</td>\n",
       "    </tr>\n",
       "    <tr>\n",
       "      <th>71</th>\n",
       "      <td>9.347345</td>\n",
       "      <td>201.632836</td>\n",
       "      <td>13749.59604</td>\n",
       "      <td>7.333742</td>\n",
       "      <td>322.044667</td>\n",
       "      <td>512.446305</td>\n",
       "      <td>12.434716</td>\n",
       "      <td>43.827119</td>\n",
       "      <td>3.615151</td>\n",
       "    </tr>\n",
       "    <tr>\n",
       "      <th>72</th>\n",
       "      <td>2.690831</td>\n",
       "      <td>151.782906</td>\n",
       "      <td>30204.54674</td>\n",
       "      <td>6.053072</td>\n",
       "      <td>303.702409</td>\n",
       "      <td>377.198273</td>\n",
       "      <td>14.121049</td>\n",
       "      <td>45.602992</td>\n",
       "      <td>4.650034</td>\n",
       "    </tr>\n",
       "    <tr>\n",
       "      <th>73</th>\n",
       "      <td>7.009602</td>\n",
       "      <td>220.561996</td>\n",
       "      <td>18628.69683</td>\n",
       "      <td>6.781680</td>\n",
       "      <td>334.135731</td>\n",
       "      <td>397.996103</td>\n",
       "      <td>14.808674</td>\n",
       "      <td>77.763534</td>\n",
       "      <td>3.121945</td>\n",
       "    </tr>\n",
       "  </tbody>\n",
       "</table>\n",
       "</div>"
      ],
      "text/plain": [
       "          ph    Hardness       Solids  Chloramines     Sulfate  Conductivity  \\\n",
       "69  6.157443  155.835706  25937.71144     8.163144  298.192406    533.288351   \n",
       "70  4.405327  169.742537  15039.71041     6.308198  352.917733    424.251162   \n",
       "71  9.347345  201.632836  13749.59604     7.333742  322.044667    512.446305   \n",
       "72  2.690831  151.782906  30204.54674     6.053072  303.702409    377.198273   \n",
       "73  7.009602  220.561996  18628.69683     6.781680  334.135731    397.996103   \n",
       "\n",
       "    Organic_carbon  Trihalomethanes  Turbidity  \n",
       "69       14.356496        68.120761   4.770154  \n",
       "70       14.441754        79.169597   4.086867  \n",
       "71       12.434716        43.827119   3.615151  \n",
       "72       14.121049        45.602992   4.650034  \n",
       "73       14.808674        77.763534   3.121945  "
      ]
     },
     "execution_count": 159,
     "metadata": {},
     "output_type": "execute_result"
    }
   ],
   "source": [
    "x_train[0].head()"
   ]
  },
  {
   "cell_type": "markdown",
   "metadata": {},
   "source": [
    "## Part 4"
   ]
  },
  {
   "cell_type": "markdown",
   "metadata": {},
   "source": [
    "### Elbow Method"
   ]
  },
  {
   "cell_type": "code",
   "execution_count": 160,
   "metadata": {},
   "outputs": [],
   "source": [
    "wss_score = [[] for col in range(9) for row in range(9)]\n",
    "for i in range(0,9):\n",
    "    for j in range(2, 12):\n",
    "        kmeans=cluster.KMeans(n_clusters=j,init=\"k-means++\")\n",
    "        kmeans=kmeans.fit(x_train[i])\n",
    "        wss_iter = kmeans.inertia_\n",
    "        wss_score[i].append(wss_iter)"
   ]
  },
  {
   "cell_type": "code",
   "execution_count": 161,
   "metadata": {},
   "outputs": [
    {
     "data": {
      "image/png": "[encoded data removed]",
      "text/plain": [
       "<Figure size 432x288 with 1 Axes>"
      ]
     },
     "metadata": {
      "needs_background": "light"
     },
     "output_type": "display_data"
    }
   ],
   "source": [
    "for i in range(0,9):\n",
    "    plt.plot(wss_score[i], label= 'Fold {}'.format(i))\n",
    "    plt.xlabel('Number of Clusters')\n",
    "    plt.ylabel('WSS Score')\n",
    "    plt.title('WSS Score against Number of Clusters')\n",
    "    plt.legend()\n",
    "    plt.savefig('Elbow_plot_water_potabilty.jpg')"
   ]
  },
  {
   "cell_type": "markdown",
   "metadata": {},
   "source": [
    "- 2 clusters identified using Elbow method"
   ]
  },
  {
   "cell_type": "code",
   "execution_count": 162,
   "metadata": {},
   "outputs": [
    {
     "data": {
      "text/plain": [
       "<Figure size 432x288 with 0 Axes>"
      ]
     },
     "metadata": {},
     "output_type": "display_data"
    }
   ],
   "source": [
    "plt.savefig(\"output_wine_elbow.png\")"
   ]
  },
  {
   "cell_type": "markdown",
   "metadata": {},
   "source": [
    "## Silhouette method"
   ]
  },
  {
   "cell_type": "code",
   "execution_count": 163,
   "metadata": {},
   "outputs": [],
   "source": [
    "from sklearn.metrics import silhouette_score"
   ]
  },
  {
   "cell_type": "code",
   "execution_count": 164,
   "metadata": {},
   "outputs": [],
   "source": [
    "scores_arr = [[] for col in range(9) for row in range(9)]\n",
    "for i in range(0,9):\n",
    "    for j in range(2, 12):\n",
    "        labels=cluster.KMeans(n_clusters=j,init=\"k-means++\",random_state=200).fit(x_train[i]).labels_\n",
    "        scores = silhouette_score(x_train[i],labels,metric=\"euclidean\",sample_size=1000,random_state=200)\n",
    "        scores_arr[i].append(scores)"
   ]
  },
  {
   "cell_type": "code",
   "execution_count": 165,
   "metadata": {},
   "outputs": [
    {
     "name": "stdout",
     "output_type": "stream",
     "text": [
      "For Cluster 0, the maximum score is at index: 0\n",
      "For Cluster 1, the maximum score is at index: 0\n",
      "For Cluster 2, the maximum score is at index: 0\n",
      "For Cluster 3, the maximum score is at index: 0\n",
      "For Cluster 4, the maximum score is at index: 0\n",
      "For Cluster 5, the maximum score is at index: 0\n",
      "For Cluster 6, the maximum score is at index: 0\n",
      "For Cluster 7, the maximum score is at index: 0\n",
      "For Cluster 8, the maximum score is at index: 0\n"
     ]
    }
   ],
   "source": [
    "for i in range(0,9):\n",
    "    max_value = max(scores_arr[i])\n",
    "    max_index = scores_arr[i].index(max_value)\n",
    "    print('For Cluster {}, the maximum score is at index: {}'.format(i, max_index))"
   ]
  },
  {
   "cell_type": "code",
   "execution_count": 166,
   "metadata": {},
   "outputs": [],
   "source": [
    "#*****CHANGE MANUALLY DURING EACH ITERATION*****#\n",
    "\n",
    "#num_of_clusters=8 "
   ]
  },
  {
   "cell_type": "markdown",
   "metadata": {},
   "source": [
    "- The maximum Silhouette score is found at index 0 for all the folds which corresponds to 2 clusters"
   ]
  },
  {
   "cell_type": "code",
   "execution_count": 167,
   "metadata": {},
   "outputs": [
    {
     "data": {
      "image/png": "[encoded data removed]",
      "text/plain": [
       "<Figure size 432x288 with 1 Axes>"
      ]
     },
     "metadata": {
      "needs_background": "light"
     },
     "output_type": "display_data"
    }
   ],
   "source": [
    "# Visualizing Silhouette scores for the different folds\n",
    "for i in range(0,9):\n",
    "    plt.plot(scores_arr[i], label= 'Fold {}'.format(i))\n",
    "    plt.xlabel('Number of Clusters')\n",
    "    plt.ylabel('Silhouette Score')\n",
    "    plt.title('Silhouette Score against Number of Clusters')\n",
    "    plt.xlim([1, 10])\n",
    "    plt.legend()\n",
    "    plt.savefig('Silhouette_plot_water_potability.jpg')"
   ]
  },
  {
   "cell_type": "markdown",
   "metadata": {},
   "source": [
    "### K-Means"
   ]
  },
  {
   "cell_type": "code",
   "execution_count": 168,
   "metadata": {},
   "outputs": [],
   "source": [
    "clusters_arr = [[] for col in range(9) for row in range(len(x_train[1]))]\n",
    "kmeans = cluster.KMeans(n_clusters=2 ,init=\"k-means++\")\n",
    "for i in range(0,9):\n",
    "    kmeans = kmeans.fit(x_train[i])\n",
    "    clusters = kmeans.labels_\n",
    "    clusters_arr[i].append(clusters)"
   ]
  },
  {
   "cell_type": "code",
   "execution_count": 169,
   "metadata": {},
   "outputs": [
    {
     "name": "stderr",
     "output_type": "stream",
     "text": [
      "<ipython-input-169-f92b37f6f9c6>:2: SettingWithCopyWarning: \n",
      "A value is trying to be set on a copy of a slice from a DataFrame.\n",
      "Try using .loc[row_indexer,col_indexer] = value instead\n",
      "\n",
      "See the caveats in the documentation: https://pandas.pydata.org/pandas-docs/stable/user_guide/indexing.html#returning-a-view-versus-a-copy\n",
      "  dftest['pred_labels'] = np.transpose(clusters_arr[8])\n",
      "<ipython-input-169-f92b37f6f9c6>:3: SettingWithCopyWarning: \n",
      "A value is trying to be set on a copy of a slice from a DataFrame.\n",
      "Try using .loc[row_indexer,col_indexer] = value instead\n",
      "\n",
      "See the caveats in the documentation: https://pandas.pydata.org/pandas-docs/stable/user_guide/indexing.html#returning-a-view-versus-a-copy\n",
      "  dftest['true_labels'] = y_train[8]\n"
     ]
    },
    {
     "data": {
      "text/html": [
       "<div>\n",
       "<style scoped>\n",
       "    .dataframe tbody tr th:only-of-type {\n",
       "        vertical-align: middle;\n",
       "    }\n",
       "\n",
       "    .dataframe tbody tr th {\n",
       "        vertical-align: top;\n",
       "    }\n",
       "\n",
       "    .dataframe thead th {\n",
       "        text-align: right;\n",
       "    }\n",
       "</style>\n",
       "<table border=\"1\" class=\"dataframe\">\n",
       "  <thead>\n",
       "    <tr style=\"text-align: right;\">\n",
       "      <th></th>\n",
       "      <th>ph</th>\n",
       "      <th>Hardness</th>\n",
       "      <th>Solids</th>\n",
       "      <th>Chloramines</th>\n",
       "      <th>Sulfate</th>\n",
       "      <th>Conductivity</th>\n",
       "      <th>Organic_carbon</th>\n",
       "      <th>Trihalomethanes</th>\n",
       "      <th>Turbidity</th>\n",
       "      <th>pred_labels</th>\n",
       "      <th>true_labels</th>\n",
       "    </tr>\n",
       "  </thead>\n",
       "  <tbody>\n",
       "    <tr>\n",
       "      <th>0</th>\n",
       "      <td>7.038721</td>\n",
       "      <td>210.204921</td>\n",
       "      <td>26894.14489</td>\n",
       "      <td>4.312762</td>\n",
       "      <td>329.146438</td>\n",
       "      <td>344.515150</td>\n",
       "      <td>15.109191</td>\n",
       "      <td>66.359321</td>\n",
       "      <td>4.903914</td>\n",
       "      <td>0</td>\n",
       "      <td>0</td>\n",
       "    </tr>\n",
       "    <tr>\n",
       "      <th>1</th>\n",
       "      <td>7.038721</td>\n",
       "      <td>184.020029</td>\n",
       "      <td>13361.22602</td>\n",
       "      <td>9.258656</td>\n",
       "      <td>335.089993</td>\n",
       "      <td>467.444154</td>\n",
       "      <td>19.581926</td>\n",
       "      <td>80.084233</td>\n",
       "      <td>4.411058</td>\n",
       "      <td>1</td>\n",
       "      <td>0</td>\n",
       "    </tr>\n",
       "    <tr>\n",
       "      <th>2</th>\n",
       "      <td>9.735889</td>\n",
       "      <td>209.761513</td>\n",
       "      <td>10897.15029</td>\n",
       "      <td>6.106567</td>\n",
       "      <td>358.193121</td>\n",
       "      <td>449.367790</td>\n",
       "      <td>13.911645</td>\n",
       "      <td>47.100186</td>\n",
       "      <td>5.573210</td>\n",
       "      <td>1</td>\n",
       "      <td>0</td>\n",
       "    </tr>\n",
       "    <tr>\n",
       "      <th>3</th>\n",
       "      <td>7.257931</td>\n",
       "      <td>187.765622</td>\n",
       "      <td>24354.33517</td>\n",
       "      <td>7.196254</td>\n",
       "      <td>334.135731</td>\n",
       "      <td>346.291785</td>\n",
       "      <td>10.892953</td>\n",
       "      <td>61.561166</td>\n",
       "      <td>4.266923</td>\n",
       "      <td>0</td>\n",
       "      <td>0</td>\n",
       "    </tr>\n",
       "    <tr>\n",
       "      <th>4</th>\n",
       "      <td>6.971577</td>\n",
       "      <td>185.906938</td>\n",
       "      <td>27959.98787</td>\n",
       "      <td>7.214510</td>\n",
       "      <td>349.743879</td>\n",
       "      <td>414.067354</td>\n",
       "      <td>19.882917</td>\n",
       "      <td>36.179003</td>\n",
       "      <td>3.226349</td>\n",
       "      <td>0</td>\n",
       "      <td>0</td>\n",
       "    </tr>\n",
       "  </tbody>\n",
       "</table>\n",
       "</div>"
      ],
      "text/plain": [
       "         ph    Hardness       Solids  Chloramines     Sulfate  Conductivity  \\\n",
       "0  7.038721  210.204921  26894.14489     4.312762  329.146438    344.515150   \n",
       "1  7.038721  184.020029  13361.22602     9.258656  335.089993    467.444154   \n",
       "2  9.735889  209.761513  10897.15029     6.106567  358.193121    449.367790   \n",
       "3  7.257931  187.765622  24354.33517     7.196254  334.135731    346.291785   \n",
       "4  6.971577  185.906938  27959.98787     7.214510  349.743879    414.067354   \n",
       "\n",
       "   Organic_carbon  Trihalomethanes  Turbidity  pred_labels  true_labels  \n",
       "0       15.109191        66.359321   4.903914            0            0  \n",
       "1       19.581926        80.084233   4.411058            1            0  \n",
       "2       13.911645        47.100186   5.573210            1            0  \n",
       "3       10.892953        61.561166   4.266923            0            0  \n",
       "4       19.882917        36.179003   3.226349            0            0  "
      ]
     },
     "execution_count": 169,
     "metadata": {},
     "output_type": "execute_result"
    }
   ],
   "source": [
    "dftest = x_train[8]\n",
    "dftest['pred_labels'] = np.transpose(clusters_arr[8])\n",
    "dftest['true_labels'] = y_train[8]\n",
    "dftest.head()"
   ]
  },
  {
   "cell_type": "code",
   "execution_count": 170,
   "metadata": {},
   "outputs": [
    {
     "data": {
      "text/html": [
       "<div>\n",
       "<style scoped>\n",
       "    .dataframe tbody tr th:only-of-type {\n",
       "        vertical-align: middle;\n",
       "    }\n",
       "\n",
       "    .dataframe tbody tr th {\n",
       "        vertical-align: top;\n",
       "    }\n",
       "\n",
       "    .dataframe thead th {\n",
       "        text-align: right;\n",
       "    }\n",
       "</style>\n",
       "<table border=\"1\" class=\"dataframe\">\n",
       "  <thead>\n",
       "    <tr style=\"text-align: right;\">\n",
       "      <th></th>\n",
       "      <th>ph</th>\n",
       "      <th>Hardness</th>\n",
       "      <th>Solids</th>\n",
       "      <th>Chloramines</th>\n",
       "      <th>Sulfate</th>\n",
       "      <th>Conductivity</th>\n",
       "      <th>Organic_carbon</th>\n",
       "      <th>Trihalomethanes</th>\n",
       "      <th>Turbidity</th>\n",
       "      <th>pred_labels</th>\n",
       "      <th>true_labels</th>\n",
       "    </tr>\n",
       "  </thead>\n",
       "  <tbody>\n",
       "    <tr>\n",
       "      <th>1</th>\n",
       "      <td>7.038721</td>\n",
       "      <td>184.020029</td>\n",
       "      <td>13361.226020</td>\n",
       "      <td>9.258656</td>\n",
       "      <td>335.089993</td>\n",
       "      <td>467.444154</td>\n",
       "      <td>19.581926</td>\n",
       "      <td>80.084233</td>\n",
       "      <td>4.411058</td>\n",
       "      <td>1</td>\n",
       "      <td>0</td>\n",
       "    </tr>\n",
       "    <tr>\n",
       "      <th>2</th>\n",
       "      <td>9.735889</td>\n",
       "      <td>209.761513</td>\n",
       "      <td>10897.150290</td>\n",
       "      <td>6.106567</td>\n",
       "      <td>358.193121</td>\n",
       "      <td>449.367790</td>\n",
       "      <td>13.911645</td>\n",
       "      <td>47.100186</td>\n",
       "      <td>5.573210</td>\n",
       "      <td>1</td>\n",
       "      <td>0</td>\n",
       "    </tr>\n",
       "    <tr>\n",
       "      <th>5</th>\n",
       "      <td>6.344095</td>\n",
       "      <td>164.817207</td>\n",
       "      <td>14973.297360</td>\n",
       "      <td>10.707016</td>\n",
       "      <td>316.144450</td>\n",
       "      <td>337.219448</td>\n",
       "      <td>19.411699</td>\n",
       "      <td>64.384970</td>\n",
       "      <td>3.843484</td>\n",
       "      <td>1</td>\n",
       "      <td>0</td>\n",
       "    </tr>\n",
       "    <tr>\n",
       "      <th>6</th>\n",
       "      <td>10.191665</td>\n",
       "      <td>211.566904</td>\n",
       "      <td>13630.047310</td>\n",
       "      <td>6.524476</td>\n",
       "      <td>297.049066</td>\n",
       "      <td>468.371387</td>\n",
       "      <td>17.411747</td>\n",
       "      <td>72.720573</td>\n",
       "      <td>3.403423</td>\n",
       "      <td>1</td>\n",
       "      <td>0</td>\n",
       "    </tr>\n",
       "    <tr>\n",
       "      <th>7</th>\n",
       "      <td>10.188433</td>\n",
       "      <td>286.567991</td>\n",
       "      <td>7105.800709</td>\n",
       "      <td>9.840540</td>\n",
       "      <td>321.686059</td>\n",
       "      <td>437.879508</td>\n",
       "      <td>12.871599</td>\n",
       "      <td>78.732055</td>\n",
       "      <td>4.635243</td>\n",
       "      <td>1</td>\n",
       "      <td>0</td>\n",
       "    </tr>\n",
       "  </tbody>\n",
       "</table>\n",
       "</div>"
      ],
      "text/plain": [
       "          ph    Hardness        Solids  Chloramines     Sulfate  Conductivity  \\\n",
       "1   7.038721  184.020029  13361.226020     9.258656  335.089993    467.444154   \n",
       "2   9.735889  209.761513  10897.150290     6.106567  358.193121    449.367790   \n",
       "5   6.344095  164.817207  14973.297360    10.707016  316.144450    337.219448   \n",
       "6  10.191665  211.566904  13630.047310     6.524476  297.049066    468.371387   \n",
       "7  10.188433  286.567991   7105.800709     9.840540  321.686059    437.879508   \n",
       "\n",
       "   Organic_carbon  Trihalomethanes  Turbidity  pred_labels  true_labels  \n",
       "1       19.581926        80.084233   4.411058            1            0  \n",
       "2       13.911645        47.100186   5.573210            1            0  \n",
       "5       19.411699        64.384970   3.843484            1            0  \n",
       "6       17.411747        72.720573   3.403423            1            0  \n",
       "7       12.871599        78.732055   4.635243            1            0  "
      ]
     },
     "execution_count": 170,
     "metadata": {},
     "output_type": "execute_result"
    }
   ],
   "source": [
    "dftest1 = dftest[dftest['pred_labels'].isin([1])]\n",
    "dftest1.head()"
   ]
  },
  {
   "cell_type": "code",
   "execution_count": 171,
   "metadata": {},
   "outputs": [
    {
     "data": {
      "text/plain": [
       "0.6392988929889298"
      ]
     },
     "execution_count": 171,
     "metadata": {},
     "output_type": "execute_result"
    }
   ],
   "source": [
    "accuracy_score(dftest1['true_labels'], dftest1['pred_labels'])"
   ]
  },
  {
   "cell_type": "code",
   "execution_count": 172,
   "metadata": {},
   "outputs": [
    {
     "data": {
      "text/plain": [
       "1    693\n",
       "0    391\n",
       "Name: true_labels, dtype: int64"
      ]
     },
     "execution_count": 172,
     "metadata": {},
     "output_type": "execute_result"
    }
   ],
   "source": [
    "dftest1['true_labels'].value_counts() #There are 33 minority labels(belong to cluster 0)"
   ]
  },
  {
   "cell_type": "code",
   "execution_count": 173,
   "metadata": {},
   "outputs": [
    {
     "data": {
      "text/plain": [
       "0    391\n",
       "Name: true_labels, dtype: int64"
      ]
     },
     "execution_count": 173,
     "metadata": {},
     "output_type": "execute_result"
    }
   ],
   "source": [
    "dftest_1 = dftest1[dftest1['true_labels'].isin([0])]\n",
    "dftest_1['true_labels'].value_counts()"
   ]
  },
  {
   "cell_type": "code",
   "execution_count": 174,
   "metadata": {},
   "outputs": [
    {
     "data": {
      "text/html": [
       "<div>\n",
       "<style scoped>\n",
       "    .dataframe tbody tr th:only-of-type {\n",
       "        vertical-align: middle;\n",
       "    }\n",
       "\n",
       "    .dataframe tbody tr th {\n",
       "        vertical-align: top;\n",
       "    }\n",
       "\n",
       "    .dataframe thead th {\n",
       "        text-align: right;\n",
       "    }\n",
       "</style>\n",
       "<table border=\"1\" class=\"dataframe\">\n",
       "  <thead>\n",
       "    <tr style=\"text-align: right;\">\n",
       "      <th></th>\n",
       "      <th>ph</th>\n",
       "      <th>Hardness</th>\n",
       "      <th>Solids</th>\n",
       "      <th>Chloramines</th>\n",
       "      <th>Sulfate</th>\n",
       "      <th>Conductivity</th>\n",
       "      <th>Organic_carbon</th>\n",
       "      <th>Trihalomethanes</th>\n",
       "      <th>Turbidity</th>\n",
       "      <th>pred_labels</th>\n",
       "      <th>true_labels</th>\n",
       "    </tr>\n",
       "  </thead>\n",
       "  <tbody>\n",
       "    <tr>\n",
       "      <th>0</th>\n",
       "      <td>7.038721</td>\n",
       "      <td>210.204921</td>\n",
       "      <td>26894.14489</td>\n",
       "      <td>4.312762</td>\n",
       "      <td>329.146438</td>\n",
       "      <td>344.515150</td>\n",
       "      <td>15.109191</td>\n",
       "      <td>66.359321</td>\n",
       "      <td>4.903914</td>\n",
       "      <td>0</td>\n",
       "      <td>0</td>\n",
       "    </tr>\n",
       "    <tr>\n",
       "      <th>3</th>\n",
       "      <td>7.257931</td>\n",
       "      <td>187.765622</td>\n",
       "      <td>24354.33517</td>\n",
       "      <td>7.196254</td>\n",
       "      <td>334.135731</td>\n",
       "      <td>346.291785</td>\n",
       "      <td>10.892953</td>\n",
       "      <td>61.561166</td>\n",
       "      <td>4.266923</td>\n",
       "      <td>0</td>\n",
       "      <td>0</td>\n",
       "    </tr>\n",
       "    <tr>\n",
       "      <th>4</th>\n",
       "      <td>6.971577</td>\n",
       "      <td>185.906938</td>\n",
       "      <td>27959.98787</td>\n",
       "      <td>7.214510</td>\n",
       "      <td>349.743879</td>\n",
       "      <td>414.067354</td>\n",
       "      <td>19.882917</td>\n",
       "      <td>36.179003</td>\n",
       "      <td>3.226349</td>\n",
       "      <td>0</td>\n",
       "      <td>0</td>\n",
       "    </tr>\n",
       "    <tr>\n",
       "      <th>8</th>\n",
       "      <td>7.038721</td>\n",
       "      <td>207.391097</td>\n",
       "      <td>25110.03763</td>\n",
       "      <td>6.329791</td>\n",
       "      <td>345.592635</td>\n",
       "      <td>420.219104</td>\n",
       "      <td>22.346415</td>\n",
       "      <td>92.327760</td>\n",
       "      <td>2.739235</td>\n",
       "      <td>0</td>\n",
       "      <td>0</td>\n",
       "    </tr>\n",
       "    <tr>\n",
       "      <th>12</th>\n",
       "      <td>7.468617</td>\n",
       "      <td>240.345305</td>\n",
       "      <td>36701.97435</td>\n",
       "      <td>4.536413</td>\n",
       "      <td>339.221351</td>\n",
       "      <td>453.211366</td>\n",
       "      <td>16.106515</td>\n",
       "      <td>67.952496</td>\n",
       "      <td>3.384179</td>\n",
       "      <td>0</td>\n",
       "      <td>0</td>\n",
       "    </tr>\n",
       "  </tbody>\n",
       "</table>\n",
       "</div>"
      ],
      "text/plain": [
       "          ph    Hardness       Solids  Chloramines     Sulfate  Conductivity  \\\n",
       "0   7.038721  210.204921  26894.14489     4.312762  329.146438    344.515150   \n",
       "3   7.257931  187.765622  24354.33517     7.196254  334.135731    346.291785   \n",
       "4   6.971577  185.906938  27959.98787     7.214510  349.743879    414.067354   \n",
       "8   7.038721  207.391097  25110.03763     6.329791  345.592635    420.219104   \n",
       "12  7.468617  240.345305  36701.97435     4.536413  339.221351    453.211366   \n",
       "\n",
       "    Organic_carbon  Trihalomethanes  Turbidity  pred_labels  true_labels  \n",
       "0        15.109191        66.359321   4.903914            0            0  \n",
       "3        10.892953        61.561166   4.266923            0            0  \n",
       "4        19.882917        36.179003   3.226349            0            0  \n",
       "8        22.346415        92.327760   2.739235            0            0  \n",
       "12       16.106515        67.952496   3.384179            0            0  "
      ]
     },
     "execution_count": 174,
     "metadata": {},
     "output_type": "execute_result"
    }
   ],
   "source": [
    "dftest0 = dftest[dftest['pred_labels'].isin([0])]\n",
    "dftest0.head()"
   ]
  },
  {
   "cell_type": "code",
   "execution_count": 175,
   "metadata": {},
   "outputs": [
    {
     "data": {
      "text/plain": [
       "1    458\n",
       "Name: true_labels, dtype: int64"
      ]
     },
     "execution_count": 175,
     "metadata": {},
     "output_type": "execute_result"
    }
   ],
   "source": [
    "dftest_0 = dftest0[dftest0['true_labels'].isin([1])]\n",
    "dftest_0['true_labels'].value_counts()"
   ]
  },
  {
   "cell_type": "code",
   "execution_count": 176,
   "metadata": {},
   "outputs": [
    {
     "data": {
      "text/html": [
       "<div>\n",
       "<style scoped>\n",
       "    .dataframe tbody tr th:only-of-type {\n",
       "        vertical-align: middle;\n",
       "    }\n",
       "\n",
       "    .dataframe tbody tr th {\n",
       "        vertical-align: top;\n",
       "    }\n",
       "\n",
       "    .dataframe thead th {\n",
       "        text-align: right;\n",
       "    }\n",
       "</style>\n",
       "<table border=\"1\" class=\"dataframe\">\n",
       "  <thead>\n",
       "    <tr style=\"text-align: right;\">\n",
       "      <th></th>\n",
       "      <th>ph</th>\n",
       "      <th>Hardness</th>\n",
       "      <th>Solids</th>\n",
       "      <th>Chloramines</th>\n",
       "      <th>Sulfate</th>\n",
       "      <th>Conductivity</th>\n",
       "      <th>Organic_carbon</th>\n",
       "      <th>Trihalomethanes</th>\n",
       "      <th>Turbidity</th>\n",
       "      <th>pred_labels</th>\n",
       "      <th>true_labels</th>\n",
       "    </tr>\n",
       "  </thead>\n",
       "  <tbody>\n",
       "    <tr>\n",
       "      <th>690</th>\n",
       "      <td>7.657542</td>\n",
       "      <td>230.820008</td>\n",
       "      <td>35056.23223</td>\n",
       "      <td>7.656807</td>\n",
       "      <td>364.130141</td>\n",
       "      <td>305.629409</td>\n",
       "      <td>18.481396</td>\n",
       "      <td>72.205075</td>\n",
       "      <td>4.792527</td>\n",
       "      <td>0</td>\n",
       "      <td>1</td>\n",
       "    </tr>\n",
       "    <tr>\n",
       "      <th>692</th>\n",
       "      <td>7.038721</td>\n",
       "      <td>176.779947</td>\n",
       "      <td>24793.45568</td>\n",
       "      <td>6.394342</td>\n",
       "      <td>312.359148</td>\n",
       "      <td>377.066286</td>\n",
       "      <td>10.070192</td>\n",
       "      <td>50.124122</td>\n",
       "      <td>4.641041</td>\n",
       "      <td>0</td>\n",
       "      <td>1</td>\n",
       "    </tr>\n",
       "    <tr>\n",
       "      <th>696</th>\n",
       "      <td>6.382315</td>\n",
       "      <td>212.838514</td>\n",
       "      <td>24259.75167</td>\n",
       "      <td>7.360504</td>\n",
       "      <td>334.135731</td>\n",
       "      <td>342.581444</td>\n",
       "      <td>12.332979</td>\n",
       "      <td>67.748991</td>\n",
       "      <td>2.881370</td>\n",
       "      <td>0</td>\n",
       "      <td>1</td>\n",
       "    </tr>\n",
       "    <tr>\n",
       "      <th>698</th>\n",
       "      <td>3.551579</td>\n",
       "      <td>323.124000</td>\n",
       "      <td>38969.38899</td>\n",
       "      <td>8.925515</td>\n",
       "      <td>334.135731</td>\n",
       "      <td>514.762918</td>\n",
       "      <td>10.160303</td>\n",
       "      <td>71.099999</td>\n",
       "      <td>3.965994</td>\n",
       "      <td>0</td>\n",
       "      <td>1</td>\n",
       "    </tr>\n",
       "    <tr>\n",
       "      <th>699</th>\n",
       "      <td>7.493844</td>\n",
       "      <td>197.331291</td>\n",
       "      <td>26678.39288</td>\n",
       "      <td>7.198435</td>\n",
       "      <td>269.892347</td>\n",
       "      <td>375.503062</td>\n",
       "      <td>13.134917</td>\n",
       "      <td>69.590806</td>\n",
       "      <td>3.819947</td>\n",
       "      <td>0</td>\n",
       "      <td>1</td>\n",
       "    </tr>\n",
       "  </tbody>\n",
       "</table>\n",
       "</div>"
      ],
      "text/plain": [
       "           ph    Hardness       Solids  Chloramines     Sulfate  Conductivity  \\\n",
       "690  7.657542  230.820008  35056.23223     7.656807  364.130141    305.629409   \n",
       "692  7.038721  176.779947  24793.45568     6.394342  312.359148    377.066286   \n",
       "696  6.382315  212.838514  24259.75167     7.360504  334.135731    342.581444   \n",
       "698  3.551579  323.124000  38969.38899     8.925515  334.135731    514.762918   \n",
       "699  7.493844  197.331291  26678.39288     7.198435  269.892347    375.503062   \n",
       "\n",
       "     Organic_carbon  Trihalomethanes  Turbidity  pred_labels  true_labels  \n",
       "690       18.481396        72.205075   4.792527            0            1  \n",
       "692       10.070192        50.124122   4.641041            0            1  \n",
       "696       12.332979        67.748991   2.881370            0            1  \n",
       "698       10.160303        71.099999   3.965994            0            1  \n",
       "699       13.134917        69.590806   3.819947            0            1  "
      ]
     },
     "execution_count": 176,
     "metadata": {},
     "output_type": "execute_result"
    }
   ],
   "source": [
    "#Combining the datasets\n",
    "df_new = pd.concat([dftest_0, dftest_1], axis=0)\n",
    "df_new.head()"
   ]
  },
  {
   "cell_type": "code",
   "execution_count": 177,
   "metadata": {},
   "outputs": [
    {
     "data": {
      "text/plain": [
       "1    458\n",
       "0    391\n",
       "Name: true_labels, dtype: int64"
      ]
     },
     "execution_count": 177,
     "metadata": {},
     "output_type": "execute_result"
    }
   ],
   "source": [
    "df_new['true_labels'].value_counts()"
   ]
  },
  {
   "cell_type": "code",
   "execution_count": 178,
   "metadata": {},
   "outputs": [],
   "source": [
    "#Training Random forest classifier\n",
    "del df_new['pred_labels']"
   ]
  },
  {
   "cell_type": "code",
   "execution_count": 179,
   "metadata": {},
   "outputs": [
    {
     "data": {
      "text/html": [
       "<div>\n",
       "<style scoped>\n",
       "    .dataframe tbody tr th:only-of-type {\n",
       "        vertical-align: middle;\n",
       "    }\n",
       "\n",
       "    .dataframe tbody tr th {\n",
       "        vertical-align: top;\n",
       "    }\n",
       "\n",
       "    .dataframe thead th {\n",
       "        text-align: right;\n",
       "    }\n",
       "</style>\n",
       "<table border=\"1\" class=\"dataframe\">\n",
       "  <thead>\n",
       "    <tr style=\"text-align: right;\">\n",
       "      <th></th>\n",
       "      <th>ph</th>\n",
       "      <th>Hardness</th>\n",
       "      <th>Solids</th>\n",
       "      <th>Chloramines</th>\n",
       "      <th>Sulfate</th>\n",
       "      <th>Conductivity</th>\n",
       "      <th>Organic_carbon</th>\n",
       "      <th>Trihalomethanes</th>\n",
       "      <th>Turbidity</th>\n",
       "      <th>true_labels</th>\n",
       "    </tr>\n",
       "  </thead>\n",
       "  <tbody>\n",
       "    <tr>\n",
       "      <th>690</th>\n",
       "      <td>7.657542</td>\n",
       "      <td>230.820008</td>\n",
       "      <td>35056.23223</td>\n",
       "      <td>7.656807</td>\n",
       "      <td>364.130141</td>\n",
       "      <td>305.629409</td>\n",
       "      <td>18.481396</td>\n",
       "      <td>72.205075</td>\n",
       "      <td>4.792527</td>\n",
       "      <td>1</td>\n",
       "    </tr>\n",
       "    <tr>\n",
       "      <th>692</th>\n",
       "      <td>7.038721</td>\n",
       "      <td>176.779947</td>\n",
       "      <td>24793.45568</td>\n",
       "      <td>6.394342</td>\n",
       "      <td>312.359148</td>\n",
       "      <td>377.066286</td>\n",
       "      <td>10.070192</td>\n",
       "      <td>50.124122</td>\n",
       "      <td>4.641041</td>\n",
       "      <td>1</td>\n",
       "    </tr>\n",
       "    <tr>\n",
       "      <th>696</th>\n",
       "      <td>6.382315</td>\n",
       "      <td>212.838514</td>\n",
       "      <td>24259.75167</td>\n",
       "      <td>7.360504</td>\n",
       "      <td>334.135731</td>\n",
       "      <td>342.581444</td>\n",
       "      <td>12.332979</td>\n",
       "      <td>67.748991</td>\n",
       "      <td>2.881370</td>\n",
       "      <td>1</td>\n",
       "    </tr>\n",
       "    <tr>\n",
       "      <th>698</th>\n",
       "      <td>3.551579</td>\n",
       "      <td>323.124000</td>\n",
       "      <td>38969.38899</td>\n",
       "      <td>8.925515</td>\n",
       "      <td>334.135731</td>\n",
       "      <td>514.762918</td>\n",
       "      <td>10.160303</td>\n",
       "      <td>71.099999</td>\n",
       "      <td>3.965994</td>\n",
       "      <td>1</td>\n",
       "    </tr>\n",
       "    <tr>\n",
       "      <th>699</th>\n",
       "      <td>7.493844</td>\n",
       "      <td>197.331291</td>\n",
       "      <td>26678.39288</td>\n",
       "      <td>7.198435</td>\n",
       "      <td>269.892347</td>\n",
       "      <td>375.503062</td>\n",
       "      <td>13.134917</td>\n",
       "      <td>69.590806</td>\n",
       "      <td>3.819947</td>\n",
       "      <td>1</td>\n",
       "    </tr>\n",
       "  </tbody>\n",
       "</table>\n",
       "</div>"
      ],
      "text/plain": [
       "           ph    Hardness       Solids  Chloramines     Sulfate  Conductivity  \\\n",
       "690  7.657542  230.820008  35056.23223     7.656807  364.130141    305.629409   \n",
       "692  7.038721  176.779947  24793.45568     6.394342  312.359148    377.066286   \n",
       "696  6.382315  212.838514  24259.75167     7.360504  334.135731    342.581444   \n",
       "698  3.551579  323.124000  38969.38899     8.925515  334.135731    514.762918   \n",
       "699  7.493844  197.331291  26678.39288     7.198435  269.892347    375.503062   \n",
       "\n",
       "     Organic_carbon  Trihalomethanes  Turbidity  true_labels  \n",
       "690       18.481396        72.205075   4.792527            1  \n",
       "692       10.070192        50.124122   4.641041            1  \n",
       "696       12.332979        67.748991   2.881370            1  \n",
       "698       10.160303        71.099999   3.965994            1  \n",
       "699       13.134917        69.590806   3.819947            1  "
      ]
     },
     "execution_count": 179,
     "metadata": {},
     "output_type": "execute_result"
    }
   ],
   "source": [
    "df_new.head()"
   ]
  },
  {
   "cell_type": "code",
   "execution_count": 180,
   "metadata": {},
   "outputs": [],
   "source": [
    "x = df_new.loc[:, df_new.columns != 'true_labels']\n",
    "y = df_new['true_labels']"
   ]
  },
  {
   "cell_type": "code",
   "execution_count": 181,
   "metadata": {},
   "outputs": [
    {
     "data": {
      "text/plain": [
       "RandomForestClassifier(n_estimators=1000, n_jobs=-1, random_state=42)"
      ]
     },
     "execution_count": 181,
     "metadata": {},
     "output_type": "execute_result"
    }
   ],
   "source": [
    "rf_clf = RandomForestClassifier(n_estimators = 1000, n_jobs = -1, random_state = 42)\n",
    "rf_clf.fit(x, y)"
   ]
  },
  {
   "cell_type": "code",
   "execution_count": 182,
   "metadata": {},
   "outputs": [
    {
     "name": "stdout",
     "output_type": "stream",
     "text": [
      "RF Train accuracy: 1.0\n"
     ]
    }
   ],
   "source": [
    "print('RF Train accuracy: {}'.format(accuracy_score(y, rf_clf.predict(x))))"
   ]
  },
  {
   "cell_type": "code",
   "execution_count": 183,
   "metadata": {},
   "outputs": [
    {
     "data": {
      "text/plain": [
       "array([1, 0, 0, ..., 0, 1, 0])"
      ]
     },
     "execution_count": 183,
     "metadata": {},
     "output_type": "execute_result"
    }
   ],
   "source": [
    "## Assigning clusters to unseen fold\n",
    "kmeans = cluster.KMeans(n_clusters=2 ,init=\"k-means++\")\n",
    "kmeans = kmeans.fit(x_train[8])\n",
    "clusters = kmeans.labels_\n",
    "clusters"
   ]
  },
  {
   "cell_type": "code",
   "execution_count": 184,
   "metadata": {},
   "outputs": [
    {
     "data": {
      "text/plain": [
       "0.47939017504234893"
      ]
     },
     "execution_count": 184,
     "metadata": {},
     "output_type": "execute_result"
    }
   ],
   "source": [
    "accuracy_score(y_train[8],clusters)"
   ]
  },
  {
   "cell_type": "code",
   "execution_count": 185,
   "metadata": {},
   "outputs": [
    {
     "name": "stdout",
     "output_type": "stream",
     "text": [
      "(1771, 12)\n"
     ]
    },
    {
     "name": "stderr",
     "output_type": "stream",
     "text": [
      "<ipython-input-185-840ddb461245>:2: SettingWithCopyWarning: \n",
      "A value is trying to be set on a copy of a slice from a DataFrame.\n",
      "Try using .loc[row_indexer,col_indexer] = value instead\n",
      "\n",
      "See the caveats in the documentation: https://pandas.pydata.org/pandas-docs/stable/user_guide/indexing.html#returning-a-view-versus-a-copy\n",
      "  df_x['labels'] = clusters\n"
     ]
    },
    {
     "data": {
      "text/html": [
       "<div>\n",
       "<style scoped>\n",
       "    .dataframe tbody tr th:only-of-type {\n",
       "        vertical-align: middle;\n",
       "    }\n",
       "\n",
       "    .dataframe tbody tr th {\n",
       "        vertical-align: top;\n",
       "    }\n",
       "\n",
       "    .dataframe thead th {\n",
       "        text-align: right;\n",
       "    }\n",
       "</style>\n",
       "<table border=\"1\" class=\"dataframe\">\n",
       "  <thead>\n",
       "    <tr style=\"text-align: right;\">\n",
       "      <th></th>\n",
       "      <th>ph</th>\n",
       "      <th>Hardness</th>\n",
       "      <th>Solids</th>\n",
       "      <th>Chloramines</th>\n",
       "      <th>Sulfate</th>\n",
       "      <th>Conductivity</th>\n",
       "      <th>Organic_carbon</th>\n",
       "      <th>Trihalomethanes</th>\n",
       "      <th>Turbidity</th>\n",
       "      <th>pred_labels</th>\n",
       "      <th>true_labels</th>\n",
       "      <th>labels</th>\n",
       "    </tr>\n",
       "  </thead>\n",
       "  <tbody>\n",
       "    <tr>\n",
       "      <th>0</th>\n",
       "      <td>7.038721</td>\n",
       "      <td>210.204921</td>\n",
       "      <td>26894.14489</td>\n",
       "      <td>4.312762</td>\n",
       "      <td>329.146438</td>\n",
       "      <td>344.515150</td>\n",
       "      <td>15.109191</td>\n",
       "      <td>66.359321</td>\n",
       "      <td>4.903914</td>\n",
       "      <td>0</td>\n",
       "      <td>0</td>\n",
       "      <td>1</td>\n",
       "    </tr>\n",
       "    <tr>\n",
       "      <th>1</th>\n",
       "      <td>7.038721</td>\n",
       "      <td>184.020029</td>\n",
       "      <td>13361.22602</td>\n",
       "      <td>9.258656</td>\n",
       "      <td>335.089993</td>\n",
       "      <td>467.444154</td>\n",
       "      <td>19.581926</td>\n",
       "      <td>80.084233</td>\n",
       "      <td>4.411058</td>\n",
       "      <td>1</td>\n",
       "      <td>0</td>\n",
       "      <td>0</td>\n",
       "    </tr>\n",
       "    <tr>\n",
       "      <th>2</th>\n",
       "      <td>9.735889</td>\n",
       "      <td>209.761513</td>\n",
       "      <td>10897.15029</td>\n",
       "      <td>6.106567</td>\n",
       "      <td>358.193121</td>\n",
       "      <td>449.367790</td>\n",
       "      <td>13.911645</td>\n",
       "      <td>47.100186</td>\n",
       "      <td>5.573210</td>\n",
       "      <td>1</td>\n",
       "      <td>0</td>\n",
       "      <td>0</td>\n",
       "    </tr>\n",
       "    <tr>\n",
       "      <th>3</th>\n",
       "      <td>7.257931</td>\n",
       "      <td>187.765622</td>\n",
       "      <td>24354.33517</td>\n",
       "      <td>7.196254</td>\n",
       "      <td>334.135731</td>\n",
       "      <td>346.291785</td>\n",
       "      <td>10.892953</td>\n",
       "      <td>61.561166</td>\n",
       "      <td>4.266923</td>\n",
       "      <td>0</td>\n",
       "      <td>0</td>\n",
       "      <td>1</td>\n",
       "    </tr>\n",
       "    <tr>\n",
       "      <th>4</th>\n",
       "      <td>6.971577</td>\n",
       "      <td>185.906938</td>\n",
       "      <td>27959.98787</td>\n",
       "      <td>7.214510</td>\n",
       "      <td>349.743879</td>\n",
       "      <td>414.067354</td>\n",
       "      <td>19.882917</td>\n",
       "      <td>36.179003</td>\n",
       "      <td>3.226349</td>\n",
       "      <td>0</td>\n",
       "      <td>0</td>\n",
       "      <td>1</td>\n",
       "    </tr>\n",
       "  </tbody>\n",
       "</table>\n",
       "</div>"
      ],
      "text/plain": [
       "         ph    Hardness       Solids  Chloramines     Sulfate  Conductivity  \\\n",
       "0  7.038721  210.204921  26894.14489     4.312762  329.146438    344.515150   \n",
       "1  7.038721  184.020029  13361.22602     9.258656  335.089993    467.444154   \n",
       "2  9.735889  209.761513  10897.15029     6.106567  358.193121    449.367790   \n",
       "3  7.257931  187.765622  24354.33517     7.196254  334.135731    346.291785   \n",
       "4  6.971577  185.906938  27959.98787     7.214510  349.743879    414.067354   \n",
       "\n",
       "   Organic_carbon  Trihalomethanes  Turbidity  pred_labels  true_labels  \\\n",
       "0       15.109191        66.359321   4.903914            0            0   \n",
       "1       19.581926        80.084233   4.411058            1            0   \n",
       "2       13.911645        47.100186   5.573210            1            0   \n",
       "3       10.892953        61.561166   4.266923            0            0   \n",
       "4       19.882917        36.179003   3.226349            0            0   \n",
       "\n",
       "   labels  \n",
       "0       1  \n",
       "1       0  \n",
       "2       0  \n",
       "3       1  \n",
       "4       1  "
      ]
     },
     "execution_count": 185,
     "metadata": {},
     "output_type": "execute_result"
    }
   ],
   "source": [
    "df_x = x_train[8]\n",
    "df_x['labels'] = clusters\n",
    "print(df_x.shape)\n",
    "df_x.head()"
   ]
  },
  {
   "cell_type": "code",
   "execution_count": 186,
   "metadata": {},
   "outputs": [],
   "source": [
    "arr = []\n",
    "for i in range(len(df_x)):\n",
    "    res = df_x['labels'].iloc[i] == df_x['true_labels'].iloc[i]\n",
    "    arr.append(res)"
   ]
  },
  {
   "cell_type": "code",
   "execution_count": 187,
   "metadata": {},
   "outputs": [
    {
     "name": "stderr",
     "output_type": "stream",
     "text": [
      "<ipython-input-187-9f1c0fa92ac7>:1: SettingWithCopyWarning: \n",
      "A value is trying to be set on a copy of a slice from a DataFrame.\n",
      "Try using .loc[row_indexer,col_indexer] = value instead\n",
      "\n",
      "See the caveats in the documentation: https://pandas.pydata.org/pandas-docs/stable/user_guide/indexing.html#returning-a-view-versus-a-copy\n",
      "  df_x['bool'] = arr\n"
     ]
    },
    {
     "data": {
      "text/plain": [
       "(922, 13)"
      ]
     },
     "execution_count": 187,
     "metadata": {},
     "output_type": "execute_result"
    }
   ],
   "source": [
    "df_x['bool'] = arr\n",
    "df_x = df_x[df_x['bool'].isin([False])]\n",
    "df_x.shape"
   ]
  },
  {
   "cell_type": "code",
   "execution_count": 188,
   "metadata": {},
   "outputs": [
    {
     "data": {
      "text/html": [
       "<div>\n",
       "<style scoped>\n",
       "    .dataframe tbody tr th:only-of-type {\n",
       "        vertical-align: middle;\n",
       "    }\n",
       "\n",
       "    .dataframe tbody tr th {\n",
       "        vertical-align: top;\n",
       "    }\n",
       "\n",
       "    .dataframe thead th {\n",
       "        text-align: right;\n",
       "    }\n",
       "</style>\n",
       "<table border=\"1\" class=\"dataframe\">\n",
       "  <thead>\n",
       "    <tr style=\"text-align: right;\">\n",
       "      <th></th>\n",
       "      <th>ph</th>\n",
       "      <th>Hardness</th>\n",
       "      <th>Solids</th>\n",
       "      <th>Chloramines</th>\n",
       "      <th>Sulfate</th>\n",
       "      <th>Conductivity</th>\n",
       "      <th>Organic_carbon</th>\n",
       "      <th>Trihalomethanes</th>\n",
       "      <th>Turbidity</th>\n",
       "      <th>pred_labels</th>\n",
       "      <th>true_labels</th>\n",
       "      <th>labels</th>\n",
       "      <th>bool</th>\n",
       "    </tr>\n",
       "  </thead>\n",
       "  <tbody>\n",
       "    <tr>\n",
       "      <th>0</th>\n",
       "      <td>7.038721</td>\n",
       "      <td>210.204921</td>\n",
       "      <td>26894.14489</td>\n",
       "      <td>4.312762</td>\n",
       "      <td>329.146438</td>\n",
       "      <td>344.515150</td>\n",
       "      <td>15.109191</td>\n",
       "      <td>66.359321</td>\n",
       "      <td>4.903914</td>\n",
       "      <td>0</td>\n",
       "      <td>0</td>\n",
       "      <td>1</td>\n",
       "      <td>False</td>\n",
       "    </tr>\n",
       "    <tr>\n",
       "      <th>3</th>\n",
       "      <td>7.257931</td>\n",
       "      <td>187.765622</td>\n",
       "      <td>24354.33517</td>\n",
       "      <td>7.196254</td>\n",
       "      <td>334.135731</td>\n",
       "      <td>346.291785</td>\n",
       "      <td>10.892953</td>\n",
       "      <td>61.561166</td>\n",
       "      <td>4.266923</td>\n",
       "      <td>0</td>\n",
       "      <td>0</td>\n",
       "      <td>1</td>\n",
       "      <td>False</td>\n",
       "    </tr>\n",
       "    <tr>\n",
       "      <th>4</th>\n",
       "      <td>6.971577</td>\n",
       "      <td>185.906938</td>\n",
       "      <td>27959.98787</td>\n",
       "      <td>7.214510</td>\n",
       "      <td>349.743879</td>\n",
       "      <td>414.067354</td>\n",
       "      <td>19.882917</td>\n",
       "      <td>36.179003</td>\n",
       "      <td>3.226349</td>\n",
       "      <td>0</td>\n",
       "      <td>0</td>\n",
       "      <td>1</td>\n",
       "      <td>False</td>\n",
       "    </tr>\n",
       "    <tr>\n",
       "      <th>8</th>\n",
       "      <td>7.038721</td>\n",
       "      <td>207.391097</td>\n",
       "      <td>25110.03763</td>\n",
       "      <td>6.329791</td>\n",
       "      <td>345.592635</td>\n",
       "      <td>420.219104</td>\n",
       "      <td>22.346415</td>\n",
       "      <td>92.327760</td>\n",
       "      <td>2.739235</td>\n",
       "      <td>0</td>\n",
       "      <td>0</td>\n",
       "      <td>1</td>\n",
       "      <td>False</td>\n",
       "    </tr>\n",
       "    <tr>\n",
       "      <th>12</th>\n",
       "      <td>7.468617</td>\n",
       "      <td>240.345305</td>\n",
       "      <td>36701.97435</td>\n",
       "      <td>4.536413</td>\n",
       "      <td>339.221351</td>\n",
       "      <td>453.211366</td>\n",
       "      <td>16.106515</td>\n",
       "      <td>67.952496</td>\n",
       "      <td>3.384179</td>\n",
       "      <td>0</td>\n",
       "      <td>0</td>\n",
       "      <td>1</td>\n",
       "      <td>False</td>\n",
       "    </tr>\n",
       "  </tbody>\n",
       "</table>\n",
       "</div>"
      ],
      "text/plain": [
       "          ph    Hardness       Solids  Chloramines     Sulfate  Conductivity  \\\n",
       "0   7.038721  210.204921  26894.14489     4.312762  329.146438    344.515150   \n",
       "3   7.257931  187.765622  24354.33517     7.196254  334.135731    346.291785   \n",
       "4   6.971577  185.906938  27959.98787     7.214510  349.743879    414.067354   \n",
       "8   7.038721  207.391097  25110.03763     6.329791  345.592635    420.219104   \n",
       "12  7.468617  240.345305  36701.97435     4.536413  339.221351    453.211366   \n",
       "\n",
       "    Organic_carbon  Trihalomethanes  Turbidity  pred_labels  true_labels  \\\n",
       "0        15.109191        66.359321   4.903914            0            0   \n",
       "3        10.892953        61.561166   4.266923            0            0   \n",
       "4        19.882917        36.179003   3.226349            0            0   \n",
       "8        22.346415        92.327760   2.739235            0            0   \n",
       "12       16.106515        67.952496   3.384179            0            0   \n",
       "\n",
       "    labels   bool  \n",
       "0        1  False  \n",
       "3        1  False  \n",
       "4        1  False  \n",
       "8        1  False  \n",
       "12       1  False  "
      ]
     },
     "execution_count": 188,
     "metadata": {},
     "output_type": "execute_result"
    }
   ],
   "source": [
    "df_x.head()"
   ]
  },
  {
   "cell_type": "code",
   "execution_count": 189,
   "metadata": {},
   "outputs": [],
   "source": [
    "del df_x['pred_labels']\n",
    "del df_x['labels']\n",
    "del df_x['bool']"
   ]
  },
  {
   "cell_type": "code",
   "execution_count": 190,
   "metadata": {},
   "outputs": [
    {
     "data": {
      "text/plain": [
       "0.0"
      ]
     },
     "execution_count": 190,
     "metadata": {},
     "output_type": "execute_result"
    }
   ],
   "source": [
    "## Random Forest\n",
    "x = df_x.loc[:, df_x.columns != 'true_labels']\n",
    "y = df_x['true_labels']\n",
    "accuracy_score(y, rf_clf.predict(x))"
   ]
  }
 ],
 "metadata": {
  "kernelspec": {
   "display_name": "Python 3",
   "language": "python",
   "name": "python3"
  },
  "language_info": {
   "codemirror_mode": {
    "name": "ipython",
    "version": 3
   },
   "file_extension": ".py",
   "mimetype": "text/x-python",
   "name": "python",
   "nbconvert_exporter": "python",
   "pygments_lexer": "ipython3",
   "version": "3.8.5"
  }
 },
 "nbformat": 4,
 "nbformat_minor": 4
}
