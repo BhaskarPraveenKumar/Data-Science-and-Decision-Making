{
 "cells": [
  {
   "cell_type": "code",
   "execution_count": 2,
   "metadata": {},
   "outputs": [],
   "source": [
    "\n",
    "\n",
    "%matplotlib inline\n",
    "import matplotlib\n",
    "import numpy as np\n",
    "import matplotlib.pyplot as plt\n",
    "import pandas as pd\n",
    "import seaborn as sns\n",
    "\n",
    "from sklearn.datasets import load_wine\n",
    "\n",
    "from sklearn.preprocessing import LabelEncoder, StandardScaler, OneHotEncoder\n",
    "from sklearn.decomposition import PCA\n",
    "from sklearn.cluster import KMeans\n",
    "from sklearn.metrics import silhouette_score\n",
    "\n"
   ]
  },
  {
   "cell_type": "code",
   "execution_count": 3,
   "metadata": {},
   "outputs": [
    {
     "data": {
      "text/html": [
       "<div>\n",
       "<style scoped>\n",
       "    .dataframe tbody tr th:only-of-type {\n",
       "        vertical-align: middle;\n",
       "    }\n",
       "\n",
       "    .dataframe tbody tr th {\n",
       "        vertical-align: top;\n",
       "    }\n",
       "\n",
       "    .dataframe thead th {\n",
       "        text-align: right;\n",
       "    }\n",
       "</style>\n",
       "<table border=\"1\" class=\"dataframe\">\n",
       "  <thead>\n",
       "    <tr style=\"text-align: right;\">\n",
       "      <th></th>\n",
       "      <th>alcohol</th>\n",
       "      <th>malic_acid</th>\n",
       "      <th>ash</th>\n",
       "      <th>alcalinity_of_ash</th>\n",
       "      <th>magnesium</th>\n",
       "      <th>total_phenols</th>\n",
       "      <th>flavanoids</th>\n",
       "      <th>nonflavanoid_phenols</th>\n",
       "      <th>proanthocyanins</th>\n",
       "      <th>color_intensity</th>\n",
       "      <th>hue</th>\n",
       "      <th>od280/od315_of_diluted_wines</th>\n",
       "      <th>proline</th>\n",
       "      <th>y</th>\n",
       "    </tr>\n",
       "  </thead>\n",
       "  <tbody>\n",
       "    <tr>\n",
       "      <th>0</th>\n",
       "      <td>14.23</td>\n",
       "      <td>1.71</td>\n",
       "      <td>2.43</td>\n",
       "      <td>15.6</td>\n",
       "      <td>127.0</td>\n",
       "      <td>2.80</td>\n",
       "      <td>3.06</td>\n",
       "      <td>0.28</td>\n",
       "      <td>2.29</td>\n",
       "      <td>5.64</td>\n",
       "      <td>1.04</td>\n",
       "      <td>3.92</td>\n",
       "      <td>1065.0</td>\n",
       "      <td>Ellipsis</td>\n",
       "    </tr>\n",
       "    <tr>\n",
       "      <th>1</th>\n",
       "      <td>13.20</td>\n",
       "      <td>1.78</td>\n",
       "      <td>2.14</td>\n",
       "      <td>11.2</td>\n",
       "      <td>100.0</td>\n",
       "      <td>2.65</td>\n",
       "      <td>2.76</td>\n",
       "      <td>0.26</td>\n",
       "      <td>1.28</td>\n",
       "      <td>4.38</td>\n",
       "      <td>1.05</td>\n",
       "      <td>3.40</td>\n",
       "      <td>1050.0</td>\n",
       "      <td>Ellipsis</td>\n",
       "    </tr>\n",
       "    <tr>\n",
       "      <th>2</th>\n",
       "      <td>13.16</td>\n",
       "      <td>2.36</td>\n",
       "      <td>2.67</td>\n",
       "      <td>18.6</td>\n",
       "      <td>101.0</td>\n",
       "      <td>2.80</td>\n",
       "      <td>3.24</td>\n",
       "      <td>0.30</td>\n",
       "      <td>2.81</td>\n",
       "      <td>5.68</td>\n",
       "      <td>1.03</td>\n",
       "      <td>3.17</td>\n",
       "      <td>1185.0</td>\n",
       "      <td>Ellipsis</td>\n",
       "    </tr>\n",
       "    <tr>\n",
       "      <th>3</th>\n",
       "      <td>14.37</td>\n",
       "      <td>1.95</td>\n",
       "      <td>2.50</td>\n",
       "      <td>16.8</td>\n",
       "      <td>113.0</td>\n",
       "      <td>3.85</td>\n",
       "      <td>3.49</td>\n",
       "      <td>0.24</td>\n",
       "      <td>2.18</td>\n",
       "      <td>7.80</td>\n",
       "      <td>0.86</td>\n",
       "      <td>3.45</td>\n",
       "      <td>1480.0</td>\n",
       "      <td>Ellipsis</td>\n",
       "    </tr>\n",
       "    <tr>\n",
       "      <th>4</th>\n",
       "      <td>13.24</td>\n",
       "      <td>2.59</td>\n",
       "      <td>2.87</td>\n",
       "      <td>21.0</td>\n",
       "      <td>118.0</td>\n",
       "      <td>2.80</td>\n",
       "      <td>2.69</td>\n",
       "      <td>0.39</td>\n",
       "      <td>1.82</td>\n",
       "      <td>4.32</td>\n",
       "      <td>1.04</td>\n",
       "      <td>2.93</td>\n",
       "      <td>735.0</td>\n",
       "      <td>Ellipsis</td>\n",
       "    </tr>\n",
       "  </tbody>\n",
       "</table>\n",
       "</div>"
      ],
      "text/plain": [
       "   alcohol  malic_acid   ash  alcalinity_of_ash  magnesium  total_phenols  \\\n",
       "0    14.23        1.71  2.43               15.6      127.0           2.80   \n",
       "1    13.20        1.78  2.14               11.2      100.0           2.65   \n",
       "2    13.16        2.36  2.67               18.6      101.0           2.80   \n",
       "3    14.37        1.95  2.50               16.8      113.0           3.85   \n",
       "4    13.24        2.59  2.87               21.0      118.0           2.80   \n",
       "\n",
       "   flavanoids  nonflavanoid_phenols  proanthocyanins  color_intensity   hue  \\\n",
       "0        3.06                  0.28             2.29             5.64  1.04   \n",
       "1        2.76                  0.26             1.28             4.38  1.05   \n",
       "2        3.24                  0.30             2.81             5.68  1.03   \n",
       "3        3.49                  0.24             2.18             7.80  0.86   \n",
       "4        2.69                  0.39             1.82             4.32  1.04   \n",
       "\n",
       "   od280/od315_of_diluted_wines  proline         y  \n",
       "0                          3.92   1065.0  Ellipsis  \n",
       "1                          3.40   1050.0  Ellipsis  \n",
       "2                          3.17   1185.0  Ellipsis  \n",
       "3                          3.45   1480.0  Ellipsis  \n",
       "4                          2.93    735.0  Ellipsis  "
      ]
     },
     "execution_count": 3,
     "metadata": {},
     "output_type": "execute_result"
    }
   ],
   "source": [
    "data = load_wine(as_frame=True)\n",
    "df = data.data.copy()  # features\n",
    "# Look at the documentation (https://scikit-learn.org/stable/modules/generated/sklearn.datasets.load_wine.html)\n",
    "# and save the label in a column called 'y' in df.\n",
    "df['y'] = ... ## YOUR CODE HERE # label\n",
    "df.head()"
   ]
  },
  {
   "cell_type": "code",
   "execution_count": 7,
   "metadata": {},
   "outputs": [],
   "source": [
    "def action_0():\n",
    "    return np.random.choice([1, 0], p=[0.5, 0.5])\n",
    "\n",
    "def action_1():\n",
    "    return np.random.choice([1, 0], p=[0.6, 0.4])\n",
    "\n",
    "def action_2():\n",
    "    return np.random.choice([1, 0], p=[0.2, 0.8])\n",
    "\n",
    "rewards = [action_0, action_1, action_2]\n",
    "\n"
   ]
  },
  {
   "cell_type": "code",
   "execution_count": 8,
   "metadata": {},
   "outputs": [
    {
     "name": "stdout",
     "output_type": "stream",
     "text": [
      "Pull 0 (action_0): reward=1\n",
      "Pull 1 (action_0): reward=0\n",
      "Pull 2 (action_0): reward=0\n",
      "Pull 3 (action_0): reward=1\n",
      "Pull 4 (action_0): reward=0\n",
      "Pull 5 (action_0): reward=1\n",
      "Pull 6 (action_0): reward=0\n",
      "Pull 7 (action_0): reward=1\n",
      "Pull 8 (action_0): reward=0\n",
      "Pull 9 (action_0): reward=0\n"
     ]
    }
   ],
   "source": [
    "for i in range(10):\n",
    "    print('Pull %d (action_0): reward=%d' % (i, rewards[0]()))\n"
   ]
  },
  {
   "cell_type": "code",
   "execution_count": 9,
   "metadata": {},
   "outputs": [
    {
     "name": "stdout",
     "output_type": "stream",
     "text": [
      "Action 0: Q(a_0)=0.50\n",
      "Action 1: Q(a_1)=0.60\n",
      "Action 2: Q(a_2)=0.20\n"
     ]
    }
   ],
   "source": [
    "# Simulate action values (Q): expected reward for each action\n",
    "pulls = 100000\n",
    "\n",
    "action_values = []\n",
    "for reward in rewards:\n",
    "    value = [reward() for _ in range(pulls)]  # execute each of the actions 'pulls' times\n",
    "    action_values.append(value)\n",
    "\n",
    "for action, value in enumerate(action_values):\n",
    "    print(\"Action %d: Q(a_%d)=%.2f\" % (action, action, np.mean(value)))"
   ]
  },
  {
   "cell_type": "code",
   "execution_count": 10,
   "metadata": {},
   "outputs": [],
   "source": [
    "# Define a policy:\n",
    "def policy_random():\n",
    "    '''Returns which action to perform using equal probabilities for each action'''\n",
    "    return np.random.choice([0, 1, 2], p=[1/3, 1/3, 1/3])\n",
    "\n",
    "\n",
    "def policy_better():\n",
    "    ''' A better policy than random: we choose actions 0 and 1 more often than action 2'''\n",
    "    return np.random.choice([0, 1, 2], p=[0.4, 0.5, 0.1])"
   ]
  },
  {
   "cell_type": "code",
   "execution_count": 11,
   "metadata": {},
   "outputs": [
    {
     "name": "stdout",
     "output_type": "stream",
     "text": [
      "Total reward = 43095\n",
      "Average reward: V = 0.43095\n"
     ]
    }
   ],
   "source": [
    "# Simulate Values using the random policy\n",
    "total_reward = 0\n",
    "for pull in range(pulls):\n",
    "    action = policy_random()\n",
    "    total_reward += rewards[action]()\n",
    "print(\"Total reward =\", total_reward)\n",
    "print(\"Average reward: V =\", total_reward/pulls)"
   ]
  },
  {
   "cell_type": "code",
   "execution_count": 12,
   "metadata": {},
   "outputs": [
    {
     "name": "stdout",
     "output_type": "stream",
     "text": [
      "Total reward = 52081\n",
      "Average reward: V = 0.52081\n"
     ]
    }
   ],
   "source": [
    "# Simulate Values using the better policy\n",
    "total_reward = 0\n",
    "for pull in range(pulls):\n",
    "    action = policy_better()\n",
    "    total_reward += rewards[action]()\n",
    "print(\"Total reward =\", total_reward)\n",
    "print(\"Average reward: V =\", total_reward/pulls)"
   ]
  },
  {
   "cell_type": "code",
   "execution_count": 13,
   "metadata": {},
   "outputs": [],
   "source": [
    "def policy_greedy(action_values):\n",
    "    '''Always returns the action for which the payoff is highest'''\n",
    "    best_action = np.argmax([np.mean(value) for value in action_values])\n",
    "    return best_action\n",
    "\n",
    "\n",
    "def policy_e_greedy(action_values, epsilon=0.05):\n",
    "    '''We explore with epsilon probability, and choose the best action the rest of the time'''\n",
    "    explore = np.random.choice([1, 0], p=[epsilon, 1-epsilon])\n",
    "    if explore:\n",
    "        # Random action\n",
    "        return policy_random()\n",
    "    else:\n",
    "        # Choose best action\n",
    "        return policy_greedy(action_values)"
   ]
  },
  {
   "cell_type": "code",
   "execution_count": null,
   "metadata": {},
   "outputs": [],
   "source": []
  }
 ],
 "metadata": {
  "kernelspec": {
   "display_name": "Python 3",
   "language": "python",
   "name": "python3"
  },
  "language_info": {
   "codemirror_mode": {
    "name": "ipython",
    "version": 3
   },
   "file_extension": ".py",
   "mimetype": "text/x-python",
   "name": "python",
   "nbconvert_exporter": "python",
   "pygments_lexer": "ipython3",
   "version": "3.8.5"
  }
 },
 "nbformat": 4,
 "nbformat_minor": 4
}
