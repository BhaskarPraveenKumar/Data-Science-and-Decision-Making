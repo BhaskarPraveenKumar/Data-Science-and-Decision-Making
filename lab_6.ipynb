{
 "cells": [
  {
   "cell_type": "code",
   "execution_count": 1,
   "metadata": {},
   "outputs": [],
   "source": [
    "import pandas as pd\n",
    "import numpy as np\n",
    "import matplotlib.pyplot as plt\n",
    "np.set_printoptions(precision=3)"
   ]
  },
  {
   "cell_type": "code",
   "execution_count": 2,
   "metadata": {},
   "outputs": [],
   "source": [
    "df = pd.read_csv(\"https://raw.githubusercontent.com/albanda/CE888/master/lab4-recommender/jester-data-1.csv\",header=None)"
   ]
  },
  {
   "cell_type": "code",
   "execution_count": 4,
   "metadata": {},
   "outputs": [],
   "source": [
    "df = df.drop([df.columns[0]], axis=1)"
   ]
  },
  {
   "cell_type": "code",
   "execution_count": 5,
   "metadata": {},
   "outputs": [
    {
     "name": "stdout",
     "output_type": "stream",
     "text": [
      "1      34.401435\n",
      "2      27.094089\n",
      "3      33.263717\n",
      "4      36.244936\n",
      "5       0.427236\n",
      "         ...    \n",
      "96     58.541104\n",
      "97     58.017246\n",
      "98     57.061650\n",
      "99     55.753357\n",
      "100    60.138090\n",
      "Length: 100, dtype: float64\n"
     ]
    }
   ],
   "source": [
    "datamean = df.mean(axis=0)\n",
    "print(datamean)"
   ]
  },
  {
   "cell_type": "code",
   "execution_count": 6,
   "metadata": {},
   "outputs": [
    {
     "data": {
      "text/plain": [
       "-3.0721222431253103"
      ]
     },
     "execution_count": 6,
     "metadata": {},
     "output_type": "execute_result"
    }
   ],
   "source": [
    "datamean.min()"
   ]
  },
  {
   "cell_type": "code",
   "execution_count": 7,
   "metadata": {},
   "outputs": [
    {
     "data": {
      "text/plain": [
       "65.51174718808778"
      ]
     },
     "execution_count": 7,
     "metadata": {},
     "output_type": "execute_result"
    }
   ],
   "source": [
    "datamean.max()"
   ]
  },
  {
   "cell_type": "code",
   "execution_count": 8,
   "metadata": {},
   "outputs": [
    {
     "name": "stdout",
     "output_type": "stream",
     "text": [
      "72\n"
     ]
    }
   ],
   "source": [
    "max_index = datamean.idxmax() \n",
    "print(max_index)"
   ]
  },
  {
   "cell_type": "code",
   "execution_count": 10,
   "metadata": {},
   "outputs": [
    {
     "name": "stdout",
     "output_type": "stream",
     "text": [
      "1810455 (1810455,)\n"
     ]
    }
   ],
   "source": [
    "arr = df.values\n",
    "rated = np.where(arr!=99)\n",
    "print(len(rated[0]), rated[1].shape)"
   ]
  },
  {
   "cell_type": "code",
   "execution_count": 11,
   "metadata": {},
   "outputs": [],
   "source": [
    "def replace(orig, percentage=0.1):\n",
    "  \"\"\"\n",
    "  Replaces 'percentage'% of the original values in 'orig' with 99's\n",
    "  :param orig: original data array\n",
    "  :param percentage: percentage of values to replace (0<percentage<1)\n",
    "  \"\"\"\n",
    "  new_data = orig.copy()\n",
    "  rated = np.where(arr!=99)\n",
    "  n_rated = len(rated[0])\n",
    "  idx = np.random.choice(n_rated, size=int(percentage*n_rated), replace=False)\n",
    "  new_data[rated[0][idx], rated[1][idx]] = 99\n",
    "  return new_data, (rated[0][idx], rated[1][idx])"
   ]
  },
  {
   "cell_type": "code",
   "execution_count": 12,
   "metadata": {},
   "outputs": [],
   "source": [
    "new_arr, idx = replace(arr, 0.1) #validation set"
   ]
  },
  {
   "cell_type": "code",
   "execution_count": 14,
   "metadata": {},
   "outputs": [],
   "source": [
    "n_latent_factors = 2\n",
    "\n",
    "user_ratings = df.values\n",
    "# Initialise as random values\n",
    "latent_user_preferences = np.random.random((user_ratings.shape[0], n_latent_factors))\n",
    "latent_item_features = np.random.random((user_ratings.shape[1], n_latent_factors))"
   ]
  },
  {
   "cell_type": "code",
   "execution_count": null,
   "metadata": {},
   "outputs": [],
   "source": [
    "\n",
    "\n",
    "latent_user_preferences\n",
    "\n"
   ]
  }
 ],
 "metadata": {
  "kernelspec": {
   "display_name": "Python 3",
   "language": "python",
   "name": "python3"
  },
  "language_info": {
   "codemirror_mode": {
    "name": "ipython",
    "version": 3
   },
   "file_extension": ".py",
   "mimetype": "text/x-python",
   "name": "python",
   "nbconvert_exporter": "python",
   "pygments_lexer": "ipython3",
   "version": "3.8.5"
  }
 },
 "nbformat": 4,
 "nbformat_minor": 4
}
