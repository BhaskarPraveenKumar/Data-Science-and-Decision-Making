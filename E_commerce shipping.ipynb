{
 "cells": [
  {
   "cell_type": "markdown",
   "metadata": {},
   "source": [
    "### Load Libraries"
   ]
  },
  {
   "cell_type": "code",
   "execution_count": 1,
   "metadata": {},
   "outputs": [],
   "source": [
    "import pandas as pd\n",
    "import matplotlib.pyplot as plt\n",
    "%matplotlib inline\n",
    "import seaborn as sns\n",
    "\n",
    "from collections import Counter\n",
    "from imblearn.datasets import make_imbalance"
   ]
  },
  {
   "cell_type": "code",
   "execution_count": 2,
   "metadata": {},
   "outputs": [],
   "source": [
    "#load the data\n",
    "df = pd.read_csv('Train.csv')\n",
    "# to visualize all the columns at once.\n",
    "pd.set_option('display.max_columns', None)"
   ]
  },
  {
   "cell_type": "code",
   "execution_count": 3,
   "metadata": {},
   "outputs": [
    {
     "data": {
      "text/html": [
       "<div>\n",
       "<style scoped>\n",
       "    .dataframe tbody tr th:only-of-type {\n",
       "        vertical-align: middle;\n",
       "    }\n",
       "\n",
       "    .dataframe tbody tr th {\n",
       "        vertical-align: top;\n",
       "    }\n",
       "\n",
       "    .dataframe thead th {\n",
       "        text-align: right;\n",
       "    }\n",
       "</style>\n",
       "<table border=\"1\" class=\"dataframe\">\n",
       "  <thead>\n",
       "    <tr style=\"text-align: right;\">\n",
       "      <th></th>\n",
       "      <th>ID</th>\n",
       "      <th>Warehouse_block</th>\n",
       "      <th>Mode_of_Shipment</th>\n",
       "      <th>Customer_care_calls</th>\n",
       "      <th>Customer_rating</th>\n",
       "      <th>Cost_of_the_Product</th>\n",
       "      <th>Prior_purchases</th>\n",
       "      <th>Product_importance</th>\n",
       "      <th>Gender</th>\n",
       "      <th>Discount_offered</th>\n",
       "      <th>Weight_in_gms</th>\n",
       "      <th>Reached.on.Time_Y.N</th>\n",
       "    </tr>\n",
       "  </thead>\n",
       "  <tbody>\n",
       "    <tr>\n",
       "      <th>0</th>\n",
       "      <td>891</td>\n",
       "      <td>A</td>\n",
       "      <td>Ship</td>\n",
       "      <td>3</td>\n",
       "      <td>4</td>\n",
       "      <td>266</td>\n",
       "      <td>2</td>\n",
       "      <td>high</td>\n",
       "      <td>F</td>\n",
       "      <td>33</td>\n",
       "      <td>3798</td>\n",
       "      <td>1</td>\n",
       "    </tr>\n",
       "    <tr>\n",
       "      <th>1</th>\n",
       "      <td>892</td>\n",
       "      <td>B</td>\n",
       "      <td>Ship</td>\n",
       "      <td>3</td>\n",
       "      <td>4</td>\n",
       "      <td>255</td>\n",
       "      <td>4</td>\n",
       "      <td>low</td>\n",
       "      <td>F</td>\n",
       "      <td>12</td>\n",
       "      <td>2266</td>\n",
       "      <td>1</td>\n",
       "    </tr>\n",
       "    <tr>\n",
       "      <th>2</th>\n",
       "      <td>893</td>\n",
       "      <td>C</td>\n",
       "      <td>Ship</td>\n",
       "      <td>4</td>\n",
       "      <td>1</td>\n",
       "      <td>166</td>\n",
       "      <td>3</td>\n",
       "      <td>high</td>\n",
       "      <td>F</td>\n",
       "      <td>3</td>\n",
       "      <td>1453</td>\n",
       "      <td>1</td>\n",
       "    </tr>\n",
       "    <tr>\n",
       "      <th>3</th>\n",
       "      <td>894</td>\n",
       "      <td>F</td>\n",
       "      <td>Ship</td>\n",
       "      <td>3</td>\n",
       "      <td>2</td>\n",
       "      <td>232</td>\n",
       "      <td>2</td>\n",
       "      <td>low</td>\n",
       "      <td>F</td>\n",
       "      <td>39</td>\n",
       "      <td>2139</td>\n",
       "      <td>1</td>\n",
       "    </tr>\n",
       "    <tr>\n",
       "      <th>4</th>\n",
       "      <td>895</td>\n",
       "      <td>D</td>\n",
       "      <td>Ship</td>\n",
       "      <td>3</td>\n",
       "      <td>5</td>\n",
       "      <td>198</td>\n",
       "      <td>2</td>\n",
       "      <td>medium</td>\n",
       "      <td>F</td>\n",
       "      <td>62</td>\n",
       "      <td>3015</td>\n",
       "      <td>1</td>\n",
       "    </tr>\n",
       "  </tbody>\n",
       "</table>\n",
       "</div>"
      ],
      "text/plain": [
       "    ID Warehouse_block Mode_of_Shipment  Customer_care_calls  Customer_rating  \\\n",
       "0  891               A             Ship                    3                4   \n",
       "1  892               B             Ship                    3                4   \n",
       "2  893               C             Ship                    4                1   \n",
       "3  894               F             Ship                    3                2   \n",
       "4  895               D             Ship                    3                5   \n",
       "\n",
       "   Cost_of_the_Product  Prior_purchases Product_importance Gender  \\\n",
       "0                  266                2               high      F   \n",
       "1                  255                4                low      F   \n",
       "2                  166                3               high      F   \n",
       "3                  232                2                low      F   \n",
       "4                  198                2             medium      F   \n",
       "\n",
       "   Discount_offered  Weight_in_gms  Reached.on.Time_Y.N  \n",
       "0                33           3798                    1  \n",
       "1                12           2266                    1  \n",
       "2                 3           1453                    1  \n",
       "3                39           2139                    1  \n",
       "4                62           3015                    1  "
      ]
     },
     "execution_count": 3,
     "metadata": {},
     "output_type": "execute_result"
    }
   ],
   "source": [
    "#fetch first five rows\n",
    "df.head()"
   ]
  },
  {
   "cell_type": "code",
   "execution_count": 4,
   "metadata": {},
   "outputs": [
    {
     "name": "stdout",
     "output_type": "stream",
     "text": [
      "<class 'pandas.core.frame.DataFrame'>\n",
      "RangeIndex: 10109 entries, 0 to 10108\n",
      "Data columns (total 12 columns):\n",
      " #   Column               Non-Null Count  Dtype \n",
      "---  ------               --------------  ----- \n",
      " 0   ID                   10109 non-null  int64 \n",
      " 1   Warehouse_block      10109 non-null  object\n",
      " 2   Mode_of_Shipment     10109 non-null  object\n",
      " 3   Customer_care_calls  10109 non-null  int64 \n",
      " 4   Customer_rating      10109 non-null  int64 \n",
      " 5   Cost_of_the_Product  10109 non-null  int64 \n",
      " 6   Prior_purchases      10109 non-null  int64 \n",
      " 7   Product_importance   10109 non-null  object\n",
      " 8   Gender               10109 non-null  object\n",
      " 9   Discount_offered     10109 non-null  int64 \n",
      " 10  Weight_in_gms        10109 non-null  int64 \n",
      " 11  Reached.on.Time_Y.N  10109 non-null  int64 \n",
      "dtypes: int64(8), object(4)\n",
      "memory usage: 947.8+ KB\n"
     ]
    }
   ],
   "source": [
    "df.info()"
   ]
  },
  {
   "cell_type": "code",
   "execution_count": 5,
   "metadata": {},
   "outputs": [
    {
     "data": {
      "text/html": [
       "<div>\n",
       "<style scoped>\n",
       "    .dataframe tbody tr th:only-of-type {\n",
       "        vertical-align: middle;\n",
       "    }\n",
       "\n",
       "    .dataframe tbody tr th {\n",
       "        vertical-align: top;\n",
       "    }\n",
       "\n",
       "    .dataframe thead th {\n",
       "        text-align: right;\n",
       "    }\n",
       "</style>\n",
       "<table border=\"1\" class=\"dataframe\">\n",
       "  <thead>\n",
       "    <tr style=\"text-align: right;\">\n",
       "      <th></th>\n",
       "      <th>ID</th>\n",
       "      <th>Customer_care_calls</th>\n",
       "      <th>Customer_rating</th>\n",
       "      <th>Cost_of_the_Product</th>\n",
       "      <th>Prior_purchases</th>\n",
       "      <th>Discount_offered</th>\n",
       "      <th>Weight_in_gms</th>\n",
       "      <th>Reached.on.Time_Y.N</th>\n",
       "    </tr>\n",
       "  </thead>\n",
       "  <tbody>\n",
       "    <tr>\n",
       "      <th>count</th>\n",
       "      <td>10109.00000</td>\n",
       "      <td>10109.000000</td>\n",
       "      <td>10109.000000</td>\n",
       "      <td>10109.000000</td>\n",
       "      <td>10109.000000</td>\n",
       "      <td>10109.000000</td>\n",
       "      <td>10109.000000</td>\n",
       "      <td>10109.000000</td>\n",
       "    </tr>\n",
       "    <tr>\n",
       "      <th>mean</th>\n",
       "      <td>5945.00000</td>\n",
       "      <td>4.091008</td>\n",
       "      <td>2.989316</td>\n",
       "      <td>211.794342</td>\n",
       "      <td>3.602236</td>\n",
       "      <td>11.671778</td>\n",
       "      <td>3747.578099</td>\n",
       "      <td>0.561183</td>\n",
       "    </tr>\n",
       "    <tr>\n",
       "      <th>std</th>\n",
       "      <td>2918.36127</td>\n",
       "      <td>1.143981</td>\n",
       "      <td>1.415152</td>\n",
       "      <td>47.967415</td>\n",
       "      <td>1.541395</td>\n",
       "      <td>14.791831</td>\n",
       "      <td>1632.358252</td>\n",
       "      <td>0.496267</td>\n",
       "    </tr>\n",
       "    <tr>\n",
       "      <th>min</th>\n",
       "      <td>891.00000</td>\n",
       "      <td>2.000000</td>\n",
       "      <td>1.000000</td>\n",
       "      <td>96.000000</td>\n",
       "      <td>2.000000</td>\n",
       "      <td>1.000000</td>\n",
       "      <td>1001.000000</td>\n",
       "      <td>0.000000</td>\n",
       "    </tr>\n",
       "    <tr>\n",
       "      <th>25%</th>\n",
       "      <td>3418.00000</td>\n",
       "      <td>3.000000</td>\n",
       "      <td>2.000000</td>\n",
       "      <td>171.000000</td>\n",
       "      <td>3.000000</td>\n",
       "      <td>4.000000</td>\n",
       "      <td>1879.000000</td>\n",
       "      <td>0.000000</td>\n",
       "    </tr>\n",
       "    <tr>\n",
       "      <th>50%</th>\n",
       "      <td>5945.00000</td>\n",
       "      <td>4.000000</td>\n",
       "      <td>3.000000</td>\n",
       "      <td>217.000000</td>\n",
       "      <td>3.000000</td>\n",
       "      <td>7.000000</td>\n",
       "      <td>4295.000000</td>\n",
       "      <td>1.000000</td>\n",
       "    </tr>\n",
       "    <tr>\n",
       "      <th>75%</th>\n",
       "      <td>8472.00000</td>\n",
       "      <td>5.000000</td>\n",
       "      <td>4.000000</td>\n",
       "      <td>252.000000</td>\n",
       "      <td>4.000000</td>\n",
       "      <td>10.000000</td>\n",
       "      <td>5130.000000</td>\n",
       "      <td>1.000000</td>\n",
       "    </tr>\n",
       "    <tr>\n",
       "      <th>max</th>\n",
       "      <td>10999.00000</td>\n",
       "      <td>7.000000</td>\n",
       "      <td>5.000000</td>\n",
       "      <td>310.000000</td>\n",
       "      <td>10.000000</td>\n",
       "      <td>65.000000</td>\n",
       "      <td>6000.000000</td>\n",
       "      <td>1.000000</td>\n",
       "    </tr>\n",
       "  </tbody>\n",
       "</table>\n",
       "</div>"
      ],
      "text/plain": [
       "                ID  Customer_care_calls  Customer_rating  Cost_of_the_Product  \\\n",
       "count  10109.00000         10109.000000     10109.000000         10109.000000   \n",
       "mean    5945.00000             4.091008         2.989316           211.794342   \n",
       "std     2918.36127             1.143981         1.415152            47.967415   \n",
       "min      891.00000             2.000000         1.000000            96.000000   \n",
       "25%     3418.00000             3.000000         2.000000           171.000000   \n",
       "50%     5945.00000             4.000000         3.000000           217.000000   \n",
       "75%     8472.00000             5.000000         4.000000           252.000000   \n",
       "max    10999.00000             7.000000         5.000000           310.000000   \n",
       "\n",
       "       Prior_purchases  Discount_offered  Weight_in_gms  Reached.on.Time_Y.N  \n",
       "count     10109.000000      10109.000000   10109.000000         10109.000000  \n",
       "mean          3.602236         11.671778    3747.578099             0.561183  \n",
       "std           1.541395         14.791831    1632.358252             0.496267  \n",
       "min           2.000000          1.000000    1001.000000             0.000000  \n",
       "25%           3.000000          4.000000    1879.000000             0.000000  \n",
       "50%           3.000000          7.000000    4295.000000             1.000000  \n",
       "75%           4.000000         10.000000    5130.000000             1.000000  \n",
       "max          10.000000         65.000000    6000.000000             1.000000  "
      ]
     },
     "execution_count": 5,
     "metadata": {},
     "output_type": "execute_result"
    }
   ],
   "source": [
    "df.describe()"
   ]
  },
  {
   "cell_type": "code",
   "execution_count": 6,
   "metadata": {},
   "outputs": [
    {
     "data": {
      "text/plain": [
       "ID                    -0.347104\n",
       "Weight_in_gms         -0.228124\n",
       "Cost_of_the_Product   -0.049856\n",
       "Customer_care_calls   -0.043790\n",
       "Prior_purchases       -0.039121\n",
       "Customer_rating        0.013327\n",
       "Discount_offered       0.366228\n",
       "Reached.on.Time_Y.N    1.000000\n",
       "Name: Reached.on.Time_Y.N, dtype: float64"
      ]
     },
     "execution_count": 6,
     "metadata": {},
     "output_type": "execute_result"
    }
   ],
   "source": [
    "# correlation matrix\n",
    "corr = df.corr()\n",
    "corr['Reached.on.Time_Y.N'].sort_values(ascending=True)"
   ]
  },
  {
   "cell_type": "code",
   "execution_count": 7,
   "metadata": {},
   "outputs": [
    {
     "data": {
      "image/png": "[encoded data removed]",
      "text/plain": [
       "<Figure size 1440x720 with 2 Axes>"
      ]
     },
     "metadata": {
      "needs_background": "light"
     },
     "output_type": "display_data"
    }
   ],
   "source": [
    "# plotting heatmap for obeserving correlation\n",
    "sns.heatmap(data = corr, annot = True)\n",
    "plt.gcf().set_size_inches(20,10)"
   ]
  },
  {
   "cell_type": "markdown",
   "metadata": {},
   "source": [
    "### Summary of Dataset features\n",
    "- Total Data instances - 10109\n",
    "- Total column - 12"
   ]
  },
  {
   "cell_type": "markdown",
   "metadata": {},
   "source": [
    "### Data Pre-Processing"
   ]
  },
  {
   "cell_type": "code",
   "execution_count": 8,
   "metadata": {},
   "outputs": [
    {
     "data": {
      "text/plain": [
       "ID                     0\n",
       "Warehouse_block        0\n",
       "Mode_of_Shipment       0\n",
       "Customer_care_calls    0\n",
       "Customer_rating        0\n",
       "Cost_of_the_Product    0\n",
       "Prior_purchases        0\n",
       "Product_importance     0\n",
       "Gender                 0\n",
       "Discount_offered       0\n",
       "Weight_in_gms          0\n",
       "Reached.on.Time_Y.N    0\n",
       "dtype: int64"
      ]
     },
     "execution_count": 8,
     "metadata": {},
     "output_type": "execute_result"
    }
   ],
   "source": [
    "df.isnull().sum()"
   ]
  },
  {
   "cell_type": "code",
   "execution_count": 9,
   "metadata": {},
   "outputs": [
    {
     "data": {
      "text/plain": [
       "0"
      ]
     },
     "execution_count": 9,
     "metadata": {},
     "output_type": "execute_result"
    }
   ],
   "source": [
    "df.duplicated().sum()"
   ]
  },
  {
   "cell_type": "markdown",
   "metadata": {},
   "source": [
    "### Summary of Pre-Processing\n",
    "- Surprisingly this is a clean data and consequently left with no null values"
   ]
  },
  {
   "cell_type": "markdown",
   "metadata": {},
   "source": [
    "### Univariate analysis for target feature"
   ]
  },
  {
   "cell_type": "code",
   "execution_count": 10,
   "metadata": {},
   "outputs": [
    {
     "data": {
      "text/plain": [
       "1    5673\n",
       "0    4436\n",
       "Name: Reached.on.Time_Y.N, dtype: int64"
      ]
     },
     "execution_count": 10,
     "metadata": {},
     "output_type": "execute_result"
    }
   ],
   "source": [
    "df['Reached.on.Time_Y.N'].value_counts()"
   ]
  },
  {
   "cell_type": "code",
   "execution_count": 11,
   "metadata": {},
   "outputs": [
    {
     "name": "stdout",
     "output_type": "stream",
     "text": [
      "Class 0 before imbalance: 56.1 %\n",
      "Class 1 before imbalance: 43.9 %\n"
     ]
    }
   ],
   "source": [
    "class_0, class_1 = df['Reached.on.Time_Y.N'].value_counts(normalize = True)\n",
    "print(f'Class 0 before imbalance:', round(class_0 *100,1) ,'%')\n",
    "print(f'Class 1 before imbalance:', round(class_1 *100,1) ,'%')"
   ]
  },
  {
   "cell_type": "code",
   "execution_count": 12,
   "metadata": {},
   "outputs": [
    {
     "data": {
      "image/png": "[encoded data removed]",
      "text/plain": [
       "<Figure size 432x288 with 1 Axes>"
      ]
     },
     "metadata": {
      "needs_background": "light"
     },
     "output_type": "display_data"
    }
   ],
   "source": [
    "sns.countplot(x = 'Reached.on.Time_Y.N', data = df)\n",
    "plt.title('Target_Labels Distribution')\n",
    "plt.xlabel('Target_Labels')\n",
    "plt.ylabel('Total Number of instances')\n",
    "plt.savefig('Target_Labels Distributions.jpg')"
   ]
  },
  {
   "cell_type": "markdown",
   "metadata": {},
   "source": [
    "### Imbalancing the target feature\n",
    "- As mentioned in the project small imbalances of one class is fine, I'll proceed ahead with the further step 'making the target feature imbalance'"
   ]
  },
  {
   "cell_type": "code",
   "execution_count": 13,
   "metadata": {},
   "outputs": [],
   "source": [
    "X = df.loc[:, df.columns != 'Reached.on.Time_Y.N']\n",
    "y = df.loc[:,'Reached.on.Time_Y.N'].copy() # lets work with the copy without disturbing the original target feature"
   ]
  },
  {
   "cell_type": "code",
   "execution_count": 14,
   "metadata": {},
   "outputs": [
    {
     "data": {
      "text/plain": [
       "((10109, 11), (10109,))"
      ]
     },
     "execution_count": 14,
     "metadata": {},
     "output_type": "execute_result"
    }
   ],
   "source": [
    "X.shape, y.shape"
   ]
  },
  {
   "cell_type": "code",
   "execution_count": 15,
   "metadata": {},
   "outputs": [
    {
     "name": "stdout",
     "output_type": "stream",
     "text": [
      "Distribution after imbalancing: Counter({0: 4436, 1: 2380})\n"
     ]
    }
   ],
   "source": [
    "# 65% imbalance\n",
    "X_65, y_65 = make_imbalance(X, y, sampling_strategy={0:443 , 1: 2380}, random_state=48)\n",
    "print(f'Distribution after imbalancing: {Counter(y_65)}')"
   ]
  },
  {
   "cell_type": "code",
   "execution_count": 16,
   "metadata": {},
   "outputs": [
    {
     "name": "stdout",
     "output_type": "stream",
     "text": [
      "Class 0 after imbalance: 65.1 %\n",
      "Class 1 after imbalance: 34.9 %\n"
     ]
    }
   ],
   "source": [
    "class0 , class1 = y_65.value_counts(normalize = True)\n",
    "print(f'Class 0 after imbalance:', round(class0 *100,1) ,'%')\n",
    "print(f'Class 1 after imbalance:', round(class1 *100,1) ,'%')"
   ]
  },
  {
   "cell_type": "code",
   "execution_count": 17,
   "metadata": {},
   "outputs": [
    {
     "data": {
      "image/png": "[encoded data removed]",
      "text/plain": [
       "<Figure size 432x288 with 1 Axes>"
      ]
     },
     "metadata": {
      "needs_background": "light"
     },
     "output_type": "display_data"
    }
   ],
   "source": [
    "# 65% imbalance target feature\n",
    "y_65.hist() \n",
    "plt.title('Imbalance_65% Class Distributions')\n",
    "plt.xlabel('Target_Labels')\n",
    "plt.ylabel('Total Number of instances')\n",
    "plt.savefig('Imbalance_65% Class Distributions.jpg')"
   ]
  },
  {
   "cell_type": "code",
   "execution_count": 18,
   "metadata": {},
   "outputs": [
    {
     "name": "stdout",
     "output_type": "stream",
     "text": [
      "Distribution after imbalancing: Counter({0: 4436, 1: 1475})\n"
     ]
    }
   ],
   "source": [
    "# 75% imbalance\n",
    "X_75, y_75 = make_imbalance(X, y, sampling_strategy={0:4436 , 1: 1475}, random_state=48)\n",
    "print(f'Distribution after imbalancing: {Counter(y_75)}')"
   ]
  },
  {
   "cell_type": "code",
   "execution_count": 19,
   "metadata": {},
   "outputs": [
    {
     "name": "stdout",
     "output_type": "stream",
     "text": [
      "Class 0 after imbalance_75%: 75.0 %\n",
      "Class 1 after imbalance_75%: 25.0 %\n"
     ]
    }
   ],
   "source": [
    "class0 , class1 = y_75.value_counts(normalize = True)\n",
    "print(f'Class 0 after imbalance_75%:', round(class0 *100,1) ,'%')\n",
    "print(f'Class 1 after imbalance_75%:', round(class1 *100,1) ,'%')"
   ]
  },
  {
   "cell_type": "code",
   "execution_count": 20,
   "metadata": {},
   "outputs": [
    {
     "data": {
      "image/png": "[encoded data removed]",
      "text/plain": [
       "<Figure size 432x288 with 1 Axes>"
      ]
     },
     "metadata": {
      "needs_background": "light"
     },
     "output_type": "display_data"
    }
   ],
   "source": [
    "# 75% imbalance target feature\n",
    "y_75.hist() \n",
    "plt.title('Imbalance_75% Class Distributions')\n",
    "plt.xlabel('Target_Labels')\n",
    "plt.ylabel('Total Number of instances')\n",
    "plt.savefig('Imbalance_75% Class Distributions.jpg')"
   ]
  },
  {
   "cell_type": "code",
   "execution_count": 21,
   "metadata": {},
   "outputs": [
    {
     "name": "stdout",
     "output_type": "stream",
     "text": [
      "Distribution after imbalancing: Counter({0: 4436, 1: 495})\n"
     ]
    }
   ],
   "source": [
    "# 90% imbalance\n",
    "X_90, y_90 = make_imbalance(X, y, sampling_strategy={0:4436 , 1: 495}, random_state=48)\n",
    "print(f'Distribution after imbalancing: {Counter(y_90)}')"
   ]
  },
  {
   "cell_type": "code",
   "execution_count": 22,
   "metadata": {},
   "outputs": [
    {
     "name": "stdout",
     "output_type": "stream",
     "text": [
      "Class 0 after imbalance_90%: 90.0 %\n",
      "Class 1 after imbalance_90%: 10.0 %\n"
     ]
    }
   ],
   "source": [
    "class0 , class1 = y_90.value_counts(normalize = True)\n",
    "print(f'Class 0 after imbalance_90%:', round(class0 *100,1) ,'%')\n",
    "print(f'Class 1 after imbalance_90%:', round(class1 *100,1) ,'%')"
   ]
  },
  {
   "cell_type": "code",
   "execution_count": 24,
   "metadata": {},
   "outputs": [
    {
     "data": {
      "image/png": "[encoded data removed]",
      "text/plain": [
       "<Figure size 432x288 with 1 Axes>"
      ]
     },
     "metadata": {
      "needs_background": "light"
     },
     "output_type": "display_data"
    }
   ],
   "source": [
    "# 90% imbalance target feature plot\n",
    "y_90.hist() \n",
    "plt.title('Imbalance_90% Class Distributions')\n",
    "plt.xlabel('Target_Labels')\n",
    "plt.ylabel('Total Number of instances')\n",
    "plt.savefig('Imbalance_90% Class Distributions.jpg')"
   ]
  },
  {
   "cell_type": "code",
   "execution_count": null,
   "metadata": {},
   "outputs": [],
   "source": []
  }
 ],
 "metadata": {
  "kernelspec": {
   "display_name": "Python 3",
   "language": "python",
   "name": "python3"
  },
  "language_info": {
   "codemirror_mode": {
    "name": "ipython",
    "version": 3
   },
   "file_extension": ".py",
   "mimetype": "text/x-python",
   "name": "python",
   "nbconvert_exporter": "python",
   "pygments_lexer": "ipython3",
   "version": "3.8.5"
  }
 },
 "nbformat": 4,
 "nbformat_minor": 4
}
